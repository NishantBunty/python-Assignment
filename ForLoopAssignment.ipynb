{
  "nbformat": 4,
  "nbformat_minor": 0,
  "metadata": {
    "colab": {
      "provenance": []
    },
    "kernelspec": {
      "name": "python3",
      "display_name": "Python 3"
    },
    "language_info": {
      "name": "python"
    }
  },
  "cells": [
    {
      "cell_type": "code",
      "execution_count": null,
      "metadata": {
        "colab": {
          "base_uri": "https://localhost:8080/"
        },
        "id": "Rt8Y-CQ1Qnn9",
        "outputId": "bfdeb897-34f1-4f21-f74d-cad728d859f3"
      },
      "outputs": [
        {
          "output_type": "stream",
          "name": "stdout",
          "text": [
            "1\n",
            "2\n",
            "3\n",
            "4\n",
            "5\n",
            "6\n",
            "7\n",
            "8\n",
            "9\n",
            "10\n"
          ]
        }
      ],
      "source": [
        "#1. Write a Python program to print the numbers from 1 to 10 using a `for` loop.\n",
        "for i in range(1,11):\n",
        "  print(i)\n"
      ]
    },
    {
      "cell_type": "code",
      "source": [
        "#2. Create a program that calculates the sum of all numbers in a list using a `for` loop\n",
        "\n",
        "list = [1,2,3,4,5,6]\n",
        "sum =0\n",
        "for i in list:\n",
        "  sum =sum+i\n",
        "\n",
        "print(sum)"
      ],
      "metadata": {
        "colab": {
          "base_uri": "https://localhost:8080/"
        },
        "id": "_4DPlftIRBTp",
        "outputId": "e5613706-a243-4a0b-ee5d-e2d7a01cd506"
      },
      "execution_count": null,
      "outputs": [
        {
          "output_type": "stream",
          "name": "stdout",
          "text": [
            "21\n"
          ]
        }
      ]
    },
    {
      "cell_type": "code",
      "source": [
        "# 3. Write a program to print the characters of a string in reverse order using a `for` loop.\n",
        "# Input string\n",
        "input_string = input(\"Enter a string: \")\n",
        "\n",
        "# Initialize an empty string to store the reversed string\n",
        "reversed_string = \"\"\n",
        "\n",
        "for i in range(0,len(input_string)):\n",
        "    reversed_string = input_string[i] + reversed_string\n",
        "\n",
        "# Print the reversed string\n",
        "print(\"Reversed string:\", reversed_string)\n"
      ],
      "metadata": {
        "colab": {
          "base_uri": "https://localhost:8080/"
        },
        "id": "vmW5_GJZRdT2",
        "outputId": "327ce60d-7ffa-451c-d21d-55e4d1564dea"
      },
      "execution_count": null,
      "outputs": [
        {
          "output_type": "stream",
          "name": "stdout",
          "text": [
            "Enter a string: nishant\n",
            "Reversed string: tnahsin\n"
          ]
        }
      ]
    },
    {
      "cell_type": "code",
      "source": [
        "# 4. Develop a program that finds the factorial of a given number using a `for` loop.\n",
        "\n",
        "num = int(input(\"Enter a number: \"))\n",
        "factorial=1\n",
        "for i in range(1, num+1):\n",
        "  factorial =factorial*i\n",
        "\n",
        "print(factorial)\n"
      ],
      "metadata": {
        "colab": {
          "base_uri": "https://localhost:8080/"
        },
        "id": "cP6s90d9TetS",
        "outputId": "fd73d07e-7053-49a3-a570-d5536dc1d44a"
      },
      "execution_count": null,
      "outputs": [
        {
          "output_type": "stream",
          "name": "stdout",
          "text": [
            "Enter a number: 5\n",
            "120\n"
          ]
        }
      ]
    },
    {
      "cell_type": "code",
      "source": [
        "# 5. Create a program to print the multiplication table of a given number using a `for` loop.\n",
        "num = int(input(\"Enter a number: \"))\n",
        "for i in range(1,11):\n",
        "  print(num*i)\n"
      ],
      "metadata": {
        "colab": {
          "base_uri": "https://localhost:8080/"
        },
        "id": "OLD_haicUevA",
        "outputId": "46a42cb5-c3a2-4ec0-85fa-1b1cddcab578"
      },
      "execution_count": null,
      "outputs": [
        {
          "output_type": "stream",
          "name": "stdout",
          "text": [
            "Enter a number: 2\n",
            "2\n",
            "4\n",
            "6\n",
            "8\n",
            "10\n",
            "12\n",
            "14\n",
            "16\n",
            "18\n",
            "20\n"
          ]
        }
      ]
    },
    {
      "cell_type": "code",
      "source": [
        "# 6. Write a program that counts the number of even and odd numbers in a list using a `for` loop.\n",
        "list1 =[2,4,3,6,9,10,11]\n",
        "counteven =0\n",
        "countodd =0\n",
        "\n",
        "for i in list1:\n",
        "  if i%2 == 0:\n",
        "    counteven+=1\n",
        "  else:\n",
        "    countodd+=1\n",
        "print(counteven)\n",
        "print(countodd)\n",
        "\n"
      ],
      "metadata": {
        "colab": {
          "base_uri": "https://localhost:8080/"
        },
        "id": "91wc8jVdVFvb",
        "outputId": "3c6db4c3-3d93-4c22-bbd0-11b84b6c8c69"
      },
      "execution_count": null,
      "outputs": [
        {
          "output_type": "stream",
          "name": "stdout",
          "text": [
            "4\n",
            "3\n"
          ]
        }
      ]
    },
    {
      "cell_type": "code",
      "source": [
        "# 7. Develop a program that prints the squares of numbers from 1 to 5 using a `for` loop.\n",
        "square =1\n",
        "for i in range(1,6):\n",
        "  print(i*i)\n",
        "\n"
      ],
      "metadata": {
        "colab": {
          "base_uri": "https://localhost:8080/"
        },
        "id": "Hnb8KErIVy_-",
        "outputId": "9f8f7380-32d5-4112-8323-933766f886c5"
      },
      "execution_count": null,
      "outputs": [
        {
          "output_type": "stream",
          "name": "stdout",
          "text": [
            "1\n",
            "4\n",
            "9\n",
            "16\n",
            "25\n"
          ]
        }
      ]
    },
    {
      "cell_type": "code",
      "source": [
        "# 8. Create a program to find the length of a string without using the `len()` function.\n",
        "\n",
        "input_string =input(\"Enter the string:\")\n",
        "count = 0\n",
        "\n",
        "for i in input_string:\n",
        "  count+=1\n",
        "\n",
        "print(count)\n"
      ],
      "metadata": {
        "colab": {
          "base_uri": "https://localhost:8080/"
        },
        "id": "us7XxmEkWkWT",
        "outputId": "3f007f82-6fbf-4d2b-e256-bce56d630ce7"
      },
      "execution_count": null,
      "outputs": [
        {
          "output_type": "stream",
          "name": "stdout",
          "text": [
            "Enter the string:nishant\n",
            "7\n"
          ]
        }
      ]
    },
    {
      "cell_type": "code",
      "source": [
        "# 9. Write a program that calculates the average of a list of numbers using a `for` loop\n",
        "list2 =[1,2,3,5,2,8,10]\n",
        "average=0\n",
        "sum =0\n",
        "for i in list2:\n",
        "  sum =sum+i\n",
        "\n",
        "average=sum/len(list2)\n",
        "\n",
        "print(average)\n"
      ],
      "metadata": {
        "colab": {
          "base_uri": "https://localhost:8080/"
        },
        "id": "EtwIL8icY2VR",
        "outputId": "9bdd4a52-feb7-49f2-f382-ccb24b95db0a"
      },
      "execution_count": null,
      "outputs": [
        {
          "output_type": "stream",
          "name": "stdout",
          "text": [
            "4.428571428571429\n"
          ]
        }
      ]
    },
    {
      "cell_type": "code",
      "source": [
        "# 10. Develop a program that prints the first `n` Fibonacci numbers using a `for` loop.\n",
        "\n",
        "n = int(input(\"Enter the value of n: \"))\n",
        "a=0\n",
        "b=1\n",
        "c=b\n",
        "\n",
        "for i in range(n):\n",
        "  print(c,end =\" \")\n",
        "  a=b\n",
        "  b=c\n",
        "  c=a+b\n",
        "print()\n",
        "\n",
        "\n"
      ],
      "metadata": {
        "colab": {
          "base_uri": "https://localhost:8080/"
        },
        "id": "T9b3bPKcZkzC",
        "outputId": "4d18a34c-346a-4196-880d-bda6d9ce3977"
      },
      "execution_count": null,
      "outputs": [
        {
          "output_type": "stream",
          "name": "stdout",
          "text": [
            "Enter the value of n: 5\n",
            "1 2 3 5 8 \n"
          ]
        }
      ]
    },
    {
      "cell_type": "code",
      "source": [
        "# 11. Write a program to check if a given list contains any duplicates using a `for` loop.\n",
        "\n",
        "def has_duplicates(input_list):\n",
        "    seen = set()  # Create an empty set to store seen elements\n",
        "\n",
        "    for item in input_list:\n",
        "        if item in seen:\n",
        "            return True  # If the element is already in the set, it's a duplicate\n",
        "        seen.add(item)  # Add the element to the set\n",
        "\n",
        "    return False  # If the loop completes without finding duplicates, return False\n",
        "\n",
        "# Example usage:\n",
        "my_list = [1, 2, 3, 4, 5, 1]  # This list contains a duplicate (1)\n",
        "if has_duplicates(my_list):\n",
        "    print(\"The list contains duplicates.\")\n",
        "else:\n",
        "    print(\"The list does not contain duplicates.\")\n"
      ],
      "metadata": {
        "id": "i_Jhp7NAavFl",
        "colab": {
          "base_uri": "https://localhost:8080/"
        },
        "outputId": "258bb649-8743-4e76-921d-882e03eaa190"
      },
      "execution_count": null,
      "outputs": [
        {
          "output_type": "stream",
          "name": "stdout",
          "text": [
            "The list contains duplicates.\n"
          ]
        }
      ]
    },
    {
      "cell_type": "code",
      "source": [
        "# 12. Create a program that prints the prime numbers in a given range using a `for` loop.\n",
        "\n",
        "def is_prime(num):\n",
        "\n",
        "\n",
        "    for i in range(2,num):\n",
        "      if(num %i ==0):\n",
        "        return False\n",
        "\n",
        "    return True\n",
        "\n",
        "def print_primes_in_range(start, end):\n",
        "    for num in range(start, end + 1):\n",
        "        if is_prime(num):\n",
        "            print(num, end=' ')\n",
        "\n",
        "# Example usage:\n",
        "start_range = 10\n",
        "end_range = 50\n",
        "print(\"Prime numbers between\", start_range, \"and\", end_range, \"are:\")\n",
        "print_primes_in_range(start_range, end_range)"
      ],
      "metadata": {
        "colab": {
          "base_uri": "https://localhost:8080/"
        },
        "id": "rIeeRPq_hb4E",
        "outputId": "39a2a8ba-a61f-443f-8317-7e267c2b5795"
      },
      "execution_count": null,
      "outputs": [
        {
          "output_type": "stream",
          "name": "stdout",
          "text": [
            "Prime numbers between 10 and 50 are:\n",
            "11 13 17 19 23 29 31 37 41 43 47 "
          ]
        }
      ]
    },
    {
      "cell_type": "code",
      "source": [
        "# 13. Develop a program that counts the number of vowels in a string using a `for` loop.\n",
        "def count_vowels(input_string):\n",
        "    vowels = \"aeiouAEIOU\"  # Define a string containing all vowels\n",
        "    vowel_count = 0\n",
        "\n",
        "    for char in input_string:\n",
        "        if char in vowels:\n",
        "            vowel_count += 1\n",
        "\n",
        "    return vowel_count\n",
        "\n",
        "# Example usage:\n",
        "input_str = input(\"Enter a string: \")\n",
        "result = count_vowels(input_str)\n",
        "print(\"Number of vowels in the string:\", result)"
      ],
      "metadata": {
        "colab": {
          "base_uri": "https://localhost:8080/"
        },
        "id": "W1SraY2Nm2lj",
        "outputId": "59870867-63e7-46ce-e329-bd5db2dd6ba5"
      },
      "execution_count": null,
      "outputs": [
        {
          "output_type": "stream",
          "name": "stdout",
          "text": [
            "Enter a string: nishant\n",
            "Number of vowels in the string: 2\n"
          ]
        }
      ]
    },
    {
      "cell_type": "code",
      "source": [
        "# 14. Write a program to find the maximum element in a 2D list using a nested `for` loop.\n",
        "def find_max_2d(input_2d_list):\n",
        "    if not input_2d_list:\n",
        "        return None  # Return None if the input list is empty\n",
        "\n",
        "    max_element = input_2d_list[0][0]  # Initialize max_element with the first element of the list\n",
        "\n",
        "    for row in input_2d_list:\n",
        "        for element in row:\n",
        "            if element > max_element:\n",
        "                max_element = element\n",
        "\n",
        "    return max_element\n",
        "\n",
        "# Example usage:\n",
        "matrix = [\n",
        "    [3, 6, 9],\n",
        "    [12, 8, 4],\n",
        "    [5, 7, 2]\n",
        "]\n",
        "\n",
        "max_value = find_max_2d(matrix)\n",
        "if max_value is not None:\n",
        "    print(\"The maximum element in the 2D list is:\", max_value)\n",
        "else:\n",
        "    print(\"The 2D list is empty.\")\n"
      ],
      "metadata": {
        "colab": {
          "base_uri": "https://localhost:8080/"
        },
        "id": "py5tPSW-m6of",
        "outputId": "f0c10722-7668-42f2-bbe5-cf7916469283"
      },
      "execution_count": null,
      "outputs": [
        {
          "output_type": "stream",
          "name": "stdout",
          "text": [
            "The maximum element in the 2D list is: 12\n"
          ]
        }
      ]
    },
    {
      "cell_type": "code",
      "source": [
        "# 15. Create a program that removes all occurrences of a specific element from a list using a `for` loop.\n",
        "def remove_element(input_list, element_to_remove):\n",
        "    # Create a new list to store the elements without the specified element\n",
        "    new_list = []\n",
        "\n",
        "    for item in input_list:\n",
        "        if item != element_to_remove:\n",
        "            new_list.append(item)\n",
        "\n",
        "    return new_list\n",
        "\n",
        "# Example usage:\n",
        "my_list = [1, 2, 3, 2, 4, 2, 5]\n",
        "element_to_remove = 2\n",
        "filtered_list = remove_element(my_list, element_to_remove)\n",
        "print(\"Original list:\", my_list)\n",
        "print(\"List after removing\", element_to_remove, \":\", filtered_list)\n",
        "\n"
      ],
      "metadata": {
        "id": "gyN8XYTCm6rV"
      },
      "execution_count": null,
      "outputs": []
    },
    {
      "cell_type": "code",
      "source": [
        "# 16.  Develop a program that generates a multiplication table for numbers from 1 to 5 using a nested `for` loop.\n",
        "\n",
        "# Define the range of numbers for the multiplication table\n",
        "start = 1\n",
        "end = 5\n",
        "\n",
        "# Loop through each number in the range\n",
        "for i in range(start, end + 1):\n",
        "    print(f\"Multiplication table for {i}:\")\n",
        "\n",
        "    # Nested loop to generate the multiplication table\n",
        "    for j in range(1, 11):  # Generate the table for numbers 1 to 10\n",
        "        result = i * j\n",
        "        print(f\"{i} x {j} = {result}\")\n",
        "\n",
        "    print()  # Print an empty line to separate tables\n"
      ],
      "metadata": {
        "colab": {
          "base_uri": "https://localhost:8080/"
        },
        "id": "VkvuuJtEm6uL",
        "outputId": "2ed8f97c-299c-45b6-e08e-9afb4c3700c0"
      },
      "execution_count": null,
      "outputs": [
        {
          "output_type": "stream",
          "name": "stdout",
          "text": [
            "Multiplication table for 1:\n",
            "1 x 1 = 1\n",
            "1 x 2 = 2\n",
            "1 x 3 = 3\n",
            "1 x 4 = 4\n",
            "1 x 5 = 5\n",
            "1 x 6 = 6\n",
            "1 x 7 = 7\n",
            "1 x 8 = 8\n",
            "1 x 9 = 9\n",
            "1 x 10 = 10\n",
            "\n",
            "Multiplication table for 2:\n",
            "2 x 1 = 2\n",
            "2 x 2 = 4\n",
            "2 x 3 = 6\n",
            "2 x 4 = 8\n",
            "2 x 5 = 10\n",
            "2 x 6 = 12\n",
            "2 x 7 = 14\n",
            "2 x 8 = 16\n",
            "2 x 9 = 18\n",
            "2 x 10 = 20\n",
            "\n",
            "Multiplication table for 3:\n",
            "3 x 1 = 3\n",
            "3 x 2 = 6\n",
            "3 x 3 = 9\n",
            "3 x 4 = 12\n",
            "3 x 5 = 15\n",
            "3 x 6 = 18\n",
            "3 x 7 = 21\n",
            "3 x 8 = 24\n",
            "3 x 9 = 27\n",
            "3 x 10 = 30\n",
            "\n",
            "Multiplication table for 4:\n",
            "4 x 1 = 4\n",
            "4 x 2 = 8\n",
            "4 x 3 = 12\n",
            "4 x 4 = 16\n",
            "4 x 5 = 20\n",
            "4 x 6 = 24\n",
            "4 x 7 = 28\n",
            "4 x 8 = 32\n",
            "4 x 9 = 36\n",
            "4 x 10 = 40\n",
            "\n",
            "Multiplication table for 5:\n",
            "5 x 1 = 5\n",
            "5 x 2 = 10\n",
            "5 x 3 = 15\n",
            "5 x 4 = 20\n",
            "5 x 5 = 25\n",
            "5 x 6 = 30\n",
            "5 x 7 = 35\n",
            "5 x 8 = 40\n",
            "5 x 9 = 45\n",
            "5 x 10 = 50\n",
            "\n"
          ]
        }
      ]
    },
    {
      "cell_type": "code",
      "source": [
        "# 17. Write a program that converts a list of Fahrenheit temperatures to Celsius using a `for` loop\n",
        "\n",
        "def fahrenheit_to_celsius(fahrenheit):\n",
        "    # Conversion formula from Fahrenheit to Celsius\n",
        "    celsius = (fahrenheit - 32) * 5/9\n",
        "    return celsius\n",
        "\n",
        "def convert_temperatures(fahrenheit_list):\n",
        "    celsius_list = []  # Create an empty list to store Celsius temperatures\n",
        "\n",
        "    for temp in fahrenheit_list:\n",
        "        celsius = fahrenheit_to_celsius(temp)\n",
        "        celsius_list.append(celsius)\n",
        "\n",
        "    return celsius_list\n",
        "\n",
        "# Example usage:\n",
        "fahrenheit_temperatures = [32, 68, 100, 212]\n",
        "celsius_temperatures = convert_temperatures(fahrenheit_temperatures)\n",
        "\n",
        "print(\"Fahrenheit temperatures:\", fahrenheit_temperatures)\n",
        "print(\"Celsius temperatures:\", celsius_temperatures)\n"
      ],
      "metadata": {
        "colab": {
          "base_uri": "https://localhost:8080/"
        },
        "id": "G8SFHGZApNAB",
        "outputId": "d8791b94-5015-46ef-b125-deacb9553ecb"
      },
      "execution_count": null,
      "outputs": [
        {
          "output_type": "stream",
          "name": "stdout",
          "text": [
            "Fahrenheit temperatures: [32, 68, 100, 212]\n",
            "Celsius temperatures: [0.0, 20.0, 37.77777777777778, 100.0]\n"
          ]
        }
      ]
    },
    {
      "cell_type": "code",
      "source": [
        "# 18.Create a program to print the common elements from two lists using a `for` loop.\n",
        "def find_common_elements(list1, list2):\n",
        "    common_elements = []\n",
        "\n",
        "    for item1 in list1:\n",
        "        for item2 in list2:\n",
        "            if item1 == item2:\n",
        "                common_elements.append(item1)\n",
        "\n",
        "    return common_elements\n",
        "\n",
        "# Example usage:\n",
        "list1 = [1, 2, 3, 4, 5]\n",
        "list2 = [3, 4, 5, 6, 7]\n",
        "\n",
        "common_elements = find_common_elements(list1, list2)\n",
        "\n",
        "if common_elements:\n",
        "    print(\"Common elements:\", common_elements)\n",
        "else:\n",
        "    print(\"No common elements found.\")\n"
      ],
      "metadata": {
        "colab": {
          "base_uri": "https://localhost:8080/"
        },
        "id": "PVs_6FaepNDB",
        "outputId": "62173663-17ff-4570-962d-c93c5bec476a"
      },
      "execution_count": null,
      "outputs": [
        {
          "output_type": "stream",
          "name": "stdout",
          "text": [
            "Common elements: [3, 4, 5]\n"
          ]
        }
      ]
    },
    {
      "cell_type": "code",
      "source": [
        "# 19. Develop a program that prints the pattern of right-angled triangles using a `for` loop. Use ‘*’ to draw the pattern\n",
        "\n",
        "def print_right_angled_triangle(height):\n",
        "    for i in range(1, height + 1):\n",
        "        for j in range(i):\n",
        "            print('*', end='')\n",
        "        print()\n",
        "\n",
        "# Example usage:\n",
        "triangle_height = 5\n",
        "print(\"Right-angled triangle pattern:\")\n",
        "print_right_angled_triangle(triangle_height)\n"
      ],
      "metadata": {
        "colab": {
          "base_uri": "https://localhost:8080/"
        },
        "id": "rFL8VpkLpNF4",
        "outputId": "929f8948-e9f2-473b-ffe9-c7114c51fb75"
      },
      "execution_count": null,
      "outputs": [
        {
          "output_type": "stream",
          "name": "stdout",
          "text": [
            "Right-angled triangle pattern:\n",
            "*\n",
            "**\n",
            "***\n",
            "****\n",
            "*****\n"
          ]
        }
      ]
    },
    {
      "cell_type": "code",
      "source": [
        "# 20. Write a program to find the greatest common divisor (GCD) of two numbers using a `for` loop.\n",
        "def find_gcd(num1, num2):\n",
        "    # Find the smaller of the two numbers\n",
        "    smaller = min(num1, num2)\n",
        "\n",
        "    # Initialize the GCD to 1\n",
        "    gcd = 1\n",
        "\n",
        "    # Iterate from 1 to the smaller number\n",
        "    for i in range(1, smaller + 1):\n",
        "        if num1 % i == 0 and num2 % i == 0:\n",
        "            gcd = i  # Update the GCD when a common divisor is found\n",
        "\n",
        "    return gcd\n",
        "\n",
        "# Example usage:\n",
        "number1 = 48\n",
        "number2 = 36\n",
        "\n",
        "gcd_result = find_gcd(number1, number2)\n",
        "print(f\"The GCD of {number1} and {number2} is {gcd_result}.\")\n"
      ],
      "metadata": {
        "colab": {
          "base_uri": "https://localhost:8080/"
        },
        "id": "ZI5tAxjipNIe",
        "outputId": "b5424b90-4469-4fc7-88f0-75d7c95e7253"
      },
      "execution_count": null,
      "outputs": [
        {
          "output_type": "stream",
          "name": "stdout",
          "text": [
            "The GCD of 48 and 36 is 12.\n"
          ]
        }
      ]
    },
    {
      "cell_type": "code",
      "source": [
        "# 21. Create a program that calculates the sum of the digits of numbers in a list using a list comprehension.\n",
        "numbers = [123, 456, 789]\n",
        "\n",
        "sum_of_digits = [sum(int(digit) for digit in str(num)) for num in numbers]\n",
        "print(sum_of_digits)\n"
      ],
      "metadata": {
        "id": "rOM5DR3vm6xU"
      },
      "execution_count": null,
      "outputs": []
    },
    {
      "cell_type": "code",
      "source": [
        "# 22. Write a program to find the prime factors of a given number using a `for` loop and list comprehension.\n",
        "def prime_factors(n):\n",
        "    factors = [x for x in range(2, n + 1) if n % x == 0]\n",
        "    prime_factors = [x for x in factors if all(x % i != 0 for i in range(2, x))]\n",
        "    return prime_factors\n",
        "\n",
        "number = int(input(\"Enter a number: \"))\n",
        "factors = prime_factors(number)\n",
        "print(factors)\n"
      ],
      "metadata": {
        "id": "mEa87_tIXdsp"
      },
      "execution_count": null,
      "outputs": []
    },
    {
      "cell_type": "code",
      "source": [
        "# 23. Develop a program that extracts unique elements from a list and stores them in a new list using a list comprehension\n",
        "original_list = [1, 2, 2, 3, 4, 4, 5]\n",
        "\n",
        "unique_elements = list(set(original_list))\n",
        "print(unique_elements)\n"
      ],
      "metadata": {
        "id": "sViaEPReXdvv"
      },
      "execution_count": null,
      "outputs": []
    },
    {
      "cell_type": "code",
      "source": [
        "# 24. Create a program that generates a list of all palindromic numbers up to a specified limit using a list comprehension.\n",
        "limit = 1000\n",
        "\n",
        "palindromic_numbers = [num for num in range(1, limit + 1) if str(num) == str(num)[::-1]]\n",
        "print(palindromic_numbers)\n"
      ],
      "metadata": {
        "id": "JLi2_jkFXdym"
      },
      "execution_count": null,
      "outputs": []
    },
    {
      "cell_type": "code",
      "source": [
        "# 25. Write a program to flatten a nested list using list comprehension.\n",
        "nested_list = [[1, 2, 3], [4, 5], [6, 7, 8]]\n",
        "\n",
        "flattened_list = [item for sublist in nested_list for item in sublist]\n",
        "print(flattened_list)\n"
      ],
      "metadata": {
        "id": "mL7y8sMkXd1v"
      },
      "execution_count": null,
      "outputs": []
    },
    {
      "cell_type": "code",
      "source": [
        "# 26. Develop a program that computes the sum of even and odd numbers in a list separately using list comprehension.\n",
        "numbers = [1, 2, 3, 4, 5, 6, 7, 8]\n",
        "\n",
        "even_sum = sum([num for num in numbers if num % 2 == 0])\n",
        "odd_sum = sum([num for num in numbers if num % 2 != 0])\n",
        "\n",
        "print(\"Sum of even numbers:\", even_sum)\n",
        "print(\"Sum of odd numbers:\", odd_sum)\n"
      ],
      "metadata": {
        "id": "xtE3a74MXd4m"
      },
      "execution_count": null,
      "outputs": []
    },
    {
      "cell_type": "code",
      "source": [
        "# 27. Create a program that generates a list of squares of odd numbers between 1 and 10 using list comprehension.\n",
        "squares_of_odds = [x**2 for x in range(1, 11) if x % 2 != 0]\n",
        "print(squares_of_odds)\n"
      ],
      "metadata": {
        "id": "ESPr4mdSXd7t"
      },
      "execution_count": null,
      "outputs": []
    },
    {
      "cell_type": "code",
      "source": [
        "#28. Write a program that combines two lists into a dictionary using list comprehension.\n",
        "keys = ['a', 'b', 'c']\n",
        "values = [1, 2, 3]\n",
        "\n",
        "combined_dict = {key: value for key, value in zip(keys, values)}\n",
        "print(combined_dict)\n"
      ],
      "metadata": {
        "id": "lU-5PO85Xd-U"
      },
      "execution_count": null,
      "outputs": []
    },
    {
      "cell_type": "code",
      "source": [
        "# 29. Develop a program that extracts the vowels from a string and stores them in a list using list comprehension.\n",
        "text = \"Hello, World!\"\n",
        "\n",
        "vowels = [char for char in text if char.lower() in 'aeiou']\n",
        "print(vowels)\n"
      ],
      "metadata": {
        "colab": {
          "base_uri": "https://localhost:8080/"
        },
        "id": "4xY9GkZWXeBN",
        "outputId": "c5e9ea3b-7c82-41b6-da15-1d10868132dd"
      },
      "execution_count": 1,
      "outputs": [
        {
          "output_type": "stream",
          "name": "stdout",
          "text": [
            "['e', 'o', 'o']\n"
          ]
        }
      ]
    },
    {
      "cell_type": "code",
      "source": [
        "# 30. Create a program that removes all non-numeric characters from a list of strings using list comprehension.\n",
        "strings = ['123abc', '456def', '789xyz']\n",
        "\n",
        "numeric_strings = [''.join(filter(str.isdigit, string)) for string in strings]\n",
        "print(numeric_strings)\n"
      ],
      "metadata": {
        "id": "anQJFFH9XeED"
      },
      "execution_count": null,
      "outputs": []
    }
  ]
}