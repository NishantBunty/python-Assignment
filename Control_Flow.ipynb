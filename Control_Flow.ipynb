{
  "cells": [
    {
      "cell_type": "code",
      "execution_count": null,
      "metadata": {
        "id": "LqsL6CH83HgC"
      },
      "outputs": [],
      "source": [
        "# Basic If-Else Statements:"
      ]
    },
    {
      "cell_type": "code",
      "execution_count": null,
      "metadata": {
        "colab": {
          "base_uri": "https://localhost:8080/"
        },
        "id": "s1MuOz2_3PWY",
        "outputId": "bf726061-9dc0-42e8-928c-b5c6bf9ac803"
      },
      "outputs": [
        {
          "name": "stdout",
          "output_type": "stream",
          "text": [
            "Enter a number: 645\n",
            "Positive number\n"
          ]
        }
      ],
      "source": [
        "# 1. Write a Python program to check if a given number is positive or negative.\n",
        "number = float(input(\"Enter a number: \"))\n",
        "\n",
        "if number > 0:\n",
        "    print(\"Positive number\")\n",
        "elif number < 0:\n",
        "    print(\"Negative number\")\n",
        "else:\n",
        "    print(\"Zero\")\n"
      ]
    },
    {
      "cell_type": "code",
      "execution_count": null,
      "metadata": {
        "colab": {
          "base_uri": "https://localhost:8080/"
        },
        "id": "q17cAaTa3PZe",
        "outputId": "e7b07f94-d891-4719-dc19-634675497ce2"
      },
      "outputs": [
        {
          "name": "stdout",
          "output_type": "stream",
          "text": [
            "Enter your age: 67\n",
            "You are eligible to vote.\n"
          ]
        }
      ],
      "source": [
        "# 2. Create a program that determines if a person is eligible to vote based on their age.\n",
        "age = int(input(\"Enter your age: \"))\n",
        "\n",
        "if age >= 18:\n",
        "    print(\"You are eligible to vote.\")\n",
        "else:\n",
        "    print(\"You are not eligible to vote.\")\n"
      ]
    },
    {
      "cell_type": "code",
      "execution_count": null,
      "metadata": {
        "colab": {
          "base_uri": "https://localhost:8080/"
        },
        "id": "TE2-vHL53PcW",
        "outputId": "ce79c330-7604-49cd-9442-4cded31e63d8"
      },
      "outputs": [
        {
          "name": "stdout",
          "output_type": "stream",
          "text": [
            "Enter the first number: 5\n",
            "Enter the second number: 67\n",
            "Maximum: 67.0\n"
          ]
        }
      ],
      "source": [
        "# 3.  Develop a program to find the maximum of two numbers using if-else statements.\n",
        "num1 = float(input(\"Enter the first number: \"))\n",
        "num2 = float(input(\"Enter the second number: \"))\n",
        "\n",
        "if num1 > num2:\n",
        "    print(\"Maximum:\", num1)\n",
        "else:\n",
        "    print(\"Maximum:\", num2)\n"
      ]
    },
    {
      "cell_type": "code",
      "execution_count": null,
      "metadata": {
        "colab": {
          "base_uri": "https://localhost:8080/"
        },
        "id": "yya5GgDQ3PfO",
        "outputId": "595ecdb2-d469-4e6f-f032-07291f6996b8"
      },
      "outputs": [
        {
          "name": "stdout",
          "output_type": "stream",
          "text": [
            "Enter a year: 2018\n",
            "Not a leap year\n"
          ]
        }
      ],
      "source": [
        "# 4.  Write a Python script to classify a given year as a leap year or not.\n",
        "year = int(input(\"Enter a year: \"))\n",
        "\n",
        "if (year % 4 == 0 and year % 100 != 0) or (year % 400 == 0):\n",
        "    print(\"Leap year\")\n",
        "else:\n",
        "    print(\"Not a leap year\")\n"
      ]
    },
    {
      "cell_type": "code",
      "execution_count": null,
      "metadata": {
        "colab": {
          "base_uri": "https://localhost:8080/"
        },
        "id": "Lbe19CHb3PiE",
        "outputId": "76e97d0a-5cf7-4736-8169-4e27370a986f"
      },
      "outputs": [
        {
          "name": "stdout",
          "output_type": "stream",
          "text": [
            "Enter a character: f\n",
            "Consonant\n"
          ]
        }
      ],
      "source": [
        "# 5.  Create a program that checks whether a character is a vowel or a consonant.\n",
        "char = input(\"Enter a character: \")\n",
        "\n",
        "if char.lower() in ['a', 'e', 'i', 'o', 'u']:\n",
        "    print(\"Vowel\")\n",
        "else:\n",
        "    print(\"Consonant\")\n"
      ]
    },
    {
      "cell_type": "code",
      "execution_count": null,
      "metadata": {
        "colab": {
          "base_uri": "https://localhost:8080/"
        },
        "id": "1B1mBT1P3Pk8",
        "outputId": "95223ac4-2167-41ae-8fe9-bb619e5f95dd"
      },
      "outputs": [
        {
          "name": "stdout",
          "output_type": "stream",
          "text": [
            "Enter a number: 67\n",
            "Odd\n"
          ]
        }
      ],
      "source": [
        "# 6. Implement a program to determine whether a given number is even or odd.\n",
        "num = int(input(\"Enter a number: \"))\n",
        "\n",
        "if num % 2 == 0:\n",
        "    print(\"Even\")\n",
        "else:\n",
        "    print(\"Odd\")\n"
      ]
    },
    {
      "cell_type": "code",
      "execution_count": null,
      "metadata": {
        "colab": {
          "base_uri": "https://localhost:8080/"
        },
        "id": "9Xgo2Q8q3Pn1",
        "outputId": "5e31b7c6-1cfc-4f44-9d97-8a4bacae8dd9"
      },
      "outputs": [
        {
          "name": "stdout",
          "output_type": "stream",
          "text": [
            "Enter a number: -90\n",
            "Absolute value: 90.0\n"
          ]
        }
      ],
      "source": [
        "# 7.  Write a Python function to calculate the absolute value of a number without using the `abs()` function.\n",
        "num = float(input(\"Enter a number: \"))\n",
        "\n",
        "if num >= 0:\n",
        "    print(\"Absolute value:\", num)\n",
        "else:\n",
        "    print(\"Absolute value:\", -num)\n"
      ]
    },
    {
      "cell_type": "code",
      "execution_count": null,
      "metadata": {
        "colab": {
          "base_uri": "https://localhost:8080/"
        },
        "id": "JQvxiowB3P0c",
        "outputId": "0871350b-2f5f-4a55-c151-7adcf52c0cf4"
      },
      "outputs": [
        {
          "name": "stdout",
          "output_type": "stream",
          "text": [
            "Enter the first number: 45\n",
            "Enter the second number: 34\n",
            "Enter the third number: 12\n",
            "Largest: 45.0\n"
          ]
        }
      ],
      "source": [
        "# 8.Develop a program that determines the largest of three given numbers using if-else statements.\n",
        "num1 = float(input(\"Enter the first number: \"))\n",
        "num2 = float(input(\"Enter the second number: \"))\n",
        "num3 = float(input(\"Enter the third number: \"))\n",
        "\n",
        "if num1 >= num2 and num1 >= num3:\n",
        "    print(\"Largest:\", num1)\n",
        "elif num2 >= num1 and num2 >= num3:\n",
        "    print(\"Largest:\", num2)\n",
        "else:\n",
        "    print(\"Largest:\", num3)\n"
      ]
    },
    {
      "cell_type": "code",
      "execution_count": null,
      "metadata": {
        "colab": {
          "base_uri": "https://localhost:8080/"
        },
        "id": "QwqywXwQ5C5A",
        "outputId": "af933865-c716-4b1a-b4ed-8b0a344bc7bc"
      },
      "outputs": [
        {
          "name": "stdout",
          "output_type": "stream",
          "text": [
            "Enter a string: jbsjdn\n",
            "Not a palindrome\n"
          ]
        }
      ],
      "source": [
        "# 9.  Create a program that checks if a given string is a palindrome.\n",
        "string = input(\"Enter a string: \")\n",
        "\n",
        "if string == string[::-1]:\n",
        "    print(\"Palindrome\")\n",
        "else:\n",
        "    print(\"Not a palindrome\")\n"
      ]
    },
    {
      "cell_type": "code",
      "execution_count": null,
      "metadata": {
        "colab": {
          "base_uri": "https://localhost:8080/"
        },
        "id": "7GxufwPr5SRo",
        "outputId": "0743d531-94e8-428b-a04b-c1ad3054409d"
      },
      "outputs": [
        {
          "name": "stdout",
          "output_type": "stream",
          "text": [
            "Enter the student's score: 45\n",
            "Grade: F\n"
          ]
        }
      ],
      "source": [
        "# 10. Write a Python program to calculate the grade based on a student's score.\n",
        "score = float(input(\"Enter the student's score: \"))\n",
        "\n",
        "if 90 <= score <= 100:\n",
        "    print(\"Grade: A\")\n",
        "elif 80 <= score < 90:\n",
        "    print(\"Grade: B\")\n",
        "elif 70 <= score < 80:\n",
        "    print(\"Grade: C\")\n",
        "elif 60 <= score < 70:\n",
        "    print(\"Grade: D\")\n",
        "else:\n",
        "    print(\"Grade: F\")\n"
      ]
    },
    {
      "cell_type": "code",
      "execution_count": null,
      "metadata": {
        "id": "K8fwch0J5cns"
      },
      "outputs": [],
      "source": [
        "# Nested If-Else Statements:"
      ]
    },
    {
      "cell_type": "code",
      "execution_count": null,
      "metadata": {
        "colab": {
          "base_uri": "https://localhost:8080/"
        },
        "id": "T6naxBdZ5oG3",
        "outputId": "9a56e1df-642b-4dc0-86e3-b6596d6ba714"
      },
      "outputs": [
        {
          "name": "stdout",
          "output_type": "stream",
          "text": [
            "Enter the first number: 56\n",
            "Enter the second number: 43\n",
            "Enter the third number: 09\n",
            "The largest number is: 56.0\n"
          ]
        }
      ],
      "source": [
        "# 11. Write a program to find the largest among three numbers using nested if-else statements.\n",
        "num1 = float(input(\"Enter the first number: \"))\n",
        "num2 = float(input(\"Enter the second number: \"))\n",
        "num3 = float(input(\"Enter the third number: \"))\n",
        "\n",
        "if num1 >= num2:\n",
        "    if num1 >= num3:\n",
        "        largest = num1\n",
        "    else:\n",
        "        largest = num3\n",
        "else:\n",
        "    if num2 >= num3:\n",
        "        largest = num2\n",
        "    else:\n",
        "        largest = num3\n",
        "\n",
        "print(\"The largest number is:\", largest)\n"
      ]
    },
    {
      "cell_type": "code",
      "execution_count": null,
      "metadata": {
        "colab": {
          "base_uri": "https://localhost:8080/"
        },
        "id": "El1EeliW5oJ2",
        "outputId": "44b99a24-c488-4333-bade-69a2e7a39734"
      },
      "outputs": [
        {
          "name": "stdout",
          "output_type": "stream",
          "text": [
            "Enter the length of the first side: 12\n",
            "Enter the length of the second side: 23\n",
            "Enter the length of the third side: 34\n",
            "The triangle is scalene.\n"
          ]
        }
      ],
      "source": [
        "# 12 . Implement a program to determine if a triangle is equilateral, isosceles, or scalene.\n",
        "side1 = float(input(\"Enter the length of the first side: \"))\n",
        "side2 = float(input(\"Enter the length of the second side: \"))\n",
        "side3 = float(input(\"Enter the length of the third side: \"))\n",
        "\n",
        "if side1 == side2 == side3:\n",
        "    print(\"The triangle is equilateral.\")\n",
        "elif side1 == side2 or side1 == side3 or side2 == side3:\n",
        "    print(\"The triangle is isosceles.\")\n",
        "else:\n",
        "    print(\"The triangle is scalene.\")\n",
        "\n"
      ]
    },
    {
      "cell_type": "code",
      "execution_count": null,
      "metadata": {
        "colab": {
          "base_uri": "https://localhost:8080/"
        },
        "id": "kqOgoeA_0pwt",
        "outputId": "9cc59675-ff8d-4ac0-e9b3-5ef7e3ce9894"
      },
      "outputs": [
        {
          "name": "stdout",
          "output_type": "stream",
          "text": [
            "Enter a year: 41356\n",
            "41356 is a leap year.\n",
            "41356 is not a century year.\n"
          ]
        }
      ],
      "source": [
        "# 13.  Develop a program that checks if a year is a leap year and also if it is a century year.\n",
        "def is_leap_year(year):\n",
        "    \"\"\"\n",
        "    Check if a year is a leap year.\n",
        "    \"\"\"\n",
        "    # Leap years are divisible by 4\n",
        "    if year % 4 == 0:\n",
        "        # If it's a century year, it must also be divisible by 400 to be a leap year\n",
        "        if year % 100 == 0:\n",
        "            return year % 400 == 0\n",
        "        else:\n",
        "            return True\n",
        "    else:\n",
        "        return False\n",
        "\n",
        "def is_century_year(year):\n",
        "    \"\"\"\n",
        "    Check if a year is a century year.\n",
        "    \"\"\"\n",
        "    return year % 100 == 0\n",
        "\n",
        "def main():\n",
        "    # Get input from the user\n",
        "    year = int(input(\"Enter a year: \"))\n",
        "\n",
        "    # Check if it's a leap year\n",
        "    if is_leap_year(year):\n",
        "        print(f\"{year} is a leap year.\")\n",
        "    else:\n",
        "        print(f\"{year} is not a leap year.\")\n",
        "\n",
        "    # Check if it's a century year\n",
        "    if is_century_year(year):\n",
        "        print(f\"{year} is a century year.\")\n",
        "    else:\n",
        "        print(f\"{year} is not a century year.\")\n",
        "\n",
        "if __name__ == \"__main__\":\n",
        "    main()\n"
      ]
    },
    {
      "cell_type": "code",
      "execution_count": null,
      "metadata": {
        "id": "toxMnGsO0pzy"
      },
      "outputs": [],
      "source": [
        "# 14 .  Write a Python script to determine if a number is positive, negative, or zero.\n",
        "def is_teenager(age):\n",
        "    \"\"\"\n",
        "    Check if a person is a teenager (between 13 and 19 years old).\n",
        "    \"\"\"\n",
        "    return 13 <= age <= 19\n",
        "\n",
        "def main():\n",
        "    # Get input from the user\n",
        "    age = int(input(\"Enter the person's age: \"))\n",
        "\n",
        "    # Check and print whether the person is a teenager\n",
        "    if is_teenager(age):\n",
        "        print(\"The person is a teenager.\")\n",
        "    else:\n",
        "        print(\"The person is not a teenager.\")\n",
        "\n",
        "if __name__ == \"__main__\":\n",
        "    main()\n"
      ]
    },
    {
      "cell_type": "code",
      "execution_count": null,
      "metadata": {
        "id": "azVrab9XDint"
      },
      "outputs": [],
      "source": [
        "# 15 .  Create a program to check if a person is a teenager (between 13 and 19 years old).\n",
        "def is_teenager(age):\n",
        "    \"\"\"\n",
        "    Check if a person is a teenager (between 13 and 19 years old).\n",
        "    \"\"\"\n",
        "    if 13 <= age <= 19:\n",
        "        return True\n",
        "    else:\n",
        "        return False\n",
        "\n",
        "def main():\n",
        "    # Get input from the user\n",
        "    age = int(input(\"Enter the person's age: \"))\n",
        "\n",
        "    # Check and print whether the person is a teenager\n",
        "    if is_teenager(age):\n",
        "        print(\"The person is a teenager.\")\n",
        "    else:\n",
        "        print(\"The person is not a teenager.\")\n",
        "\n",
        "if __name__ == \"__main__\":\n",
        "    main()\n"
      ]
    },
    {
      "cell_type": "code",
      "execution_count": null,
      "metadata": {
        "colab": {
          "base_uri": "https://localhost:8080/"
        },
        "id": "n8-7MlEj0p2q",
        "outputId": "9ed28636-803f-4a9c-9f1e-be6da9ba8277"
      },
      "outputs": [
        {
          "name": "stdout",
          "output_type": "stream",
          "text": [
            "Enter the measure of the angle: 45\n",
            "The angle with a measure of 45.0 degrees is a Acute angle.\n"
          ]
        }
      ],
      "source": [
        "# 16. Develop a program that determines the type of angle based on its measure (acute, obtuse, or right).\n",
        "def angle_type(measure):\n",
        "\n",
        "    if measure < 90:\n",
        "        return \"Acute angle\"\n",
        "    elif measure == 90:\n",
        "        return \"Right angle\"\n",
        "    else:\n",
        "        return \"Obtuse angle\"\n",
        "\n",
        "def main():\n",
        "    # Get input from the user\n",
        "    angle_measure = float(input(\"Enter the measure of the angle: \"))\n",
        "\n",
        "    result = angle_type(angle_measure)\n",
        "    print(f\"The angle with a measure of {angle_measure} degrees is a {result}.\")\n",
        "\n",
        "if __name__ == \"__main__\":\n",
        "    main()\n"
      ]
    },
    {
      "cell_type": "code",
      "execution_count": null,
      "metadata": {
        "colab": {
          "base_uri": "https://localhost:8080/"
        },
        "id": "FMoqWjB70p5i",
        "outputId": "f15fd4e8-4e5e-49a4-a982-fb7852aae1e0"
      },
      "outputs": [
        {
          "name": "stdout",
          "output_type": "stream",
          "text": [
            "Enter the coefficient a: 2\n",
            "Enter the coefficient b: 3\n",
            "Enter the coefficient c: 5\n",
            "The roots of the quadratic equation are: (-0.75+1.3919410907075054j) and (-0.75-1.3919410907075054j)\n"
          ]
        }
      ],
      "source": [
        "# 17. Write a Python program to calculate the roots of a quadratic equation.\n",
        "import cmath  # Importing the complex math module for handling complex roots\n",
        "\n",
        "def calculate_roots(a, b, c):\n",
        "    \"\"\"\n",
        "    Calculate the roots of a quadratic equation.\n",
        "    \"\"\"\n",
        "    # Calculate the discriminant\n",
        "    discriminant = cmath.sqrt(b**2 - 4*a*c)\n",
        "\n",
        "    # Calculate the two roots\n",
        "    root1 = (-b + discriminant) / (2*a)\n",
        "    root2 = (-b - discriminant) / (2*a)\n",
        "\n",
        "    return root1, root2\n",
        "\n",
        "def main():\n",
        "    # Get input from the user\n",
        "    a = float(input(\"Enter the coefficient a: \"))\n",
        "    b = float(input(\"Enter the coefficient b: \"))\n",
        "    c = float(input(\"Enter the coefficient c: \"))\n",
        "\n",
        "    # Calculate and print the roots\n",
        "    roots = calculate_roots(a, b, c)\n",
        "    print(f\"The roots of the quadratic equation are: {roots[0]} and {roots[1]}\")\n",
        "\n",
        "if __name__ == \"__main__\":\n",
        "    main()\n"
      ]
    },
    {
      "cell_type": "code",
      "execution_count": null,
      "metadata": {
        "colab": {
          "base_uri": "https://localhost:8080/"
        },
        "id": "zEVDt0HJ0p8Y",
        "outputId": "3cae5ae6-c469-4f28-f659-62ef930a4f27"
      },
      "outputs": [
        {
          "name": "stdout",
          "output_type": "stream",
          "text": [
            "Enter a number (1 for Monday, 2 for Tuesday, etc.): 2\n",
            "The day of the week is Tuesday.\n"
          ]
        }
      ],
      "source": [
        "# 18.Implement a program to determine the day of the week based on a user-provided number (1 for Monday, 2 for Tuesday, etc.).\n",
        "\n",
        "def get_day_of_week(number):\n",
        "\n",
        "    days_of_week = [\"Monday\", \"Tuesday\", \"Wednesday\", \"Thursday\", \"Friday\", \"Saturday\", \"Sunday\"]\n",
        "\n",
        "    if 1 <= number <= 7:\n",
        "        return days_of_week[number - 1]\n",
        "    else:\n",
        "        return \"Invalid input. Please enter a number between 1 and 7.\"\n",
        "\n",
        "def main():\n",
        "    # Get input from the user\n",
        "    day_number = int(input(\"Enter a number (1 for Monday, 2 for Tuesday, etc.): \"))\n",
        "\n",
        "    # Determine and print the day of the week\n",
        "    day_of_week = get_day_of_week(day_number)\n",
        "    print(f\"The day of the week is {day_of_week}.\")\n",
        "\n",
        "if __name__ == \"__main__\":\n",
        "    main()\n"
      ]
    },
    {
      "cell_type": "code",
      "execution_count": null,
      "metadata": {
        "colab": {
          "base_uri": "https://localhost:8080/"
        },
        "id": "IHpK_G6N0qFE",
        "outputId": "5480563f-2015-466d-9661-49c42470e7f3"
      },
      "outputs": [
        {
          "name": "stdout",
          "output_type": "stream",
          "text": [
            "Enter a year: 2012\n",
            "2012 is a leap year.\n",
            "2012 is a leap year but not evenly divisible by 400.\n"
          ]
        }
      ],
      "source": [
        "# 19. Create a program that determines if a year is a leap year and also if it is evenly divisible by 400.\n",
        "def is_leap_year(year):\n",
        "    \"\"\"\n",
        "    Check if a year is a leap year.\n",
        "    \"\"\"\n",
        "    # Leap years are divisible by 4\n",
        "    if year % 4 == 0:\n",
        "        # If it's a century year, it must also be divisible by 400 to be a leap year\n",
        "        if year % 100 == 0:\n",
        "            return year % 400 == 0\n",
        "        else:\n",
        "            return True\n",
        "    else:\n",
        "        return False\n",
        "\n",
        "def main():\n",
        "    # Get input from the user\n",
        "    year = int(input(\"Enter a year: \"))\n",
        "\n",
        "    # Check if it's a leap year and divisible by 400\n",
        "    if is_leap_year(year):\n",
        "        print(f\"{year} is a leap year.\")\n",
        "        if year % 400 == 0:\n",
        "            print(f\"{year} is also evenly divisible by 400.\")\n",
        "        else:\n",
        "            print(f\"{year} is a leap year but not evenly divisible by 400.\")\n",
        "    else:\n",
        "        print(f\"{year} is not a leap year.\")\n",
        "\n",
        "if __name__ == \"__main__\":\n",
        "    main()\n"
      ]
    },
    {
      "cell_type": "code",
      "execution_count": null,
      "metadata": {
        "colab": {
          "base_uri": "https://localhost:8080/"
        },
        "id": "I6vPNrLd5oM9",
        "outputId": "304e5b11-ddf0-434d-aa23-c5445eb34502"
      },
      "outputs": [
        {
          "name": "stdout",
          "output_type": "stream",
          "text": [
            "Enter a number: 12\n",
            "12 is not a prime number.\n"
          ]
        }
      ],
      "source": [
        "# 20.  Develop a program that checks if a given number is prime or not using nested if-else statements.\n",
        "def is_prime(number):\n",
        "    \"\"\"\n",
        "    Check if a given number is prime.\n",
        "    \"\"\"\n",
        "    if number > 1:\n",
        "        # Check for factors\n",
        "        for i in range(2, int(number**0.5) + 1):\n",
        "            if number % i == 0:\n",
        "                return False\n",
        "        else:\n",
        "            return True\n",
        "    else:\n",
        "        return False\n",
        "\n",
        "def main():\n",
        "    # Get input from the user\n",
        "    num = int(input(\"Enter a number: \"))\n",
        "\n",
        "    # Check and print whether the number is prime\n",
        "    if is_prime(num):\n",
        "        print(f\"{num} is a prime number.\")\n",
        "    else:\n",
        "        print(f\"{num} is not a prime number.\")\n",
        "\n",
        "if __name__ == \"__main__\":\n",
        "    main()\n"
      ]
    },
    {
      "cell_type": "code",
      "execution_count": null,
      "metadata": {
        "id": "P_EJ8jkk5oP4"
      },
      "outputs": [],
      "source": [
        "# Elif Statements:"
      ]
    },
    {
      "cell_type": "code",
      "execution_count": null,
      "metadata": {
        "id": "YCulfdR65oSs"
      },
      "outputs": [],
      "source": [
        "# 21. Write a Python program to assign grades based on different ranges of scores using elif statements.\n",
        "def assign_grade(score):\n",
        "    \"\"\"\n",
        "    Assign a grade based on different ranges of scores.\n",
        "    \"\"\"\n",
        "    if 90 <= score <= 100:\n",
        "        return 'A'\n",
        "    elif 80 <= score < 90:\n",
        "        return 'B'\n",
        "    elif 70 <= score < 80:\n",
        "        return 'C'\n",
        "    elif 60 <= score < 70:\n",
        "        return 'D'\n",
        "    elif 0 <= score < 60:\n",
        "        return 'F'\n",
        "    else:\n",
        "        return 'Invalid score. Please enter a score between 0 and 100.'\n",
        "\n",
        "def main():\n",
        "    # Get input from the user\n",
        "    score = float(input(\"Enter the student's score: \"))\n",
        "\n",
        "    # Assign and print the grade\n",
        "    grade = assign_grade(score)\n",
        "    print(f\"The student's grade is {grade}.\")\n",
        "\n",
        "if __name__ == \"__main__\":\n",
        "    main()\n"
      ]
    },
    {
      "cell_type": "code",
      "execution_count": null,
      "metadata": {
        "id": "lhDNuysX5oVk"
      },
      "outputs": [],
      "source": [
        "# 22. Implement a program to determine the type of a triangle based on its angles.\n",
        "def triangle_type(angle1, angle2, angle3):\n",
        "    \"\"\"\n",
        "    Determine the type of a triangle based on its angles.\n",
        "    \"\"\"\n",
        "    # Check if the angles form a valid triangle\n",
        "    if angle1 + angle2 + angle3 == 180 and all(angle > 0 for angle in (angle1, angle2, angle3)):\n",
        "        # Check for the type of triangle\n",
        "        if angle1 == angle2 == angle3:\n",
        "            return \"Equilateral triangle\"\n",
        "        elif angle1 == angle2 or angle1 == angle3 or angle2 == angle3:\n",
        "            return \"Isosceles triangle\"\n",
        "        else:\n",
        "            return \"Scalene triangle\"\n",
        "    else:\n",
        "        return \"Invalid triangle angles. Please enter valid angles.\"\n",
        "\n",
        "def main():\n",
        "    # Get input from the user\n",
        "    angle1 = float(input(\"Enter the first angle of the triangle: \"))\n",
        "    angle2 = float(input(\"Enter the second angle of the triangle: \"))\n",
        "    angle3 = float(input(\"Enter the third angle of the triangle: \"))\n",
        "\n",
        "    # Determine and print the type of triangle\n",
        "    result = triangle_type(angle1, angle2, angle3)\n",
        "    print(f\"The triangle is a {result}.\")\n",
        "\n",
        "if __name__ == \"__main__\":\n",
        "    main()\n"
      ]
    },
    {
      "cell_type": "code",
      "execution_count": null,
      "metadata": {
        "colab": {
          "background_save": true
        },
        "id": "_I6AP5R-5oYd",
        "outputId": "7ab82c70-fafb-4c94-e53b-6e62eb0a5416"
      },
      "outputs": [
        {
          "name": "stdout",
          "output_type": "stream",
          "text": [
            "BMI: 28.73\n",
            "Category: Overweight\n"
          ]
        }
      ],
      "source": [
        "# 23. Develop a program to categorize a given person's BMI into underweight, normal, overweight, or obese using  elif statements.\n",
        "\n",
        "def calculate_bmi(weight, height):\n",
        "    # Calculate BMI\n",
        "    bmi = weight / (height ** 2)\n",
        "\n",
        "    # Categorize BMI\n",
        "    if bmi < 18.5:\n",
        "        category = \"Underweight\"\n",
        "    elif 18.5 <= bmi < 24.9:\n",
        "        category = \"Normal\"\n",
        "    elif 25 <= bmi < 29.9:\n",
        "        category = \"Overweight\"\n",
        "    else:\n",
        "        category = \"Obese\"\n",
        "\n",
        "    return bmi, category\n",
        "\n",
        "# Input\n",
        "weight = float(input(\"Enter weight in kilograms: \"))\n",
        "height = float(input(\"Enter height in meters: \"))\n",
        "\n",
        "# Check if the input values are valid\n",
        "if weight > 0 and height > 0:\n",
        "    # Calculate BMI and categorize\n",
        "    result = calculate_bmi(weight, height)\n",
        "    bmi, category = result\n",
        "\n",
        "    # Display result\n",
        "    print(f\"BMI: {bmi:.2f}\")\n",
        "    print(f\"Category: {category}\")\n",
        "else:\n",
        "    print(\"Invalid input. Please enter valid weight and height.\")\n"
      ]
    },
    {
      "cell_type": "code",
      "execution_count": null,
      "metadata": {
        "id": "WwPOhV_g5obT"
      },
      "outputs": [],
      "source": [
        "# 24.  Create a program that determines whether a given number is positive, negative, or zero using elif statements.\n",
        "# Input\n",
        "number = float(input(\"Enter a number: \"))\n",
        "\n",
        "# Check if the number is positive, negative, or zero\n",
        "if number > 0:\n",
        "    print(\"The number is positive.\")\n",
        "elif number < 0:\n",
        "    print(\"The number is negative.\")\n",
        "else:\n",
        "    print(\"The number is zero.\")\n"
      ]
    },
    {
      "cell_type": "code",
      "execution_count": null,
      "metadata": {
        "id": "oqfo57zyHDfO"
      },
      "outputs": [],
      "source": [
        "# 25. Write a Python script to determine the type of a character (uppercase, lowercase, or special) using elif statements.\n",
        "# Input\n",
        "char = input(\"Enter a character: \")\n",
        "\n",
        "# Check the type of the character\n",
        "if char.isupper():\n",
        "    print(\"The character is uppercase.\")\n",
        "elif char.islower():\n",
        "    print(\"The character is lowercase.\")\n",
        "else:\n",
        "    print(\"The character is a special character.\")\n",
        "\n"
      ]
    },
    {
      "cell_type": "code",
      "execution_count": null,
      "metadata": {
        "id": "McknioQXHDiu"
      },
      "outputs": [],
      "source": [
        "# 26.Implement a program to calculate the discounted price based on different purchase amounts using elif statements.\n",
        "def calculate_discounted_price(purchase_amount):\n",
        "    if purchase_amount >= 1000:\n",
        "        discount_percentage = 10\n",
        "    elif purchase_amount >= 500:\n",
        "        discount_percentage = 5\n",
        "    elif purchase_amount >= 200:\n",
        "        discount_percentage = 2\n",
        "    else:\n",
        "        discount_percentage = 0\n",
        "\n",
        "    discount = (discount_percentage / 100) * purchase_amount\n",
        "    discounted_price = purchase_amount - discount\n",
        "\n",
        "    return discounted_price\n",
        "\n",
        "# Example usage:\n",
        "purchase_amount = float(input(\"Enter the purchase amount: \"))\n",
        "\n",
        "discounted_price = calculate_discounted_price(purchase_amount)\n",
        "\n",
        "print(f\"The discounted price for a purchase of ${purchase_amount:.2f} is ${discounted_price:.2f}\")\n"
      ]
    },
    {
      "cell_type": "code",
      "execution_count": null,
      "metadata": {
        "id": "U_r-UFl1HDl4"
      },
      "outputs": [],
      "source": [
        "# 27. Develop a program to calculate the electricity bill based on different consumption slabs using elif statements.\n",
        "def calculate_electricity_bill(units_consumed):\n",
        "    if units_consumed <= 50:\n",
        "        # First slab: 0 to 50 units\n",
        "        rate_per_unit = 2.50\n",
        "    elif units_consumed <= 100:\n",
        "        # Second slab: 51 to 100 units\n",
        "        rate_per_unit = 3.00\n",
        "    elif units_consumed <= 200:\n",
        "        # Third slab: 101 to 200 units\n",
        "        rate_per_unit = 4.50\n",
        "    elif units_consumed <= 300:\n",
        "        # Fourth slab: 201 to 300 units\n",
        "        rate_per_unit = 6.00\n",
        "    else:\n",
        "        # Fifth slab: Above 300 units\n",
        "        rate_per_unit = 7.00\n",
        "\n",
        "    # Calculate the total bill\n",
        "    total_bill = units_consumed * rate_per_unit\n",
        "\n",
        "    return total_bill\n",
        "\n",
        "# Example usage:\n",
        "units_consumed = float(input(\"Enter the number of units consumed: \"))\n",
        "\n",
        "electricity_bill = calculate_electricity_bill(units_consumed)\n",
        "\n",
        "print(f\"The electricity bill for {units_consumed} units is ${electricity_bill:.2f}\")\n"
      ]
    },
    {
      "cell_type": "code",
      "execution_count": null,
      "metadata": {
        "id": "YL_4i9gBHDo9"
      },
      "outputs": [],
      "source": [
        "# 28. Create a program to determine the type of quadrilateral based on its angles and sides using elif statements.\n",
        "def determine_quadrilateral_type(a, b, c, d, A, B, C, D):\n",
        "    # Check if the angles add up to 360 degrees\n",
        "    if A + B + C + D != 360:\n",
        "        return \"Invalid quadrilateral: Angles do not add up to 360 degrees.\"\n",
        "\n",
        "    # Check if the sides satisfy the triangle inequality\n",
        "    if a + b <= c or b + c <= d or c + d <= a or d + a <= b:\n",
        "        return \"Invalid quadrilateral: Side lengths do not satisfy the triangle inequality.\"\n",
        "\n",
        "    # Check the type of quadrilateral based on angles and sides\n",
        "    if A == B == C == D == 90:\n",
        "        return \"Type: Rectangle\"\n",
        "    elif A == C == 90 and B == D == 90:\n",
        "        return \"Type: Rhombus\"\n",
        "    elif A == C == 90 or B == D == 90:\n",
        "        return \"Type: Parallelogram\"\n",
        "    elif A == B == C == D:\n",
        "        return \"Type: Square\"\n",
        "    else:\n",
        "        return \"Type: Quadrilateral (not further specified)\"\n",
        "\n",
        "# Example usage:\n",
        "a = float(input(\"Enter side length a: \"))\n",
        "b = float(input(\"Enter side length b: \"))\n",
        "c = float(input(\"Enter side length c: \"))\n",
        "d = float(input(\"Enter side length d: \"))\n",
        "A = float(input(\"Enter angle A in degrees: \"))\n",
        "B = float(input(\"Enter angle B in degrees: \"))\n",
        "C = float(input(\"Enter angle C in degrees: \"))\n",
        "D = float(input(\"Enter angle D in degrees: \"))\n",
        "\n",
        "result = determine_quadrilateral_type(a, b, c, d, A, B, C, D)\n",
        "\n",
        "print(result)\n"
      ]
    },
    {
      "cell_type": "code",
      "execution_count": null,
      "metadata": {
        "id": "gz_4IojfHDsF"
      },
      "outputs": [],
      "source": [
        "# 29. Write a Python script to determine the season based on a user-provided month using elif statements.\n",
        "def determine_season(month):\n",
        "    if month in [12, 1, 2]:\n",
        "        return \"Winter\"\n",
        "    elif month in [3, 4, 5]:\n",
        "        return \"Spring\"\n",
        "    elif month in [6, 7, 8]:\n",
        "        return \"Summer\"\n",
        "    elif month in [9, 10, 11]:\n",
        "        return \"Autumn\"\n",
        "    else:\n",
        "        return \"Invalid month\"\n",
        "\n",
        "# Example usage:\n",
        "try:\n",
        "    month = int(input(\"Enter the month (1-12): \"))\n",
        "    if 1 <= month <= 12:\n",
        "        season = determine_season(month)\n",
        "        print(f\"The season for month {month} is {season}.\")\n",
        "    else:\n",
        "        print(\"Invalid month. Please enter a number between 1 and 12.\")\n",
        "except ValueError:\n",
        "    print(\"Invalid input. Please enter a valid integer for the month.\")\n"
      ]
    },
    {
      "cell_type": "code",
      "source": [
        "# 30.  Implement a program to determine the type of a year (leap or common) and month (30 or 31 days) using elif statements\n",
        "def determine_year_type(year):\n",
        "    if (year % 4 == 0 and year % 100 != 0) or (year % 400 == 0):\n",
        "        return \"Leap Year\"\n",
        "    else:\n",
        "        return \"Common Year\"\n",
        "\n",
        "def determine_days_in_month(month, year):\n",
        "    if month in [1, 3, 5, 7, 8, 10, 12]:\n",
        "        return 31\n",
        "    elif month in [4, 6, 9, 11]:\n",
        "        return 30\n",
        "    elif month == 2:\n",
        "        if determine_year_type(year) == \"Leap Year\":\n",
        "            return 29\n",
        "        else:\n",
        "            return 28\n",
        "    else:\n",
        "        return \"Invalid month\"\n",
        "\n",
        "# Example usage:\n",
        "try:\n",
        "    year = int(input(\"Enter the year: \"))\n",
        "    month = int(input(\"Enter the month (1-12): \"))\n",
        "\n",
        "    if 1 <= month <= 12:\n",
        "        year_type = determine_year_type(year)\n",
        "        days_in_month = determine_days_in_month(month, year)\n",
        "\n",
        "        print(f\"The year {year} is a {year_type}.\")\n",
        "        print(f\"The month {month} has {days_in_month} days.\")\n",
        "    else:\n",
        "        print(\"Invalid month. Please enter a number between 1 and 12.\")\n",
        "except ValueError:\n",
        "    print(\"Invalid input. Please enter valid integers for the year and month.\")\n"
      ],
      "metadata": {
        "id": "IalqU5geqaSI"
      },
      "execution_count": null,
      "outputs": []
    },
    {
      "cell_type": "code",
      "source": [
        "# Basic Level:"
      ],
      "metadata": {
        "id": "oAANx9nHlJVT"
      },
      "execution_count": 1,
      "outputs": []
    },
    {
      "cell_type": "code",
      "source": [
        "# 1. Write a Python program that checks if a given number is positive, negative, or zero.\n",
        "# Get user input for a number\n",
        "number = float(input(\"Enter a number: \"))\n",
        "\n",
        "# Check if the number is positive, negative, or zero\n",
        "if number > 0:\n",
        "    print(\"The entered number is positive.\")\n",
        "elif number < 0:\n",
        "    print(\"The entered number is negative.\")\n",
        "else:\n",
        "    print(\"The entered number is zero.\")\n"
      ],
      "metadata": {
        "id": "ZyEU9NFxlrD-",
        "colab": {
          "base_uri": "https://localhost:8080/"
        },
        "outputId": "e78d63e4-8e34-4685-dc66-f1f0305eb54c"
      },
      "execution_count": 2,
      "outputs": [
        {
          "output_type": "stream",
          "name": "stdout",
          "text": [
            "Enter a number: -3\n",
            "The entered number is negative.\n"
          ]
        }
      ]
    },
    {
      "cell_type": "code",
      "source": [
        "# 2. Create a program to determine if a person is eligible to vote based on their age.\n",
        "# Get user input for age\n",
        "age = int(input(\"Enter your age: \"))\n",
        "\n",
        "# Check if the person is eligible to vote\n",
        "if age >= 18:\n",
        "    print(\"You are eligible to vote.\")\n",
        "else:\n",
        "    print(\"You are not eligible to vote yet. Please wait until you turn 18.\")\n"
      ],
      "metadata": {
        "id": "w8DDSsAelrHX",
        "colab": {
          "base_uri": "https://localhost:8080/"
        },
        "outputId": "829f65cd-7619-4a32-99f4-84225ac3fdeb"
      },
      "execution_count": 3,
      "outputs": [
        {
          "output_type": "stream",
          "name": "stdout",
          "text": [
            "Enter your age: 12\n",
            "You are not eligible to vote yet. Please wait until you turn 18.\n"
          ]
        }
      ]
    },
    {
      "cell_type": "code",
      "source": [
        "# 3.  Write a program to find the maximum of two given numbers using conditional statements.\n",
        "# Get user input for two numbers\n",
        "num1 = float(input(\"Enter the first number: \"))\n",
        "num2 = float(input(\"Enter the second number: \"))\n",
        "\n",
        "# Find the maximum of the two numbers using conditional statements\n",
        "if num1 > num2:\n",
        "    max_num = num1\n",
        "else:\n",
        "    max_num = num2\n",
        "\n",
        "# Display the result\n",
        "print(f\"The maximum of {num1} and {num2} is: {max_num}\")\n"
      ],
      "metadata": {
        "id": "BDXlD_-0lrKe",
        "colab": {
          "base_uri": "https://localhost:8080/"
        },
        "outputId": "2f1023c6-de56-4f39-d6f8-175069002ab3"
      },
      "execution_count": 5,
      "outputs": [
        {
          "output_type": "stream",
          "name": "stdout",
          "text": [
            "Enter the first number: 43\n",
            "Enter the second number: 54\n",
            "The maximum of 43.0 and 54.0 is: 54.0\n"
          ]
        }
      ]
    },
    {
      "cell_type": "code",
      "source": [
        "# 4. Develop a program that calculates the grade of a student based on their exam score.\n",
        "# Get user input for exam score\n",
        "exam_score = float(input(\"Enter the exam score: \"))\n",
        "\n",
        "# Define grade ranges\n",
        "A_grade_range = (90, 100)\n",
        "B_grade_range = (80, 89)\n",
        "C_grade_range = (70, 79)\n",
        "D_grade_range = (60, 69)\n",
        "F_grade_range = (0, 59)\n",
        "\n",
        "# Determine the grade based on the exam score\n",
        "if exam_score >= A_grade_range[0] and exam_score <= A_grade_range[1]:\n",
        "    grade = \"A\"\n",
        "elif exam_score >= B_grade_range[0] and exam_score <= B_grade_range[1]:\n",
        "    grade = \"B\"\n",
        "elif exam_score >= C_grade_range[0] and exam_score <= C_grade_range[1]:\n",
        "    grade = \"C\"\n",
        "elif exam_score >= D_grade_range[0] and exam_score <= D_grade_range[1]:\n",
        "    grade = \"D\"\n",
        "else:\n",
        "    grade = \"F\"\n",
        "\n",
        "# Display the result\n",
        "print(f\"The grade for the exam score {exam_score} is: {grade}\")\n"
      ],
      "metadata": {
        "id": "qm5ngCVvlrN5",
        "colab": {
          "base_uri": "https://localhost:8080/"
        },
        "outputId": "0de2ac4b-3ba8-4ff5-e778-e8c209aeaa45"
      },
      "execution_count": 6,
      "outputs": [
        {
          "output_type": "stream",
          "name": "stdout",
          "text": [
            "Enter the exam score: 45\n",
            "The grade for the exam score 45.0 is: F\n"
          ]
        }
      ]
    },
    {
      "cell_type": "code",
      "source": [
        "# 5. Create a program that checks if a year is a leap year or not.\n",
        "# Get user input for the year\n",
        "year = int(input(\"Enter a year: \"))\n",
        "\n",
        "# Check if the year is a leap year\n",
        "if (year % 4 == 0 and year % 100 != 0) or (year % 400 == 0):\n",
        "    print(f\"{year} is a leap year.\")\n",
        "else:\n",
        "    print(f\"{year} is not a leap year.\")\n"
      ],
      "metadata": {
        "id": "mdmQJve1lrRA",
        "colab": {
          "base_uri": "https://localhost:8080/"
        },
        "outputId": "145dbac9-03e2-430f-8749-271f794c0fbf"
      },
      "execution_count": 7,
      "outputs": [
        {
          "output_type": "stream",
          "name": "stdout",
          "text": [
            "Enter a year: 2012\n",
            "2012 is a leap year.\n"
          ]
        }
      ]
    },
    {
      "cell_type": "code",
      "source": [
        "# 6. Write a program to classify a triangle based on its sides' lengths.\n",
        "# Get user input for the lengths of the three sides\n",
        "side1 = float(input(\"Enter the length of the first side: \"))\n",
        "side2 = float(input(\"Enter the length of the second side: \"))\n",
        "side3 = float(input(\"Enter the length of the third side: \"))\n",
        "\n",
        "# Check and classify the triangle based on its sides' lengths\n",
        "if side1 == side2 == side3:\n",
        "    triangle_type = \"equilateral\"\n",
        "elif side1 == side2 or side1 == side3 or side2 == side3:\n",
        "    triangle_type = \"isosceles\"\n",
        "else:\n",
        "    triangle_type = \"scalene\"\n",
        "\n",
        "# Display the result\n",
        "print(f\"The triangle with side lengths {side1}, {side2}, and {side3} is a {triangle_type} triangle.\")\n"
      ],
      "metadata": {
        "id": "beKxfrzclrUG",
        "colab": {
          "base_uri": "https://localhost:8080/"
        },
        "outputId": "fe0c396b-8a5e-4f78-ad20-f9d39a4b14d5"
      },
      "execution_count": 8,
      "outputs": [
        {
          "output_type": "stream",
          "name": "stdout",
          "text": [
            "Enter the length of the first side: 12\n",
            "Enter the length of the second side: 23\n",
            "Enter the length of the third side: 23\n",
            "The triangle with side lengths 12.0, 23.0, and 23.0 is a isosceles triangle.\n"
          ]
        }
      ]
    },
    {
      "cell_type": "code",
      "source": [
        "# 7.  Build a program that determines the largest of three given numbers.\n",
        "# Get user input for three numbers\n",
        "num1 = float(input(\"Enter the first number: \"))\n",
        "num2 = float(input(\"Enter the second number: \"))\n",
        "num3 = float(input(\"Enter the third number: \"))\n",
        "\n",
        "# Find the largest number among the three\n",
        "largest_num = max(num1, num2, num3)\n",
        "\n",
        "# Display the result\n",
        "print(f\"The largest number among {num1}, {num2}, and {num3} is: {largest_num}\")\n"
      ],
      "metadata": {
        "id": "Ml8u9Ml2lrW8",
        "colab": {
          "base_uri": "https://localhost:8080/"
        },
        "outputId": "d207f938-701b-407e-a3dd-d03d65ce5dc7"
      },
      "execution_count": 9,
      "outputs": [
        {
          "output_type": "stream",
          "name": "stdout",
          "text": [
            "Enter the first number: 12\n",
            "Enter the second number: 23\n",
            "Enter the third number: 45\n",
            "The largest number among 12.0, 23.0, and 45.0 is: 45.0\n"
          ]
        }
      ]
    },
    {
      "cell_type": "code",
      "source": [
        "# 8.  Develop a program that checks whether a character is a vowel or a consonant.\n",
        "# Get user input for a character\n",
        "char = input(\"Enter a character: \")\n",
        "\n",
        "# Check if the entered character is a vowel or a consonant\n",
        "if char.isalpha() and len(char) == 1:\n",
        "    char_lower = char.lower()\n",
        "    if char_lower in \"aeiou\":\n",
        "        print(f\"The character '{char}' is a vowel.\")\n",
        "    else:\n",
        "        print(f\"The character '{char}' is a consonant.\")\n",
        "else:\n",
        "    print(\"Please enter a valid single character.\")\n"
      ],
      "metadata": {
        "id": "w95enCo1lraX",
        "colab": {
          "base_uri": "https://localhost:8080/"
        },
        "outputId": "308a0ca1-7f11-4b9d-fe8f-1c05eb34aa0f"
      },
      "execution_count": 11,
      "outputs": [
        {
          "output_type": "stream",
          "name": "stdout",
          "text": [
            "Enter a character: 5\n",
            "Please enter a valid single character.\n"
          ]
        }
      ]
    },
    {
      "cell_type": "code",
      "source": [
        "# 9. Create a program to calculate the total cost of a shopping cart based on discounts.\n",
        "# Get user input for the number of items and their prices\n",
        "num_items = int(input(\"Enter the number of items in your shopping cart: \"))\n",
        "\n",
        "# Initialize variables\n",
        "total_cost = 0\n",
        "\n",
        "# Get input for each item's price and calculate total cost\n",
        "for i in range(1, num_items + 1):\n",
        "    item_price = float(input(f\"Enter the price of item {i}: \"))\n",
        "    total_cost += item_price\n",
        "\n",
        "# Apply discount based on the total cost\n",
        "if total_cost >= 100:\n",
        "    discount = 0.1  # 10% discount for total cost >= $100\n",
        "    discounted_amount = total_cost * discount\n",
        "    total_cost -= discounted_amount\n",
        "    print(f\"Congratulations! You qualify for a {discount * 100}% discount.\")\n",
        "    print(f\"Discounted amount: ${discounted_amount:.2f}\")\n",
        "\n",
        "# Display the total cost\n",
        "print(f\"Total cost of your shopping cart: ${total_cost:.2f}\")\n"
      ],
      "metadata": {
        "id": "Voo3gghXlrdv",
        "colab": {
          "base_uri": "https://localhost:8080/"
        },
        "outputId": "0637e403-83f8-4dee-bcdf-6b172cd31a6e"
      },
      "execution_count": 12,
      "outputs": [
        {
          "output_type": "stream",
          "name": "stdout",
          "text": [
            "Enter the number of items in your shopping cart: 3\n",
            "Enter the price of item 1: 23\n",
            "Enter the price of item 2: 43\n",
            "Enter the price of item 3: 54\n",
            "Congratulations! You qualify for a 10.0% discount.\n",
            "Discounted amount: $12.00\n",
            "Total cost of your shopping cart: $108.00\n"
          ]
        }
      ]
    },
    {
      "cell_type": "code",
      "source": [
        "# 10.  Write a program that checks if a given number is even or odd.\n",
        "# Get user input for a number\n",
        "number = int(input(\"Enter a number: \"))\n",
        "\n",
        "# Check if the number is even or odd\n",
        "if number % 2 == 0:\n",
        "    print(f\"{number} is an even number.\")\n",
        "else:\n",
        "    print(f\"{number} is an odd number.\")\n",
        "\n"
      ],
      "metadata": {
        "id": "1wMdTSLalrhL",
        "colab": {
          "base_uri": "https://localhost:8080/"
        },
        "outputId": "d9bd60d9-e69f-42b7-9e56-fa4228879074"
      },
      "execution_count": 13,
      "outputs": [
        {
          "output_type": "stream",
          "name": "stdout",
          "text": [
            "Enter a number: 23\n",
            "23 is an odd number.\n"
          ]
        }
      ]
    },
    {
      "cell_type": "code",
      "source": [
        "# Intermediate Level:"
      ],
      "metadata": {
        "id": "ti7lIm7Mlrju"
      },
      "execution_count": null,
      "outputs": []
    },
    {
      "cell_type": "code",
      "source": [
        "# 11. Write a program that calculates the roots of a quadratic equation .\n",
        "import math\n",
        "\n",
        "# Get user input for quadratic equation coefficients\n",
        "a = float(input(\"Enter the coefficient a: \"))\n",
        "b = float(input(\"Enter the coefficient b: \"))\n",
        "c = float(input(\"Enter the coefficient c: \"))\n",
        "\n",
        "# Calculate the discriminant\n",
        "discriminant = b**2 - 4 * a * c\n",
        "\n",
        "# Check the nature of the roots\n",
        "if discriminant > 0:\n",
        "    # Two distinct real roots\n",
        "    root1 = (-b + math.sqrt(discriminant)) / (2 * a)\n",
        "    root2 = (-b - math.sqrt(discriminant)) / (2 * a)\n",
        "    print(f\"The roots of the quadratic equation are: {root1} and {root2}\")\n",
        "elif discriminant == 0:\n",
        "    # One real root (repeated)\n",
        "    root = -b / (2 * a)\n",
        "    print(f\"The root of the quadratic equation is: {root}\")\n",
        "else:\n",
        "    # Complex roots\n",
        "    real_part = -b / (2 * a)\n",
        "    imaginary_part = math.sqrt(abs(discriminant)) / (2 * a)\n",
        "    root1 = f\"{real_part} + {imaginary_part}i\"\n",
        "    root2 = f\"{real_part} - {imaginary_part}i\"\n",
        "    print(f\"The roots of the quadratic equation are complex: {root1} and {root2}\")\n",
        "\n"
      ],
      "metadata": {
        "id": "qakzRg-clsKr"
      },
      "execution_count": null,
      "outputs": []
    },
    {
      "cell_type": "code",
      "source": [
        "# 12. Create a program that determines the day of the week based on the day number (1-7).\n",
        "# Get user input for the day number\n",
        "day_number = int(input(\"Enter a day number (1-7): \"))\n",
        "\n",
        "# Check and determine the day of the week\n",
        "if 1 <= day_number <= 7:\n",
        "    if day_number == 1:\n",
        "        day_name = \"Sunday\"\n",
        "    elif day_number == 2:\n",
        "        day_name = \"Monday\"\n",
        "    elif day_number == 3:\n",
        "        day_name = \"Tuesday\"\n",
        "    elif day_number == 4:\n",
        "        day_name = \"Wednesday\"\n",
        "    elif day_number == 5:\n",
        "        day_name = \"Thursday\"\n",
        "    elif day_number == 6:\n",
        "        day_name = \"Friday\"\n",
        "    else:\n",
        "        day_name = \"Saturday\"\n",
        "\n",
        "    print(f\"The day number {day_number} corresponds to {day_name}.\")\n",
        "else:\n",
        "    print(\"Please enter a valid day number (1-7).\")\n"
      ],
      "metadata": {
        "id": "wvWtpZQSlsNr"
      },
      "execution_count": null,
      "outputs": []
    },
    {
      "cell_type": "code",
      "source": [
        "# 13. Develop a program that calculates the factorial of a given number using recursion.\n",
        "# Define the factorial function using recursion\n",
        "def factorial(n):\n",
        "    if n == 0 or n == 1:\n",
        "        return 1\n",
        "    else:\n",
        "        return n * factorial(n - 1)\n",
        "\n",
        "# Get user input for the number\n",
        "number = int(input(\"Enter a number: \"))\n",
        "\n",
        "# Check if the number is non-negative\n",
        "if number < 0:\n",
        "    print(\"Please enter a non-negative number.\")\n",
        "else:\n",
        "    # Calculate and display the factorial\n",
        "    result = factorial(number)\n",
        "    print(f\"The factorial of {number} is: {result}\")\n"
      ],
      "metadata": {
        "id": "8DDmiUPmlsQw"
      },
      "execution_count": null,
      "outputs": []
    },
    {
      "cell_type": "code",
      "source": [
        "# 14. Write a program to find the largest among three numbers without using the `max()` function.\n",
        "# Get user input for three numbers\n",
        "num1 = float(input(\"Enter the first number: \"))\n",
        "num2 = float(input(\"Enter the second number: \"))\n",
        "num3 = float(input(\"Enter the third number: \"))\n",
        "\n",
        "# Find the largest number without using max()\n",
        "largest_num = num1\n",
        "\n",
        "if num2 > largest_num:\n",
        "    largest_num = num2\n",
        "\n",
        "if num3 > largest_num:\n",
        "    largest_num = num3\n",
        "\n",
        "# Display the result\n",
        "print(f\"The largest number among {num1}, {num2}, and {num3} is: {largest_num}\")\n"
      ],
      "metadata": {
        "id": "K7ta-yX4lsTn"
      },
      "execution_count": null,
      "outputs": []
    },
    {
      "cell_type": "code",
      "source": [
        "# 15. Create a program that simulates a basic ATM transaction menu.\n",
        "# Initialize account balance\n",
        "account_balance = 1000.0\n",
        "\n",
        "# Function to display account balance\n",
        "def display_balance():\n",
        "    print(f\"Your current account balance is: ${account_balance:.2f}\")\n",
        "\n",
        "# Function to deposit money\n",
        "def deposit():\n",
        "    global account_balance\n",
        "    amount = float(input(\"Enter the amount to deposit: $\"))\n",
        "    if amount > 0:\n",
        "        account_balance += amount\n",
        "        print(f\"${amount:.2f} has been deposited successfully.\")\n",
        "        display_balance()\n",
        "    else:\n",
        "        print(\"Invalid amount. Please enter a positive value.\")\n",
        "\n",
        "# Function to withdraw money\n",
        "def withdraw():\n",
        "    global account_balance\n",
        "    amount = float(input(\"Enter the amount to withdraw: $\"))\n",
        "    if 0 < amount <= account_balance:\n",
        "        account_balance -= amount\n",
        "        print(f\"${amount:.2f} has been withdrawn successfully.\")\n",
        "        display_balance()\n",
        "    elif amount <= 0:\n",
        "        print(\"Invalid amount. Please enter a positive value.\")\n",
        "    else:\n",
        "        print(\"Insufficient funds. Withdrawal canceled.\")\n",
        "\n",
        "# Main program loop\n",
        "while True:\n",
        "    print(\"\\nATM Menu:\")\n",
        "    print(\"1. Display Balance\")\n",
        "    print(\"2. Deposit Money\")\n",
        "    print(\"3. Withdraw Money\")\n",
        "    print(\"4. Exit\")\n",
        "\n",
        "    choice = input(\"Enter your choice (1-4): \")\n",
        "\n",
        "    if choice == '1':\n",
        "        display_balance()\n",
        "    elif choice == '2':\n",
        "        deposit()\n",
        "    elif choice == '3':\n",
        "        withdraw()\n",
        "    elif choice == '4':\n",
        "        print(\"Thank you for using the ATM. Goodbye!\")\n",
        "        break\n",
        "    else:\n",
        "        print(\"Invalid choice. Please enter a number between 1 and 4.\")\n"
      ],
      "metadata": {
        "id": "A_kOqSifVYku"
      },
      "execution_count": null,
      "outputs": []
    },
    {
      "cell_type": "code",
      "source": [
        "# 16. Build a program that checks if a given string is a palindrome or not.\n",
        "def is_palindrome(input_str):\n",
        "    # Remove spaces and convert to lowercase for case-insensitive comparison\n",
        "    cleaned_str = ''.join(input_str.split()).lower()\n",
        "\n",
        "    # Compare the original string with its reverse\n",
        "    return cleaned_str == cleaned_str[::-1]\n",
        "\n",
        "# Get user input for a string\n",
        "user_input = input(\"Enter a string: \")\n",
        "\n",
        "# Check if the string is a palindrome\n",
        "if is_palindrome(user_input):\n",
        "    print(f\"{user_input} is a palindrome.\")\n",
        "else:\n",
        "    print(f\"{user_input} is not a palindrome.\")\n"
      ],
      "metadata": {
        "id": "DKhcSF9sVYn3"
      },
      "execution_count": null,
      "outputs": []
    },
    {
      "cell_type": "code",
      "source": [
        "# 17. Write a program that calculates the average of a list of numbers, excluding the smallest and largest values.\n",
        "def calculate_average(numbers):\n",
        "    # Check if the list has at least two elements\n",
        "    if len(numbers) < 3:\n",
        "        return \"Insufficient number of elements to calculate the average.\"\n",
        "\n",
        "    # Exclude the smallest and largest values\n",
        "    numbers.sort()\n",
        "    excluded_numbers = numbers[1:-1]\n",
        "\n",
        "    # Calculate the average of the remaining values\n",
        "    average = sum(excluded_numbers) / len(excluded_numbers)\n",
        "    return average\n",
        "\n",
        "# Get user input for a list of numbers\n",
        "numbers_input = input(\"Enter a list of numbers separated by spaces: \")\n",
        "numbers_list = [float(num) for num in numbers_input.split()]\n",
        "\n",
        "# Calculate and display the average\n",
        "result = calculate_average(numbers_list)\n",
        "print(f\"The average (excluding the smallest and largest values) is: {result}\")\n"
      ],
      "metadata": {
        "id": "323o1RVkVYq8"
      },
      "execution_count": null,
      "outputs": []
    },
    {
      "cell_type": "code",
      "source": [
        "# 18.  Develop a program that converts a given temperature from Celsius to Fahrenheit.\n",
        "# Function to convert Celsius to Fahrenheit\n",
        "def celsius_to_fahrenheit(celsius):\n",
        "    return (celsius * 9/5) + 32\n",
        "\n",
        "# Get user input for the temperature in Celsius\n",
        "celsius_temperature = float(input(\"Enter the temperature in Celsius: \"))\n",
        "\n",
        "# Convert and display the temperature in Fahrenheit\n",
        "fahrenheit_temperature = celsius_to_fahrenheit(celsius_temperature)\n",
        "print(f\"{celsius_temperature} degrees Celsius is equal to {fahrenheit_temperature:.2f} degrees Fahrenheit.\")\n"
      ],
      "metadata": {
        "id": "Lcz8JSi2VYuW"
      },
      "execution_count": null,
      "outputs": []
    },
    {
      "cell_type": "code",
      "source": [
        "# 19.  Create a program that simulates a basic calculator for addition, subtraction, multiplication, and division.\n",
        "# Function to perform addition\n",
        "def add(x, y):\n",
        "    return x + y\n",
        "\n",
        "# Function to perform subtraction\n",
        "def subtract(x, y):\n",
        "    return x - y\n",
        "\n",
        "# Function to perform multiplication\n",
        "def multiply(x, y):\n",
        "    return x * y\n",
        "\n",
        "# Function to perform division\n",
        "def divide(x, y):\n",
        "    if y != 0:\n",
        "        return x / y\n",
        "    else:\n",
        "        return \"Cannot divide by zero.\"\n",
        "\n",
        "# Display the calculator menu\n",
        "print(\"Simple Calculator:\")\n",
        "print(\"1. Addition\")\n",
        "print(\"2. Subtraction\")\n",
        "print(\"3. Multiplication\")\n",
        "print(\"4. Division\")\n",
        "\n",
        "# Get user input for operation choice\n",
        "choice = input(\"Enter the operation number (1-4): \")\n",
        "\n",
        "# Get user input for numbers\n",
        "num1 = float(input(\"Enter the first number: \"))\n",
        "num2 = float(input(\"Enter the second number: \"))\n",
        "\n",
        "# Perform the selected operation\n",
        "if choice == '1':\n",
        "    result = add(num1, num2)\n",
        "    operation = \"addition\"\n",
        "elif choice == '2':\n",
        "    result = subtract(num1, num2)\n",
        "    operation = \"subtraction\"\n",
        "elif choice == '3':\n",
        "    result = multiply(num1, num2)\n",
        "    operation = \"multiplication\"\n",
        "elif choice == '4':\n",
        "    result = divide(num1, num2)\n",
        "    operation = \"division\"\n",
        "else:\n",
        "    result = \"Invalid choice\"\n",
        "    operation = \"\"\n",
        "\n",
        "# Display the result\n",
        "if operation:\n",
        "    print(f\"The result of {num1} {operation} {num2} is: {result}\")\n",
        "else:\n",
        "    print(result)\n"
      ],
      "metadata": {
        "id": "cJKgWuP3VY0n"
      },
      "execution_count": null,
      "outputs": []
    },
    {
      "cell_type": "code",
      "source": [
        "# 20. Write a program that determines the roots of a cubic equation using the Cardano formula.\n",
        "import cmath\n",
        "\n",
        "# Function to find the roots of a cubic equation using Cardano's formula\n",
        "def cubic_roots(a, b, c, d):\n",
        "    # Calculate delta (discriminant)\n",
        "    delta_0 = b**2 - 3*a*c\n",
        "    delta_1 = 2*b**3 - 9*a*b*c + 27*a**2*d\n",
        "    delta = delta_1**2 - 4*delta_0**3\n",
        "\n",
        "    # Calculate cube roots of unity\n",
        "    omega = complex(-0.5, cmath.sqrt(3)/2)\n",
        "    cube_roots_of_unity = [1, omega, omega**2]\n",
        "\n",
        "    # Calculate roots using Cardano's formula\n",
        "    if delta == 0:\n",
        "        # Case of one real root\n",
        "        root = -b / (3*a)\n",
        "        roots = [root]\n",
        "    elif delta > 0:\n",
        "        # Case of three real roots\n",
        "        C = ((delta_1 + cmath.sqrt(delta)) / 2)**(1/3)\n",
        "        roots = [(-1/(3*a)) * (b + k * C + delta_0/C) for k in range(3)]\n",
        "    else:\n",
        "        # Case of one real root and two complex roots\n",
        "        C = ((-delta_1 + cmath.sqrt(delta_0**3 - delta_1**2)) / 2)**(1/3)\n",
        "        u = complex(1, 0)  # Cube root of 1\n",
        "        roots = [(-1/(3*a)) * (b + u**k * C + delta_0/(u**k * C)) for k in range(3)]\n",
        "\n",
        "    return roots\n",
        "\n",
        "# Get user input for coefficients of the cubic equation\n",
        "a = float(input(\"Enter the coefficient a: \"))\n",
        "b = float(input(\"Enter the coefficient b: \"))\n",
        "c = float(input(\"Enter the coefficient c: \"))\n",
        "d = float(input(\"Enter the coefficient d: \"))\n",
        "\n",
        "# Calculate and display the roots\n",
        "roots = cubic_roots(a, b, c, d)\n",
        "print(f\"The roots of the cubic equation are: {roots}\")\n"
      ],
      "metadata": {
        "id": "2_L14o6KVY3f"
      },
      "execution_count": null,
      "outputs": []
    },
    {
      "cell_type": "code",
      "source": [
        "# Advanced Level:"
      ],
      "metadata": {
        "id": "u45ubZOnVY6T"
      },
      "execution_count": null,
      "outputs": []
    },
    {
      "cell_type": "code",
      "source": [
        "# 21. Create a program that calculates the income tax based on the user's income and tax brackets.\n",
        "# Function to calculate income tax based on tax brackets\n",
        "def calculate_income_tax(income):\n",
        "    # Define tax brackets and rates\n",
        "    brackets = [10000, 40000, 80000, 180000]  # Example brackets\n",
        "    rates = [0.1, 0.2, 0.3, 0.4, 0.5]  # Example tax rates\n",
        "\n",
        "    # Calculate income tax\n",
        "    tax = 0\n",
        "    remaining_income = income\n",
        "\n",
        "    for i in range(len(brackets)):\n",
        "        if remaining_income <= 0:\n",
        "            break\n",
        "\n",
        "        if i == len(brackets) - 1:\n",
        "            # Last bracket\n",
        "            tax += remaining_income * rates[i]\n",
        "        else:\n",
        "            # Check if income is within the current bracket\n",
        "            taxable_amount = min(remaining_income, brackets[i+1] - brackets[i])\n",
        "            tax += taxable_amount * rates[i]\n",
        "\n",
        "        remaining_income -= brackets[i+1] - brackets[i]\n",
        "\n",
        "    return tax\n",
        "\n",
        "# Get user input for income\n",
        "income = float(input(\"Enter your annual income: \"))\n",
        "\n",
        "# Calculate and display income tax\n",
        "income_tax = calculate_income_tax(income)\n",
        "print(f\"Your income tax is: ${income_tax:.2f}\")\n"
      ],
      "metadata": {
        "id": "wA8qFa8XdFp4"
      },
      "execution_count": null,
      "outputs": []
    },
    {
      "cell_type": "code",
      "source": [
        "# 22.  Write a program that simulates a rock-paper-scissors game against the computer.\n",
        "import random\n",
        "\n",
        "# Function to get the user's choice\n",
        "def get_user_choice():\n",
        "    print(\"1. Rock\")\n",
        "    print(\"2. Paper\")\n",
        "    print(\"3. Scissors\")\n",
        "    choice = input(\"Enter your choice (1-3): \")\n",
        "    return choice\n",
        "\n",
        "# Function to get the computer's choice\n",
        "def get_computer_choice():\n",
        "    return str(random.randint(1, 3))\n",
        "\n",
        "# Function to determine the winner\n",
        "def determine_winner(user_choice, computer_choice):\n",
        "    if user_choice == computer_choice:\n",
        "        return \"It's a tie!\"\n",
        "    elif (user_choice == '1' and computer_choice == '3') or \\\n",
        "         (user_choice == '2' and computer_choice == '1') or \\\n",
        "         (user_choice == '3' and computer_choice == '2'):\n",
        "        return \"You win!\"\n",
        "    else:\n",
        "        return \"Computer wins!\"\n",
        "\n",
        "# Main game loop\n",
        "while True:\n",
        "    user_choice = get_user_choice()\n",
        "    computer_choice = get_computer_choice()\n",
        "\n",
        "    print(f\"\\nYour choice: {user_choice}\")\n",
        "    print(f\"Computer's choice: {computer_choice}\")\n",
        "\n",
        "    result = determine_winner(user_choice, computer_choice)\n",
        "    print(result)\n",
        "\n",
        "    play_again = input(\"Do you want to play again? (yes/no): \")\n",
        "    if play_again.lower() != 'yes':\n",
        "        print(\"Thanks for playing! Goodbye!\")\n",
        "        break\n"
      ],
      "metadata": {
        "id": "vLzYh79sdFs_"
      },
      "execution_count": null,
      "outputs": []
    },
    {
      "cell_type": "code",
      "source": [
        "# 23. Develop a program that generates a random password based on user preferences (length, complexity).\n",
        "import random\n",
        "import string\n",
        "\n",
        "# Function to generate a random password\n",
        "def generate_password(length, use_lowercase, use_uppercase, use_digits, use_symbols):\n",
        "    # Define character sets based on complexity preferences\n",
        "    lowercase_chars = string.ascii_lowercase if use_lowercase else ''\n",
        "    uppercase_chars = string.ascii_uppercase if use_uppercase else ''\n",
        "    digit_chars = string.digits if use_digits else ''\n",
        "    symbol_chars = string.punctuation if use_symbols else ''\n",
        "\n",
        "    # Combine character sets\n",
        "    all_chars = lowercase_chars + uppercase_chars + digit_chars + symbol_chars\n",
        "\n",
        "    # Check if at least one character set is selected\n",
        "    if not all_chars:\n",
        "        return \"Error: Please select at least one character set for the password.\"\n",
        "\n",
        "    # Generate the password\n",
        "    password = ''.join(random.choice(all_chars) for _ in range(length))\n",
        "\n",
        "    return password\n",
        "\n",
        "# Get user preferences for password generation\n",
        "length = int(input(\"Enter the desired password length: \"))\n",
        "use_lowercase = input(\"Include lowercase letters? (yes/no): \").lower() == 'yes'\n",
        "use_uppercase = input(\"Include uppercase letters? (yes/no): \").lower() == 'yes'\n",
        "use_digits = input(\"Include digits? (yes/no): \").lower() == 'yes'\n",
        "use_symbols = input(\"Include symbols? (yes/no): \").lower() == 'yes'\n",
        "\n",
        "# Generate and display the password\n",
        "password = generate_password(length, use_lowercase, use_uppercase, use_digits, use_symbols)\n",
        "print(f\"\\nGenerated Password: {password}\")\n"
      ],
      "metadata": {
        "id": "pCkor3lgdFv4"
      },
      "execution_count": null,
      "outputs": []
    },
    {
      "cell_type": "code",
      "source": [
        "# 24.  Create a program that implements a simple text-based adventure game with branching scenarios.\n",
        "import time\n",
        "\n",
        "def introduction():\n",
        "    print(\"Welcome to the Adventure Game!\")\n",
        "    time.sleep(1)\n",
        "    print(\"You find yourself in a mysterious forest.\")\n",
        "    time.sleep(1)\n",
        "    print(\"Your goal is to reach the treasure at the end of the forest.\")\n",
        "    time.sleep(1)\n",
        "\n",
        "def make_choice(question, options):\n",
        "    print(question)\n",
        "    for i, option in enumerate(options, start=1):\n",
        "        print(f\"{i}. {option}\")\n",
        "\n",
        "    while True:\n",
        "        choice = input(\"Enter the number of your choice: \")\n",
        "        if choice.isdigit() and 1 <= int(choice) <= len(options):\n",
        "            return int(choice)\n",
        "        else:\n",
        "            print(\"Invalid choice. Please enter a valid number.\")\n",
        "\n",
        "def forest_scenario():\n",
        "    print(\"\\nYou enter the forest.\")\n",
        "    time.sleep(1)\n",
        "\n",
        "    choice = make_choice(\"You come across a fork in the path. Which way do you want to go?\", [\"Go left\", \"Go right\"])\n",
        "    if choice == 1:\n",
        "        print(\"You chose to go left.\")\n",
        "        time.sleep(1)\n",
        "        print(\"You encounter a river. What do you want to do?\")\n",
        "        time.sleep(1)\n",
        "\n",
        "        choice = make_choice(\"1. Try to swim across\\n2. Look for a bridge\", [\"Swim\", \"Look for a bridge\"])\n",
        "        if choice == 1:\n",
        "            print(\"You tried to swim across the river but got swept away by the current. Game over!\")\n",
        "        else:\n",
        "            print(\"You found a hidden bridge and safely crossed the river.\")\n",
        "            time.sleep(1)\n",
        "            print(\"You continue your journey through the forest.\")\n",
        "\n",
        "    else:\n",
        "        print(\"You chose to go right.\")\n",
        "        time.sleep(1)\n",
        "        print(\"You find a mysterious cave entrance. Do you want to enter the cave?\")\n",
        "        time.sleep(1)\n",
        "\n",
        "        choice = make_choice(\"1. Enter the cave\\n2. Continue through the forest\", [\"Enter the cave\", \"Continue through the forest\"])\n",
        "        if choice == 1:\n",
        "            print(\"You enter the cave and find a sleeping dragon. Game over!\")\n",
        "        else:\n",
        "            print(\"You decide to continue through the forest.\")\n",
        "\n",
        "    print(\"You reach the end of the forest. Congratulations, you found the treasure!\")\n",
        "\n",
        "def main():\n",
        "    introduction()\n",
        "    forest_scenario()\n",
        "\n",
        "if __name__ == \"__main__\":\n",
        "    main()\n"
      ],
      "metadata": {
        "id": "eEkZY9Q3dFys"
      },
      "execution_count": null,
      "outputs": []
    },
    {
      "cell_type": "code",
      "source": [
        "# 25. Build a program that solves a linear equation  for x, considering different cases.\n",
        "\n",
        " def solve_linear_equation(a, b):\n",
        "    # Case 1: a is zero\n",
        "    if a == 0:\n",
        "        if b == 0:\n",
        "            return \"Infinite solutions (all real numbers are solutions).\"\n",
        "        else:\n",
        "            return \"No solution (the equation is inconsistent).\"\n",
        "\n",
        "    # Case 2: b is zero\n",
        "    if b == 0:\n",
        "        return \"The solution is x = 0.\"\n",
        "\n",
        "    # Case 3: Both a and b are non-zero\n",
        "    x = -b / a\n",
        "    return f\"The solution is x = {x}.\"\n",
        "\n",
        "# Get user input for coefficients\n",
        "a = float(input(\"Enter the coefficient a: \"))\n",
        "b = float(input(\"Enter the coefficient b: \"))\n",
        "\n",
        "# Solve and display the result\n",
        "result = solve_linear_equation(a, b)\n",
        "print(result)\n"
      ],
      "metadata": {
        "id": "Po-4pZ9odF1j"
      },
      "execution_count": null,
      "outputs": []
    },
    {
      "cell_type": "code",
      "source": [
        "# 26. Write a program that simulates a basic quiz game with multiple-choice questions and scoring.\n",
        "import random\n",
        "\n",
        "# Function to display a question and options, and get user's answer\n",
        "def ask_question(question, options):\n",
        "    print(question)\n",
        "    for i, option in enumerate(options, start=1):\n",
        "        print(f\"{i}. {option}\")\n",
        "\n",
        "    user_answer = input(\"Enter the number of your answer: \")\n",
        "    return int(user_answer)\n",
        "\n",
        "# Function to simulate a quiz game\n",
        "def quiz():\n",
        "    questions = [\n",
        "        {\n",
        "            'question': \"What is the capital of France?\",\n",
        "            'options': ['Berlin', 'Madrid', 'Paris', 'Rome'],\n",
        "            'correct_answer': 3\n",
        "        },\n",
        "        {\n",
        "            'question': \"Which planet is known as the Red Planet?\",\n",
        "            'options': ['Earth', 'Mars', 'Jupiter', 'Venus'],\n",
        "            'correct_answer': 2\n",
        "        },\n",
        "        {\n",
        "            'question': \"What is the largest mammal in the world?\",\n",
        "            'options': ['Elephant', 'Blue Whale', 'Giraffe', 'Hippopotamus'],\n",
        "            'correct_answer': 2\n",
        "        }\n",
        "    ]\n",
        "\n",
        "    score = 0\n",
        "\n",
        "    for question in questions:\n",
        "        user_answer = ask_question(question['question'], question['options'])\n",
        "        if user_answer == question['correct_answer']:\n",
        "            print(\"Correct!\\n\")\n",
        "            score += 1\n",
        "        else:\n",
        "            print(f\"Wrong! The correct answer is {question['correct_answer']}\\n\")\n",
        "\n",
        "    print(f\"You scored {score} out of {len(questions)}.\")\n",
        "\n",
        "# Main program\n",
        "print(\"Welcome to the Quiz Game!\")\n",
        "start_quiz = input(\"Would you like to start the quiz? (yes/no): \")\n",
        "\n",
        "if start_quiz.lower() == 'yes':\n",
        "    quiz()\n",
        "    print(\"Thanks for playing!\")\n",
        "else:\n",
        "    print(\"Maybe next time. Goodbye!\")\n"
      ],
      "metadata": {
        "id": "oxtFFWm8dF4b"
      },
      "execution_count": null,
      "outputs": []
    },
    {
      "cell_type": "code",
      "source": [
        "#27.  Develop a program that determines whether a given year is a prime number or not.\n",
        "def is_prime(year):\n",
        "    if year < 2:\n",
        "        return False\n",
        "    for i in range(2, int(year**0.5) + 1):\n",
        "        if year % i == 0:\n",
        "            return False\n",
        "    return True\n",
        "\n",
        "# Get user input for the year\n",
        "year = int(input(\"Enter a year: \"))\n",
        "\n",
        "# Check and display the result\n",
        "if is_prime(year):\n",
        "    print(f\"{year} is a prime number.\")\n",
        "else:\n",
        "    print(f\"{year} is not a prime number.\")\n"
      ],
      "metadata": {
        "id": "jZ-h7QUudF7U"
      },
      "execution_count": null,
      "outputs": []
    },
    {
      "cell_type": "code",
      "source": [
        "# 28. Create a program that sorts three numbers in ascending order using conditional statements.\n",
        "# Get user input for three numbers\n",
        "num1 = float(input(\"Enter the first number: \"))\n",
        "num2 = float(input(\"Enter the second number: \"))\n",
        "num3 = float(input(\"Enter the third number: \"))\n",
        "\n",
        "# Sort the numbers using conditional statements\n",
        "if num1 <= num2 <= num3:\n",
        "    sorted_numbers = (num1, num2, num3)\n",
        "elif num1 <= num3 <= num2:\n",
        "    sorted_numbers = (num1, num3, num2)\n",
        "elif num2 <= num1 <= num3:\n",
        "    sorted_numbers = (num2, num1, num3)\n",
        "elif num2 <= num3 <= num1:\n",
        "    sorted_numbers = (num2, num3, num1)\n",
        "elif num3 <= num1 <= num2:\n",
        "    sorted_numbers = (num3, num1, num2)\n",
        "else:\n",
        "    sorted_numbers = (num3, num2, num1)\n",
        "\n",
        "# Display the sorted numbers\n",
        "print(\"The numbers in ascending order are:\", sorted_numbers)\n"
      ],
      "metadata": {
        "id": "MZWRyznqdF-b"
      },
      "execution_count": null,
      "outputs": []
    },
    {
      "cell_type": "code",
      "source": [
        "# 29. Build a program that determines the roots of a quartic equation using numerical methods.\n",
        "def quartic_equation(x, coefficients):\n",
        "    return sum(c * x ** i for i, c in enumerate(coefficients))\n",
        "\n",
        "def quartic_derivative(x, coefficients):\n",
        "    return sum(i * c * x ** (i - 1) for i, c in enumerate(coefficients[1:], start=1))\n",
        "\n",
        "def newton_raphson_quartic(coefficients, initial_guess, tolerance=1e-6, max_iterations=100):\n",
        "    x = initial_guess\n",
        "\n",
        "    for _ in range(max_iterations):\n",
        "        f_x = quartic_equation(x, coefficients)\n",
        "        f_prime_x = quartic_derivative(x, coefficients)\n",
        "\n",
        "        if abs(f_prime_x) < tolerance:\n",
        "            break\n",
        "\n",
        "        x = x - f_x / f_prime_x\n",
        "\n",
        "        if abs(f_x) < tolerance:\n",
        "            break\n",
        "\n",
        "    return x\n",
        "\n",
        "# Example: Solving x^4 - 3x^3 - 2x^2 + 8x + 4 = 0\n",
        "coefficients = [1, -3, -2, 8, 4]\n",
        "initial_guess = 0.0\n",
        "\n",
        "root = newton_raphson_quartic(coefficients, initial_guess)\n",
        "\n",
        "print(f\"The root of the quartic equation is approximately {root:.6f}\")\n"
      ],
      "metadata": {
        "id": "_5WpCZxQdGBR"
      },
      "execution_count": null,
      "outputs": []
    },
    {
      "cell_type": "code",
      "source": [
        "# 30. Write a program that calculates the BMI (Body Mass Index) and provides health recommendations based on the user's input.\n",
        "def calculate_bmi(weight, height):\n",
        "    # BMI formula: weight (kg) / (height (m))^2\n",
        "    return weight / (height ** 2)\n",
        "\n",
        "def interpret_bmi(bmi):\n",
        "    if bmi < 18.5:\n",
        "        return \"Underweight\"\n",
        "    elif 18.5 <= bmi < 24.9:\n",
        "        return \"Normal weight\"\n",
        "    elif 25 <= bmi < 29.9:\n",
        "        return \"Overweight\"\n",
        "    else:\n",
        "        return \"Obese\"\n",
        "\n",
        "# Get user input for weight and height\n",
        "weight = float(input(\"Enter your weight in kilograms: \"))\n",
        "height = float(input(\"Enter your height in meters: \"))\n",
        "\n",
        "# Calculate BMI\n",
        "bmi = calculate_bmi(weight, height)\n",
        "\n",
        "# Interpret BMI and provide health recommendations\n",
        "bmi_category = interpret_bmi(bmi)\n",
        "\n",
        "print(f\"Your BMI is: {bmi:.2f}\")\n",
        "print(f\"You are categorized as: {bmi_category}\")\n",
        "\n",
        "if bmi_category == \"Underweight\":\n",
        "    print(\"Recommendation: Consider gaining some weight for better health.\")\n",
        "elif bmi_category == \"Normal weight\":\n",
        "    print(\"Recommendation: Maintain a healthy lifestyle with a balanced diet and regular exercise.\")\n",
        "elif bmi_category == \"Overweight\":\n",
        "    print(\"Recommendation: Consider losing weight through a balanced diet and regular exercise.\")\n",
        "else:\n",
        "    print(\"Recommendation: Consult with a healthcare professional for weight management advice.\")\n"
      ],
      "metadata": {
        "colab": {
          "base_uri": "https://localhost:8080/"
        },
        "id": "66fR6f0odGEM",
        "outputId": "27eb74af-bb13-43ff-ff30-ca8af699116a"
      },
      "execution_count": 1,
      "outputs": [
        {
          "output_type": "stream",
          "name": "stdout",
          "text": [
            "Enter your weight in kilograms: 87.5\n",
            "Enter your height in meters: 1.75\n",
            "Your BMI is: 28.57\n",
            "You are categorized as: Overweight\n",
            "Recommendation: Consider losing weight through a balanced diet and regular exercise.\n"
          ]
        }
      ]
    },
    {
      "cell_type": "code",
      "source": [
        "# 31.  Create a program that validates a password based on complexity rules (length, characters, etc.).\n",
        "import re\n",
        "\n",
        "def is_valid_password(password):\n",
        "    # Check minimum length\n",
        "    if len(password) < 8:\n",
        "        return False\n",
        "\n",
        "    # Check for at least one uppercase letter\n",
        "    if not any(char.isupper() for char in password):\n",
        "        return False\n",
        "\n",
        "    # Check for at least one lowercase letter\n",
        "    if not any(char.islower() for char in password):\n",
        "        return False\n",
        "\n",
        "    # Check for at least one digit\n",
        "    if not any(char.isdigit() for char in password):\n",
        "        return False\n",
        "\n",
        "    # Check for at least one special character\n",
        "    if not re.search(r'[!@#$%^&*(),.?\":{}|<>]', password):\n",
        "        return False\n",
        "\n",
        "    # All checks passed, the password is valid\n",
        "    return True\n",
        "\n",
        "# Get user input for a password\n",
        "password = input(\"Enter a password: \")\n",
        "\n",
        "# Validate and display the result\n",
        "if is_valid_password(password):\n",
        "    print(\"Password is valid.\")\n",
        "else:\n",
        "    print(\"Password is not valid. Please ensure it meets the complexity requirements.\")\n"
      ],
      "metadata": {
        "id": "KnbTjF5gdGHS"
      },
      "execution_count": null,
      "outputs": []
    },
    {
      "cell_type": "code",
      "source": [
        "# 32. Develop a program that performs matrix addition and subtraction based on user input.\n",
        "def matrix_addition(matrix1, matrix2):\n",
        "    result = [[matrix1[i][j] + matrix2[i][j] for j in range(len(matrix1[0]))] for i in range(len(matrix1))]\n",
        "    return result\n",
        "\n",
        "def matrix_subtraction(matrix1, matrix2):\n",
        "    result = [[matrix1[i][j] - matrix2[i][j] for j in range(len(matrix1[0]))] for i in range(len(matrix1))]\n",
        "    return result\n",
        "\n",
        "def print_matrix(matrix, label):\n",
        "    print(label)\n",
        "    for row in matrix:\n",
        "        print(row)\n",
        "\n",
        "def get_matrix_from_user():\n",
        "    rows = int(input(\"Enter the number of rows: \"))\n",
        "    cols = int(input(\"Enter the number of columns: \"))\n",
        "\n",
        "    matrix = []\n",
        "    for i in range(rows):\n",
        "        row = [float(input(f\"Enter element at position ({i+1}, {j+1}): \")) for j in range(cols)]\n",
        "        matrix.append(row)\n",
        "\n",
        "    return matrix\n",
        "\n",
        "# Get matrices from the user\n",
        "print(\"Enter details for the first matrix:\")\n",
        "matrix_a = get_matrix_from_user()\n",
        "\n",
        "print(\"\\nEnter details for the second matrix:\")\n",
        "matrix_b = get_matrix_from_user()\n",
        "\n",
        "# Perform matrix addition and subtraction\n",
        "matrix_sum = matrix_addition(matrix_a, matrix_b)\n",
        "matrix_difference = matrix_subtraction(matrix_a, matrix_b)\n",
        "\n",
        "# Print the results\n",
        "print(\"\\nMatrix Addition Result:\")\n",
        "print_matrix(matrix_sum, \"Matrix Sum\")\n",
        "\n",
        "print(\"\\nMatrix Subtraction Result:\")\n",
        "print_matrix(matrix_difference, \"Matrix Difference\")\n",
        "\n"
      ],
      "metadata": {
        "id": "4sc23w4bdGKH"
      },
      "execution_count": null,
      "outputs": []
    },
    {
      "cell_type": "code",
      "source": [
        "# 33 .Write a program that calculates the greatest common divisor (GCD) of two numbers using the Euclidean algorithm.\n",
        "def euclidean_algorithm(a, b):\n",
        "    while b:\n",
        "        a, b = b, a % b\n",
        "    return a\n",
        "\n",
        "def calculate_gcd(num1, num2):\n",
        "    if num1 < 0 or num2 < 0:\n",
        "        return \"Both numbers should be non-negative.\"\n",
        "\n",
        "    if num1 == 0 and num2 == 0:\n",
        "        return \"GCD is undefined for two zero values.\"\n",
        "\n",
        "    gcd = euclidean_algorithm(abs(num1), abs(num2))\n",
        "    return gcd\n",
        "\n",
        "# Get user input for two numbers\n",
        "num1 = int(input(\"Enter the first number: \"))\n",
        "num2 = int(input(\"Enter the second number: \"))\n",
        "\n",
        "# Calculate and display the GCD\n",
        "gcd_result = calculate_gcd(num1, num2)\n",
        "\n",
        "if type(gcd_result) == int:\n",
        "    print(f\"The GCD of {num1} and {num2} is: {gcd_result}\")\n",
        "else:\n",
        "    print(gcd_result)\n"
      ],
      "metadata": {
        "id": "37oOa0EpgO_z"
      },
      "execution_count": null,
      "outputs": []
    },
    {
      "cell_type": "code",
      "source": [
        "# 34.  Build a program that performs matrix multiplication using nested loops and conditional statements.\n",
        "def matrix_multiplication(matrix1, matrix2):\n",
        "    rows1, cols1 = len(matrix1), len(matrix1[0])\n",
        "    rows2, cols2 = len(matrix2), len(matrix2[0])\n",
        "\n",
        "    # Check if matrix multiplication is possible\n",
        "    if cols1 != rows2:\n",
        "        return None\n",
        "\n",
        "    result = [[0 for _ in range(cols2)] for _ in range(rows1)]\n",
        "\n",
        "    for i in range(rows1):\n",
        "        for j in range(cols2):\n",
        "            for k in range(cols1):\n",
        "                result[i][j] += matrix1[i][k] * matrix2[k][j]\n",
        "\n",
        "    return result\n",
        "\n",
        "def print_matrix(matrix, label):\n",
        "    print(label)\n",
        "    for row in matrix:\n",
        "        print(row)\n",
        "\n",
        "def get_matrix_from_user():\n",
        "    rows = int(input(\"Enter the number of rows: \"))\n",
        "    cols = int(input(\"Enter the number of columns: \"))\n",
        "\n",
        "    matrix = []\n",
        "    for i in range(rows):\n",
        "        row = [float(input(f\"Enter element at position ({i+1}, {j+1}): \")) for j in range(cols)]\n",
        "        matrix.append(row)\n",
        "\n",
        "    return matrix\n",
        "\n",
        "# Get matrices from the user\n",
        "print(\"Enter details for the first matrix:\")\n",
        "matrix_a = get_matrix_from_user()\n",
        "\n",
        "print(\"\\nEnter details for the second matrix:\")\n",
        "matrix_b = get_matrix_from_user()\n",
        "\n",
        "# Perform matrix multiplication\n",
        "matrix_product = matrix_multiplication(matrix_a, matrix_b)\n",
        "\n",
        "# Print the result if multiplication is possible\n",
        "if matrix_product is not None:\n",
        "    print(\"\\nMatrix Multiplication Result:\")\n",
        "    print_matrix(matrix_product, \"Matrix Product\")\n",
        "else:\n",
        "    print(\"\\nMatrix multiplication is not possible due to incompatible dimensions.\")\n"
      ],
      "metadata": {
        "id": "i4rCIWUhgPDN"
      },
      "execution_count": null,
      "outputs": []
    },
    {
      "cell_type": "code",
      "source": [
        "# 35. Create a program that simulates a basic text-based tic-tac-toe game against the computer.\n",
        "import random\n",
        "\n",
        "def print_board(board):\n",
        "    for row in board:\n",
        "        print(\" | \".join(row))\n",
        "        print(\"-\" * 9)\n",
        "\n",
        "def is_winner(board, player):\n",
        "    # Check rows and columns\n",
        "    for i in range(3):\n",
        "        if all(cell == player for cell in board[i]) or all(board[j][i] == player for j in range(3)):\n",
        "            return True\n",
        "\n",
        "    # Check diagonals\n",
        "    if all(board[i][i] == player for i in range(3)) or all(board[i][2 - i] == player for i in range(3)):\n",
        "        return True\n",
        "\n",
        "    return False\n",
        "\n",
        "def is_board_full(board):\n",
        "    return all(cell != \" \" for row in board for cell in row)\n",
        "\n",
        "def player_move(board):\n",
        "    while True:\n",
        "        try:\n",
        "            row = int(input(\"Enter the row (1-3): \")) - 1\n",
        "            col = int(input(\"Enter the column (1-3): \")) - 1\n",
        "\n",
        "            if 0 <= row < 3 and 0 <= col < 3 and board[row][col] == \" \":\n",
        "                return row, col\n",
        "            else:\n",
        "                print(\"Invalid move. Try again.\")\n",
        "        except ValueError:\n",
        "            print(\"Invalid input. Please enter a number.\")\n",
        "\n",
        "def computer_move(board):\n",
        "    empty_cells = [(i, j) for i in range(3) for j in range(3) if board[i][j] == \" \"]\n",
        "    return random.choice(empty_cells)\n",
        "\n",
        "def play_tic_tac_toe():\n",
        "    board = [[\" \" for _ in range(3)] for _ in range(3)]\n",
        "    player_symbol = \"X\"\n",
        "    computer_symbol = \"O\"\n",
        "\n",
        "    print(\"Welcome to Tic-Tac-Toe!\")\n",
        "\n",
        "    while True:\n",
        "        print_board(board)\n",
        "\n",
        "        # Player's move\n",
        "        row, col = player_move(board)\n",
        "        board[row][col] = player_symbol\n",
        "\n",
        "        # Check if the player wins\n",
        "        if is_winner(board, player_symbol):\n",
        "            print_board(board)\n",
        "            print(\"Congratulations! You win!\")\n",
        "            break\n",
        "\n",
        "        # Check if the board is full\n",
        "        if is_board_full(board):\n",
        "            print_board(board)\n",
        "            print(\"It's a tie!\")\n",
        "            break\n",
        "\n",
        "        # Computer's move\n",
        "        print(\"Computer's move:\")\n",
        "        row, col = computer_move(board)\n",
        "        board[row][col] = computer_symbol\n",
        "\n",
        "        # Check if the computer wins\n",
        "        if is_winner(board, computer_symbol):\n",
        "            print_board(board)\n",
        "            print(\"Computer wins! Better luck next time.\")\n",
        "            break\n",
        "\n",
        "if __name__ == \"__main__\":\n",
        "    play_tic_tac_toe()\n"
      ],
      "metadata": {
        "id": "NvkdYglUgPGR"
      },
      "execution_count": null,
      "outputs": []
    },
    {
      "cell_type": "code",
      "source": [
        "# 36. Write a program that generates Fibonacci numbers up to a specified term using iterative methods.\n",
        "def generate_fibonacci(n):\n",
        "    fibonacci_sequence = [0, 1]\n",
        "\n",
        "    for i in range(2, n):\n",
        "        next_term = fibonacci_sequence[i-1] + fibonacci_sequence[i-2]\n",
        "        fibonacci_sequence.append(next_term)\n",
        "\n",
        "    return fibonacci_sequence\n",
        "\n",
        "# Get user input for the number of terms\n",
        "num_terms = int(input(\"Enter the number of Fibonacci terms to generate: \"))\n",
        "\n",
        "# Generate and display Fibonacci numbers\n",
        "fibonacci_numbers = generate_fibonacci(num_terms)\n",
        "print(f\"Fibonacci sequence up to term {num_terms}: {fibonacci_numbers}\")\n"
      ],
      "metadata": {
        "id": "FkdiTZ8ugPJZ"
      },
      "execution_count": null,
      "outputs": []
    },
    {
      "cell_type": "code",
      "source": [
        "# 37.  Develop a program that calculates the nth term of the Fibonacci sequence using memoization.\n",
        "def fibonacci_memo(n, memo={}):\n",
        "    if n <= 1:\n",
        "        return n\n",
        "\n",
        "    # Check if the value is already memoized\n",
        "    if n in memo:\n",
        "        return memo[n]\n",
        "\n",
        "    # Calculate the Fibonacci value and memoize it\n",
        "    result = fibonacci_memo(n - 1, memo) + fibonacci_memo(n - 2, memo)\n",
        "    memo[n] = result\n",
        "    return result\n",
        "\n",
        "# Get user input for the term of the Fibonacci sequence\n",
        "n = int(input(\"Enter the term (n) of the Fibonacci sequence: \"))\n",
        "\n",
        "# Calculate and display the nth term using memoization\n",
        "result = fibonacci_memo(n)\n",
        "print(f\"The {n}th term of the Fibonacci sequence is: {result}\")\n"
      ],
      "metadata": {
        "id": "4OGYEZvUgPMQ"
      },
      "execution_count": null,
      "outputs": []
    },
    {
      "cell_type": "code",
      "source": [
        "# 38.  Create a program that generates a calendar for a given month and year using conditional statements.\n",
        "import calendar\n",
        "\n",
        "def generate_calendar(year, month):\n",
        "    # Check if the year and month are valid\n",
        "    if not (1 <= month <= 12):\n",
        "        return \"Invalid month. Please enter a month between 1 and 12.\"\n",
        "\n",
        "    try:\n",
        "        calendar_text = calendar.month(year, month)\n",
        "        return calendar_text\n",
        "    except ValueError:\n",
        "        return \"Invalid year. Please enter a valid year.\"\n",
        "\n",
        "# Get user input for the year and month\n",
        "year = int(input(\"Enter the year: \"))\n",
        "month = int(input(\"Enter the month (1-12): \"))\n",
        "\n",
        "# Generate and display the calendar\n",
        "calendar_result = generate_calendar(year, month)\n",
        "print(calendar_result)\n",
        "\n"
      ],
      "metadata": {
        "colab": {
          "base_uri": "https://localhost:8080/"
        },
        "id": "og7jsFYCgPPI",
        "outputId": "599c688f-b20f-4be8-d248-c24812e2babc"
      },
      "execution_count": 1,
      "outputs": [
        {
          "output_type": "stream",
          "name": "stdout",
          "text": [
            "Enter the year: 2012\n",
            "Enter the month (1-12): 3\n",
            "     March 2012\n",
            "Mo Tu We Th Fr Sa Su\n",
            "          1  2  3  4\n",
            " 5  6  7  8  9 10 11\n",
            "12 13 14 15 16 17 18\n",
            "19 20 21 22 23 24 25\n",
            "26 27 28 29 30 31\n",
            "\n"
          ]
        }
      ]
    },
    {
      "cell_type": "code",
      "source": [
        "# 39.  Build a program that simulates a basic text-based blackjack game against the computer.\n",
        "import random\n",
        "\n",
        "def deal_card():\n",
        "    cards = [2, 3, 4, 5, 6, 7, 8, 9, 10, 10, 10, 10, 11]\n",
        "    return random.choice(cards)\n",
        "\n",
        "def calculate_score(cards):\n",
        "    if sum(cards) == 21 and len(cards) == 2:\n",
        "        return 0  # Blackjack (Ace + 10-value card)\n",
        "\n",
        "    if 11 in cards and sum(cards) > 21:\n",
        "        cards.remove(11)\n",
        "        cards.append(1)  # Convert Ace from 11 to 1\n",
        "\n",
        "    return sum(cards)\n",
        "\n",
        "def compare(player_score, computer_score):\n",
        "    if player_score == computer_score:\n",
        "        return \"It's a draw!\"\n",
        "    elif computer_score == 0:\n",
        "        return \"Computer has Blackjack. You lose.\"\n",
        "    elif player_score == 0:\n",
        "        return \"You have Blackjack. You win!\"\n",
        "    elif player_score > 21:\n",
        "        return \"You went over 21. You lose.\"\n",
        "    elif computer_score > 21:\n",
        "        return \"Computer went over 21. You win!\"\n",
        "    elif player_score > computer_score:\n",
        "        return \"You win!\"\n",
        "    else:\n",
        "        return \"You lose.\"\n",
        "\n",
        "def play_blackjack():\n",
        "    player_cards = []\n",
        "    computer_cards = []\n",
        "    is_game_over = False\n",
        "\n",
        "    for _ in range(2):\n",
        "        player_cards.append(deal_card())\n",
        "        computer_cards.append(deal_card())\n",
        "\n",
        "    while not is_game_over:\n",
        "        player_score = calculate_score(player_cards)\n",
        "        computer_score = calculate_score(computer_cards)\n",
        "\n",
        "        print(f\"Your cards: {player_cards}, current score: {player_score}\")\n",
        "        print(f\"Computer's first card: {computer_cards[0]}\")\n",
        "\n",
        "        if player_score == 0 or computer_score == 0 or player_score > 21:\n",
        "            is_game_over = True\n",
        "        else:\n",
        "            should_continue = input(\"Type 'y' to get another card, or 'n' to pass: \").lower()\n",
        "            if should_continue == 'y':\n",
        "                player_cards.append(deal_card())\n",
        "            else:\n",
        "                is_game_over = True\n",
        "\n",
        "    while computer_score != 0 and computer_score < 17:\n",
        "        computer_cards.append(deal_card())\n",
        "        computer_score = calculate_score(computer_cards)\n",
        "\n",
        "    print(f\"Your final hand: {player_cards}, final score: {player_score}\")\n",
        "    print(f\"Computer's final hand: {computer_cards}, final score: {computer_score}\")\n",
        "    print(compare(player_score, computer_score))\n",
        "\n",
        "# Start the Blackjack game\n",
        "play_blackjack()\n"
      ],
      "metadata": {
        "id": "dEP3t97_dGNA"
      },
      "execution_count": null,
      "outputs": []
    },
    {
      "cell_type": "code",
      "source": [
        "# 40.  Write a program that generates the prime factors of a given number using trial division.\n",
        "def prime_factors(n):\n",
        "    factors = []\n",
        "    divisor = 2\n",
        "\n",
        "    while divisor <= n:\n",
        "        if n % divisor == 0:\n",
        "            factors.append(divisor)\n",
        "            n //= divisor\n",
        "        else:\n",
        "            divisor += 1\n",
        "\n",
        "    return factors\n",
        "\n",
        "# Get user input for the number\n",
        "number = int(input(\"Enter a number to find its prime factors: \"))\n",
        "\n",
        "# Calculate and display the prime factors\n",
        "factors = prime_factors(number)\n",
        "if len(factors) == 0:\n",
        "    print(f\"{number} has no prime factors.\")\n",
        "else:\n",
        "    print(f\"The prime factors of {number} are: {factors}\")\n"
      ],
      "metadata": {
        "colab": {
          "base_uri": "https://localhost:8080/"
        },
        "id": "0iQTGF_rkyyZ",
        "outputId": "185d76ed-880d-4885-abd5-73818de83230"
      },
      "execution_count": 2,
      "outputs": [
        {
          "output_type": "stream",
          "name": "stdout",
          "text": [
            "Enter a number to find its prime factors: 12\n",
            "The prime factors of 12 are: [2, 2, 3]\n"
          ]
        }
      ]
    },
    {
      "cell_type": "code",
      "source": [],
      "metadata": {
        "id": "sUzatDfclXBY"
      },
      "execution_count": null,
      "outputs": []
    }
  ],
  "metadata": {
    "colab": {
      "provenance": []
    },
    "kernelspec": {
      "display_name": "Python 3",
      "name": "python3"
    },
    "language_info": {
      "name": "python"
    }
  },
  "nbformat": 4,
  "nbformat_minor": 0
}