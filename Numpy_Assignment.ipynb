{
  "nbformat": 4,
  "nbformat_minor": 0,
  "metadata": {
    "colab": {
      "provenance": []
    },
    "kernelspec": {
      "name": "python3",
      "display_name": "Python 3"
    },
    "language_info": {
      "name": "python"
    }
  },
  "cells": [
    {
      "cell_type": "code",
      "execution_count": 1,
      "metadata": {
        "id": "2lqTM40KHiuh"
      },
      "outputs": [],
      "source": [
        "# 1. What is a Python library? Why do we use Python libraries?\n",
        "#A Python library is a collection of pre-written code and functionalities that can be imported and used in Python programs. Libraries typically contain modules, functions, classes, and constants that serve specific purposes or solve particular problems.\n",
        "\n"
      ]
    },
    {
      "cell_type": "code",
      "source": [
        "#2. What is the difference between Numpy array and List?\n",
        "# NumPy arrays are more suitable for numerical computations, large datasets, and multidimensional data, while Python lists are more versatile and suitable for general-purpose programming and handling heterogeneous data."
      ],
      "metadata": {
        "id": "MI8jAXAxHsRS"
      },
      "execution_count": null,
      "outputs": []
    },
    {
      "cell_type": "code",
      "source": [
        "# 3. Find the shape, size and dimension of the following array?\n",
        "import numpy as np\n",
        "arr1= np.array([[1, 2, 3, 4],\n",
        "\n",
        "[5, 6, 7, 8],\n",
        "\n",
        "[9, 10, 11, 12]])\n",
        "\n",
        "arr1.shape\n",
        "arr1.size\n",
        "\n",
        "\n"
      ],
      "metadata": {
        "colab": {
          "base_uri": "https://localhost:8080/"
        },
        "id": "E0uM_TYGHsvc",
        "outputId": "701340ec-a277-43fc-a32c-822b78af1e96"
      },
      "execution_count": 8,
      "outputs": [
        {
          "output_type": "execute_result",
          "data": {
            "text/plain": [
              "12"
            ]
          },
          "metadata": {},
          "execution_count": 8
        }
      ]
    },
    {
      "cell_type": "code",
      "source": [
        "# 4. 4. Write python code to access the first row of the following array?\n",
        "\n",
        "arr1= np.array([[1, 2, 3, 4],\n",
        "\n",
        "[5, 6, 7, 8],\n",
        "\n",
        "[9, 10, 11, 12]])\n",
        "arr1[0]"
      ],
      "metadata": {
        "colab": {
          "base_uri": "https://localhost:8080/"
        },
        "id": "Eydao5UlHsyE",
        "outputId": "62b71e56-4372-4c48-f1ba-fae190d8ad75"
      },
      "execution_count": 9,
      "outputs": [
        {
          "output_type": "execute_result",
          "data": {
            "text/plain": [
              "array([1, 2, 3, 4])"
            ]
          },
          "metadata": {},
          "execution_count": 9
        }
      ]
    },
    {
      "cell_type": "code",
      "source": [
        "# 5. How do you access the element at the third row and fourth column from the given numpy array?\n",
        "\n",
        "arr1 = np.array([[1, 2, 3, 4],\n",
        "\n",
        "[5, 6, 7, 8],\n",
        "\n",
        "[9, 10, 11, 12]])\n",
        "arr1[2][3]\n",
        "\n",
        "\n",
        "\n"
      ],
      "metadata": {
        "colab": {
          "base_uri": "https://localhost:8080/"
        },
        "id": "8OMrbPBBHs0X",
        "outputId": "befdf783-855e-4276-90a3-9446e02f22b3"
      },
      "execution_count": 11,
      "outputs": [
        {
          "output_type": "execute_result",
          "data": {
            "text/plain": [
              "12"
            ]
          },
          "metadata": {},
          "execution_count": 11
        }
      ]
    },
    {
      "cell_type": "code",
      "source": [
        "# 6. 6. Write code to extract all odd-indexed elements from the given numpy array?\n",
        "\n",
        "[[1, 2, 3, 4]\n",
        "\n",
        "[5, 6, 7, 8],\n",
        "\n",
        "[9, 10, 11, 12]]\n",
        "\n",
        "import numpy as np\n",
        "\n",
        "# Given NumPy array\n",
        "arr = np.array([[1, 2, 3, 4],\n",
        "                [5, 6, 7, 8],\n",
        "                [9, 10, 11, 12]])\n",
        "\n",
        "# Extracting odd-indexed elements\n",
        "odd_indexed_elements = arr[:, 1::2]\n",
        "\n",
        "print(\"Odd-indexed elements:\")\n",
        "print(odd_indexed_elements)\n"
      ],
      "metadata": {
        "id": "jq6svqQlJA7r"
      },
      "execution_count": null,
      "outputs": []
    },
    {
      "cell_type": "code",
      "source": [
        "# 7. How can you generate a random 3x3 matrix with values between 0 and 1?\n",
        "import numpy as np\n",
        "\n",
        "# Generate a random 3x3 matrix with values between 0 and 1\n",
        "random_matrix = np.random.rand(3, 3)\n",
        "\n",
        "print(\"Random 3x3 matrix:\")\n",
        "print(random_matrix)\n"
      ],
      "metadata": {
        "colab": {
          "base_uri": "https://localhost:8080/"
        },
        "id": "yObI-zmHJA-T",
        "outputId": "291e3fde-c85b-4f9d-ff0a-9fdc0152e058"
      },
      "execution_count": 14,
      "outputs": [
        {
          "output_type": "stream",
          "name": "stdout",
          "text": [
            "Random 3x3 matrix:\n",
            "[[0.87437332 0.00767737 0.52349935]\n",
            " [0.62842957 0.09215263 0.32246425]\n",
            " [0.73500033 0.19857562 0.59614136]]\n"
          ]
        }
      ]
    },
    {
      "cell_type": "code",
      "source": [
        "# 8. Describe the difference between np.random.rand and np.random.randn?\n",
        "# np.random.rand generates random values from a uniform distribution over the interval [0, 1), while np.random.randn generates random values from a standard normal distribution with mean 0 and standard deviation 1.\n",
        "\n",
        "\n",
        "\n",
        "\n"
      ],
      "metadata": {
        "id": "Lf-Lvl57JBBI"
      },
      "execution_count": null,
      "outputs": []
    },
    {
      "cell_type": "code",
      "source": [
        "# 9.  Write code to increase the dimension of the following array?\n",
        "\n",
        "arr1 = np.array([[1, 2, 3, 4],\n",
        "\n",
        "[5, 6, 7, 8],\n",
        "\n",
        "[9, 10, 11, 12]])\n",
        "arr2= np.expand_dims(arr1,axis=0)\n",
        "arr2"
      ],
      "metadata": {
        "colab": {
          "base_uri": "https://localhost:8080/"
        },
        "id": "R5UJajDpKtUJ",
        "outputId": "1061aaa1-1488-4d4d-8fd4-222e4dc42dfb"
      },
      "execution_count": 19,
      "outputs": [
        {
          "output_type": "execute_result",
          "data": {
            "text/plain": [
              "array([[[ 1,  2,  3,  4],\n",
              "        [ 5,  6,  7,  8],\n",
              "        [ 9, 10, 11, 12]]])"
            ]
          },
          "metadata": {},
          "execution_count": 19
        }
      ]
    },
    {
      "cell_type": "code",
      "source": [
        "# 10. How to transpose the following array in NumPy?\n",
        "\n",
        "arr1= np.array([[1, 2, 3, 4],\n",
        "\n",
        "[5, 6, 7, 8],\n",
        "\n",
        "[9, 10, 11, 12]])\n",
        "arr2 = arr1.T\n",
        "arr2"
      ],
      "metadata": {
        "colab": {
          "base_uri": "https://localhost:8080/"
        },
        "id": "bPWpCvDsKtWt",
        "outputId": "2158a812-02aa-4e4b-f0ec-540aceccc62b"
      },
      "execution_count": 22,
      "outputs": [
        {
          "output_type": "execute_result",
          "data": {
            "text/plain": [
              "array([[ 1,  5,  9],\n",
              "       [ 2,  6, 10],\n",
              "       [ 3,  7, 11],\n",
              "       [ 4,  8, 12]])"
            ]
          },
          "metadata": {},
          "execution_count": 22
        }
      ]
    },
    {
      "cell_type": "code",
      "source": [
        "# 11. 11. Consider the following matrix:\n",
        "\n",
        "# Matrix A: [[1, 2, 3, 4] [5, 6, 7, 8],[9, 10, 11, 12]]\n",
        "\n",
        "# Matrix B: [[1, 2, 3, 4] [5, 6, 7, 8],[9, 10, 11, 12]]\n",
        "\n",
        "\n",
        "#Perform the following operation using Python1\n",
        "# 1.Index wise multiplication\n",
        "# 2.Matrix multiplication\n",
        "# 3.Add both the matrics\n",
        "# 4.Subtract matrix B from A\n",
        "# 5.Divide Matrix B by A\n",
        "\n",
        "import numpy as np\n",
        "\n",
        "# Define matrices A and B\n",
        "A = np.array([[1, 2, 3, 4],\n",
        "              [5, 6, 7, 8],\n",
        "              [9, 10, 11, 12]])\n",
        "\n",
        "B = np.array([[1, 2, 3, 4],\n",
        "              [5, 6, 7, 8],\n",
        "              [9, 10, 11, 12]])\n",
        "\n",
        "# 1. Index wise multiplication\n",
        "index_wise_multiplication = A * B\n",
        "\n",
        "# 2. Matrix multiplication\n",
        "matrix_multiplication = np.dot(A, B.T) # Using transpose of B for matrix multiplication\n",
        "\n",
        "# 3. Add both matrices\n",
        "addition = A + B\n",
        "\n",
        "# 4. Subtract matrix B from A\n",
        "subtraction = A - B\n",
        "\n",
        "# 5. Divide Matrix B by A\n",
        "division = B / A\n",
        "\n",
        "# Print results\n",
        "print(\"1. Index wise multiplication:\")\n",
        "print(index_wise_multiplication)\n",
        "\n",
        "print(\"\\n2. Matrix multiplication:\")\n",
        "print(matrix_multiplication)\n",
        "\n",
        "print(\"\\n3. Addition of matrices:\")\n",
        "print(addition)\n",
        "\n",
        "print(\"\\n4. Subtraction of matrix B from A:\")\n",
        "print(subtraction)\n",
        "\n",
        "print(\"\\n5. Division of Matrix B by A:\")\n",
        "print(division)\n",
        "\n",
        "\n",
        "\n",
        "\n",
        "\n",
        "\n"
      ],
      "metadata": {
        "colab": {
          "base_uri": "https://localhost:8080/"
        },
        "id": "7GDWTX3nKtZU",
        "outputId": "d23bc40e-c9e5-4209-8624-436877f6a812"
      },
      "execution_count": 25,
      "outputs": [
        {
          "output_type": "stream",
          "name": "stdout",
          "text": [
            "1. Index wise multiplication:\n",
            "[[  1   4   9  16]\n",
            " [ 25  36  49  64]\n",
            " [ 81 100 121 144]]\n",
            "\n",
            "2. Matrix multiplication:\n",
            "[[ 30  70 110]\n",
            " [ 70 174 278]\n",
            " [110 278 446]]\n",
            "\n",
            "3. Addition of matrices:\n",
            "[[ 2  4  6  8]\n",
            " [10 12 14 16]\n",
            " [18 20 22 24]]\n",
            "\n",
            "4. Subtraction of matrix B from A:\n",
            "[[0 0 0 0]\n",
            " [0 0 0 0]\n",
            " [0 0 0 0]]\n",
            "\n",
            "5. Division of Matrix B by A:\n",
            "[[1. 1. 1. 1.]\n",
            " [1. 1. 1. 1.]\n",
            " [1. 1. 1. 1.]]\n"
          ]
        }
      ]
    },
    {
      "cell_type": "code",
      "source": [
        "# 12. Which function in Numpy can be used to swap the byte order of an array?\n",
        "\n",
        "# In NumPy, you can use the byteswap() function to swap the byte order of an array. This function creates a new array with the byte order swapped without changing the original array."
      ],
      "metadata": {
        "id": "qyiTJjVXJBDO"
      },
      "execution_count": null,
      "outputs": []
    },
    {
      "cell_type": "code",
      "source": [
        "# 13. What is the significance of the np.linalg.inv function?\n",
        "\n",
        "# The np.linalg.inv function in NumPy is used to compute the multiplicative inverse of a square matrix. In other words, it calculates the inverse of a given matrix.\n"
      ],
      "metadata": {
        "id": "nMgc3EtKNCJ5"
      },
      "execution_count": null,
      "outputs": []
    },
    {
      "cell_type": "code",
      "source": [
        "# 14. What does the np.reshape function do, and how is it used?\n",
        "\n",
        "#The np.reshape function in NumPy is used to change the shape (dimensions) of an array without changing its data. It allows you to reorganize the elements of an array into a different shape while preserving the total number of elements.\n",
        "\n",
        "# The general syntax of np.reshape is:\n",
        "# np.reshape(a, newshape, order='C')"
      ],
      "metadata": {
        "id": "MMY-mlt4NCMm"
      },
      "execution_count": null,
      "outputs": []
    },
    {
      "cell_type": "code",
      "source": [
        "# 15. What is broadcasting in Numpy?\n",
        "# Broadcasting in NumPy refers to a set of rules that allow arrays with different shapes to be combined or operated on together. It allows for arithmetic operations to be performed on arrays of different shapes without the need for explicit expansion or copying of data.\n",
        "\n",
        "#The broadcasting rules in NumPy are designed to allow operations to be performed efficiently, while also ensuring that the semantics of the operation are preserved.\n",
        "\n",
        "#The main idea behind broadcasting is to extend smaller arrays so that they have compatible shapes with larger arrays, and then perform element-wise operations between them. The broadcasting rules define how this extension is done."
      ],
      "metadata": {
        "id": "CkeX5xV2NCO8"
      },
      "execution_count": null,
      "outputs": []
    }
  ]
}