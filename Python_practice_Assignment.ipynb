{
  "nbformat": 4,
  "nbformat_minor": 0,
  "metadata": {
    "colab": {
      "provenance": []
    },
    "kernelspec": {
      "name": "python3",
      "display_name": "Python 3"
    },
    "language_info": {
      "name": "python"
    }
  },
  "cells": [
    {
      "cell_type": "code",
      "execution_count": null,
      "metadata": {
        "colab": {
          "base_uri": "https://localhost:8080/"
        },
        "id": "12n38cHFabUT",
        "outputId": "51699968-c0bb-4b40-a1d7-457545d56f10"
      },
      "outputs": [
        {
          "output_type": "stream",
          "name": "stdout",
          "text": [
            "Enter the string to be reversed:gcfcgv\n",
            "vgcfcg\n"
          ]
        }
      ],
      "source": [
        "# 1. Write a program to reverse a string.\n",
        "\n",
        "def reverse_string(input_string):\n",
        "  new_string =\"\"\n",
        "  for i in range(len(input_string)-1,-1,-1):\n",
        "    new_string += input_string[i]\n",
        "  return new_string\n",
        "\n",
        "input_string=input(\"Enter the string to be reversed:\")\n",
        "\n",
        "print(reverse_string(input_string))\n",
        "\n",
        "\n"
      ]
    },
    {
      "cell_type": "code",
      "source": [
        "# 2. Check if a string is a palindrome.\n",
        "def palindrome(string):\n",
        "  i,j=0,len(string)-1\n",
        "  for i in range(int(len(string)/2)):\n",
        "    if string[i]!=string[j-i]:\n",
        "      return \"The string is not a palindrome:\"\n",
        "  return \"The string is a palindrome\"\n",
        "\n",
        "string=str(input(\"enter the string:\"))\n",
        "print(palindrome(string))\n",
        "\n",
        "\n"
      ],
      "metadata": {
        "colab": {
          "base_uri": "https://localhost:8080/"
        },
        "id": "sBZ8xph5an4o",
        "outputId": "812b91a0-c319-4f6b-9e2a-059c7308b3df"
      },
      "execution_count": null,
      "outputs": [
        {
          "output_type": "stream",
          "name": "stdout",
          "text": [
            "enter the string:nishant\n",
            "The string is not a palindrome:\n"
          ]
        }
      ]
    },
    {
      "cell_type": "code",
      "source": [
        "# 3. Convert a string to uppercase.\n",
        "input_string = input(\"Enter a string: \")\n",
        "\n",
        "# Convert the string to uppercase using the upper() method\n",
        "uppercase_string = input_string.upper()\n",
        "\n",
        "# Display the uppercase string\n",
        "print(\"Uppercase string:\", uppercase_string)\n"
      ],
      "metadata": {
        "colab": {
          "base_uri": "https://localhost:8080/"
        },
        "id": "kSPPpkITgtCW",
        "outputId": "2e1d2ea5-4bb5-4631-d479-83c344b85216"
      },
      "execution_count": null,
      "outputs": [
        {
          "output_type": "stream",
          "name": "stdout",
          "text": [
            "Enter a string: bdhbhsb\n",
            "Uppercase string: BDHBHSB\n"
          ]
        }
      ]
    },
    {
      "cell_type": "code",
      "source": [
        "# 4.Convert a string to lowercase.\n",
        "input_string = input(\"Enter a string: \")\n",
        "\n",
        "\n",
        "lowercase_string = input_string.lower()\n",
        "\n",
        "# Display the lowercase string\n",
        "print(\"Lowercase string:\", lowercase_string)\n",
        "\n"
      ],
      "metadata": {
        "colab": {
          "base_uri": "https://localhost:8080/"
        },
        "id": "WgwtYPvkg-Ra",
        "outputId": "e0d8864d-eeae-49b4-b249-8915bdcccfa9"
      },
      "execution_count": null,
      "outputs": [
        {
          "output_type": "stream",
          "name": "stdout",
          "text": [
            "Enter a string: HDBVHSBF\n",
            "Lowercase string: hdbvhsbf\n"
          ]
        }
      ]
    },
    {
      "cell_type": "code",
      "source": [
        "# 5. Count the number of vowels in a string.\n",
        "def countvowel(string):\n",
        "\n",
        "  vowels=\"aeiou\"\n",
        "  count=0\n",
        "  for char in string.lower():\n",
        "    if char in vowels:\n",
        "      count=count+1\n",
        "  return count\n",
        "\n",
        "string = input(\"enter the string :\")\n",
        "countvowel(string)\n",
        "\n"
      ],
      "metadata": {
        "colab": {
          "base_uri": "https://localhost:8080/"
        },
        "id": "p0ujWGr9g-Uk",
        "outputId": "4b21e759-2fd2-4845-88b0-105871841a2a"
      },
      "execution_count": null,
      "outputs": [
        {
          "name": "stdout",
          "output_type": "stream",
          "text": [
            "enter the string :aeghIOf\n"
          ]
        },
        {
          "output_type": "execute_result",
          "data": {
            "text/plain": [
              "4"
            ]
          },
          "metadata": {},
          "execution_count": 19
        }
      ]
    },
    {
      "cell_type": "code",
      "source": [
        "# 6.Count the number of consonants in a string.\n",
        "\n",
        "def count_consonants(input_string):\n",
        "\n",
        "    vowels = \"AEIOUaeiou\"\n",
        "    count = 0\n",
        "\n",
        "    for char in input_string:\n",
        "        # Check if the character is an alphabet letter and not a vowel\n",
        "        if char.isalpha() and char not in vowels:\n",
        "            count += 1\n",
        "\n",
        "    return count\n",
        "\n",
        "\n",
        "input_string = input(\"Enter a string: \")\n",
        "consonant_count = count_consonants(input_string)\n",
        "print(\"Number of consonants in the string:\", consonant_count)\n"
      ],
      "metadata": {
        "id": "YTc4M2EKg-XY"
      },
      "execution_count": null,
      "outputs": []
    },
    {
      "cell_type": "code",
      "source": [
        "# 7. Remove all whitespaces from a string.\n",
        "def removewhitespace(input_string):\n",
        "  new_string = input_string.replace(\" \",\"\")\n",
        "  return new_string\n",
        "\n",
        "input_string=str(input(\"enter the string\"))\n",
        "print(removewhitespace(input_string))\n",
        "\n"
      ],
      "metadata": {
        "id": "UdGVew4Wg-Z-",
        "colab": {
          "base_uri": "https://localhost:8080/"
        },
        "outputId": "fd9a8665-481c-476b-cbc0-c145a45b4436"
      },
      "execution_count": null,
      "outputs": [
        {
          "output_type": "stream",
          "name": "stdout",
          "text": [
            "enter the stringnish kumar\n",
            "nishkumar\n"
          ]
        }
      ]
    },
    {
      "cell_type": "code",
      "source": [
        "# 8. Find the length of a string without using the `len()` function.\n",
        "def string_length(string):\n",
        "    count = 0\n",
        "    for char in string:\n",
        "        count += 1\n",
        "    return count\n",
        "\n",
        "# Example usage:\n",
        "my_string = \"Hello, World!\"\n",
        "length = string_length(my_string)\n",
        "print(\"Length of the string:\", length)\n",
        "\n"
      ],
      "metadata": {
        "colab": {
          "base_uri": "https://localhost:8080/"
        },
        "id": "ePlBYZnEh5mG",
        "outputId": "7813c340-1c15-4fcd-f500-a16314d608d2"
      },
      "execution_count": null,
      "outputs": [
        {
          "output_type": "stream",
          "name": "stdout",
          "text": [
            "Length of the string: 13\n"
          ]
        }
      ]
    },
    {
      "cell_type": "code",
      "source": [
        "# 9. Check if a string contains a specific word.\n",
        "text = \"This is a sample text with a specific word.\"\n",
        "specific_word = \"specific\"\n",
        "\n",
        "if specific_word in text:\n",
        "    print(\"The string contains the specific word.\")\n",
        "else:\n",
        "    print(\"The string does not contain the specific word.\")\n",
        "\n",
        "\n"
      ],
      "metadata": {
        "colab": {
          "base_uri": "https://localhost:8080/"
        },
        "id": "LMW8Xy3kh5pB",
        "outputId": "f5d1f76c-bdba-4327-f218-fd91542449fd"
      },
      "execution_count": null,
      "outputs": [
        {
          "output_type": "stream",
          "name": "stdout",
          "text": [
            "The string contains the specific word.\n"
          ]
        }
      ]
    },
    {
      "cell_type": "code",
      "source": [
        "# 10. Replace a word in a string with another word.\n",
        "text = \"This is a sample text with a specific word.\"\n",
        "new_text =text.replace(\"sample\",\"try\")\n",
        "print(new_text)\n",
        "\n",
        "\n",
        "\n"
      ],
      "metadata": {
        "colab": {
          "base_uri": "https://localhost:8080/"
        },
        "id": "BB_RRNYvh5r5",
        "outputId": "67b61834-863e-4c6f-fe5d-4f3f92c50c28"
      },
      "execution_count": null,
      "outputs": [
        {
          "output_type": "stream",
          "name": "stdout",
          "text": [
            "This is a try text with a specific word.\n"
          ]
        }
      ]
    },
    {
      "cell_type": "code",
      "source": [
        "# 11. Count the occurrences of a word in a string.\n",
        "text = \"This is a sample text with a specific word.\"\n",
        "specific_word = \"specific\"\n",
        "print(text.count(specific_word))"
      ],
      "metadata": {
        "colab": {
          "base_uri": "https://localhost:8080/"
        },
        "id": "7EN9QIPnh5uf",
        "outputId": "93a13231-4366-4119-a9f2-924a0c615803"
      },
      "execution_count": null,
      "outputs": [
        {
          "output_type": "stream",
          "name": "stdout",
          "text": [
            "1\n"
          ]
        }
      ]
    },
    {
      "cell_type": "code",
      "source": [
        "# 12. Find the first occurrence of a word in a string.\n",
        "text = \"This is a sample text with a word. This word is repeated.\"\n",
        "word_to_find = \"word\"\n",
        "\n",
        "index = text.find(word_to_find)\n",
        "\n",
        "if index != -1:\n",
        "    print(f\"The word '{word_to_find}' first occurs at index {index}.\")\n",
        "else:\n",
        "    print(f\"The word '{word_to_find}' was not found in the string.\")\n"
      ],
      "metadata": {
        "colab": {
          "base_uri": "https://localhost:8080/"
        },
        "id": "4kDKj5ZYh5xH",
        "outputId": "6f35a8f4-6d3f-4d42-fb73-afe0f371d844"
      },
      "execution_count": null,
      "outputs": [
        {
          "output_type": "stream",
          "name": "stdout",
          "text": [
            "The word 'word' first occurs at index 29.\n"
          ]
        }
      ]
    },
    {
      "cell_type": "code",
      "source": [
        "# 13. Find the last occurrence of a word in a string.\n",
        "text = \"This is a sample text with a word. This word is repeated, and the last word is here.\"\n",
        "word_to_find = \"word\"\n",
        "\n",
        "index = text.rfind(word_to_find)\n",
        "\n",
        "if index != -1:\n",
        "    print(f\"The word '{word_to_find}' last occurs at index {index}.\")\n",
        "else:\n",
        "    print(f\"The word '{word_to_find}' was not found in the string.\")\n"
      ],
      "metadata": {
        "colab": {
          "base_uri": "https://localhost:8080/"
        },
        "id": "gLilUXBih50O",
        "outputId": "ed064076-902a-4116-819a-0776176d29f3"
      },
      "execution_count": null,
      "outputs": [
        {
          "output_type": "stream",
          "name": "stdout",
          "text": [
            "The word 'word' last occurs at index 71.\n"
          ]
        }
      ]
    },
    {
      "cell_type": "code",
      "source": [
        "# 14. Split a string into a list of words.\n",
        "text = \"This is a sample text with a word. This word is repeated, and the last word is here.\"\n",
        "new_text=text.split()\n",
        "print(new_text)"
      ],
      "metadata": {
        "colab": {
          "base_uri": "https://localhost:8080/"
        },
        "id": "4neHUnDkh53F",
        "outputId": "039093ce-15d9-4ec3-a206-cc7172696d04"
      },
      "execution_count": null,
      "outputs": [
        {
          "output_type": "stream",
          "name": "stdout",
          "text": [
            "['This', 'is', 'a', 'sample', 'text', 'with', 'a', 'word.', 'This', 'word', 'is', 'repeated,', 'and', 'the', 'last', 'word', 'is', 'here.']\n"
          ]
        }
      ]
    },
    {
      "cell_type": "code",
      "source": [
        "# 15. Join a list of words into a string.\n",
        "# List of words\n",
        "words = [\"This\", \"is\", \"a\", \"list\", \"of\", \"words\"]\n",
        "\n",
        "# Join the list of words into a string using a space as a separator\n",
        "sentence = ' '.join(words)\n",
        "\n",
        "print(sentence)\n"
      ],
      "metadata": {
        "colab": {
          "base_uri": "https://localhost:8080/"
        },
        "id": "Ne0ZDh2wh6Te",
        "outputId": "582ba69b-915b-425f-e7ce-ffd8cd043ab7"
      },
      "execution_count": null,
      "outputs": [
        {
          "output_type": "stream",
          "name": "stdout",
          "text": [
            "This is a list of words\n"
          ]
        }
      ]
    },
    {
      "cell_type": "code",
      "source": [
        "# 16.Convert a string where words are separated by spaces to one where words are separated by underscores.\n",
        "input_string = \"This is a sample string with spaces\"\n",
        "output_string = input_string.replace(\" \", \"_\")\n",
        "print(output_string)\n",
        "\n",
        "\n",
        "\n",
        "\n"
      ],
      "metadata": {
        "id": "j6hAcAsDh6Wm",
        "colab": {
          "base_uri": "https://localhost:8080/"
        },
        "outputId": "f9fece83-cf48-44f0-d97f-ce73cb0c2fc0"
      },
      "execution_count": null,
      "outputs": [
        {
          "output_type": "stream",
          "name": "stdout",
          "text": [
            "This_is_a_sample_string_with_spaces\n"
          ]
        }
      ]
    },
    {
      "cell_type": "code",
      "source": [
        "# 17. Check if the string starts with a specific word or phrase\n",
        "input_string = \"Hello, world! This is a sample string.\"\n",
        "specific_word = \"Hello\"\n",
        "if input_string.startswith(specific_word):\n",
        "    print(f\"The string starts with '{specific_word}'.\")\n",
        "else:\n",
        "    print(f\"The string does not start with '{specific_word}'.\")\n"
      ],
      "metadata": {
        "colab": {
          "base_uri": "https://localhost:8080/"
        },
        "id": "l3zrv7UMkYbX",
        "outputId": "6a1e9393-9d49-4d02-fabb-693070f32689"
      },
      "execution_count": null,
      "outputs": [
        {
          "output_type": "stream",
          "name": "stdout",
          "text": [
            "The string starts with 'Hello'.\n"
          ]
        }
      ]
    },
    {
      "cell_type": "code",
      "source": [
        "# 18.Check if a string ends with a specific word or phrase.\n",
        "input_string = \"This is a sample string. It ends with 'string.'\"\n",
        "specific_word = \"string.\"\n",
        "if input_string.endswith(specific_word):\n",
        "    print(f\"The string ends with '{specific_word}'.\")\n",
        "else:\n",
        "    print(f\"The string does not end with '{specific_word}'.\")\n"
      ],
      "metadata": {
        "colab": {
          "base_uri": "https://localhost:8080/"
        },
        "id": "rb74bvGHkYeM",
        "outputId": "3704efa3-80cd-41bb-fad9-5713fec678f4"
      },
      "execution_count": null,
      "outputs": [
        {
          "output_type": "stream",
          "name": "stdout",
          "text": [
            "The string does not end with 'string.'.\n"
          ]
        }
      ]
    },
    {
      "cell_type": "code",
      "source": [
        "# 19.Convert a string to title case (e.g., \"hello world\" to \"Hello World\").\n",
        "input_string = \"hello world\"\n",
        "title_case_string = input_string.title()\n",
        "print(title_case_string)\n"
      ],
      "metadata": {
        "colab": {
          "base_uri": "https://localhost:8080/"
        },
        "id": "5FqvZ5WxkYhD",
        "outputId": "b102b382-fed0-4a1f-add8-4baa315d5968"
      },
      "execution_count": null,
      "outputs": [
        {
          "output_type": "stream",
          "name": "stdout",
          "text": [
            "Hello World\n"
          ]
        }
      ]
    },
    {
      "cell_type": "code",
      "source": [
        "# 20. Find the longest word in a string.\n",
        "input_string = \"This is a sample string with several words of different lengths.\"\n",
        "\n",
        "# Split the string into words\n",
        "words = input_string.split()\n",
        "\n",
        "\n",
        "# Initialize variables to store the longest word and its length\n",
        "longest_word = \"\"\n",
        "max_length = 0\n",
        "\n",
        "# Iterate through the words to find the longest word\n",
        "for word in words:\n",
        "    if len(word) > max_length:\n",
        "        max_length = len(word)\n",
        "        longest_word = word\n",
        "\n",
        "print(f\"The longest word is: {longest_word} (length: {max_length}).\")\n"
      ],
      "metadata": {
        "colab": {
          "base_uri": "https://localhost:8080/"
        },
        "id": "cR2DIYBskYj8",
        "outputId": "17e0d7fe-c9bb-4f65-9729-37b2df585bac"
      },
      "execution_count": null,
      "outputs": [
        {
          "output_type": "stream",
          "name": "stdout",
          "text": [
            "The longest word is: different (length: 9).\n"
          ]
        }
      ]
    },
    {
      "cell_type": "code",
      "source": [
        "# 21. Find the shortest word in a string.\n",
        "input_string = \"This is a sample string with several words of different lengths.\"\n",
        "\n",
        "# Split the string into words\n",
        "words = input_string.split()\n",
        "\n",
        "# Initialize variables to store the shortest word and its length\n",
        "shortest_word = None\n",
        "min_length = float('inf')  # Initialize to positive infinity to ensure any word is shorter\n",
        "\n",
        "# Iterate through the words to find the shortest word\n",
        "for word in words:\n",
        "    if len(word) < min_length:\n",
        "        min_length = len(word)\n",
        "        shortest_word = word\n",
        "\n",
        "if shortest_word:\n",
        "    print(f\"The shortest word is: {shortest_word} (length: {min_length}).\")\n",
        "else:\n",
        "    print(\"No words found in the string.\")\n"
      ],
      "metadata": {
        "colab": {
          "base_uri": "https://localhost:8080/"
        },
        "id": "1RzWCQO5kYmy",
        "outputId": "942bbf9d-6280-4660-8cf9-e68fcbe56f0e"
      },
      "execution_count": null,
      "outputs": [
        {
          "output_type": "stream",
          "name": "stdout",
          "text": [
            "The shortest word is: a (length: 1).\n"
          ]
        }
      ]
    },
    {
      "cell_type": "code",
      "source": [
        "# 22.Reverse the order of words in a string.\n",
        "input_string = \"This is a sample string.\"\n",
        "\n",
        "# Split the string into words\n",
        "words = input_string.split()\n",
        "\n",
        "# Reverse the order of words\n",
        "reversed_words = words[::-1]\n",
        "\n",
        "# Join the reversed words back into a string\n",
        "reversed_string = ' '.join(reversed_words)\n",
        "\n",
        "print(reversed_string)\n"
      ],
      "metadata": {
        "colab": {
          "base_uri": "https://localhost:8080/"
        },
        "id": "L0YDlsuzkYp6",
        "outputId": "2209ee36-d690-4d2f-f184-b961fbf2f95d"
      },
      "execution_count": null,
      "outputs": [
        {
          "output_type": "stream",
          "name": "stdout",
          "text": [
            "string. sample a is This\n"
          ]
        }
      ]
    },
    {
      "cell_type": "code",
      "source": [
        "# 23. Check if a string is alphanumeric.\n",
        "input_string = \"Hello123\"\n",
        "\n",
        "if input_string.isalnum():\n",
        "    print(\"The string is alphanumeric.\")\n",
        "else:\n",
        "    print(\"The string is not alphanumeric.\")\n"
      ],
      "metadata": {
        "colab": {
          "base_uri": "https://localhost:8080/"
        },
        "id": "HhrXAq6OkY4Q",
        "outputId": "e62cff19-973d-460b-fca9-df76e373d16c"
      },
      "execution_count": null,
      "outputs": [
        {
          "output_type": "stream",
          "name": "stdout",
          "text": [
            "The string is alphanumeric.\n"
          ]
        }
      ]
    },
    {
      "cell_type": "code",
      "source": [
        "# 24. Extract all digits from a string.\n",
        "\n",
        "\n",
        "input_string = \"This is a sample string with 123 and 4567 digits.\"\n",
        "split_string = input_string.split()\n",
        "\n",
        "list=[]\n",
        "\n",
        "for word in split_string:\n",
        "  if word.isdigit():\n",
        "    list.append(word)\n",
        "print(list)\n",
        "\n",
        "\n",
        "\n"
      ],
      "metadata": {
        "colab": {
          "base_uri": "https://localhost:8080/"
        },
        "id": "XMEXXQ5-kY-T",
        "outputId": "18a8d0b8-bd66-422d-d491-dac0a43545f5"
      },
      "execution_count": null,
      "outputs": [
        {
          "output_type": "stream",
          "name": "stdout",
          "text": [
            "['123', '4567']\n"
          ]
        }
      ]
    },
    {
      "cell_type": "code",
      "source": [
        "# 25. Extract all alphabets from a string.\n",
        "input_string = \"This is a sample string with 123 and 4567 digits.\"\n",
        "list = []\n",
        "\n",
        "for word in input_string:\n",
        "\n",
        "  if word.isalpha():\n",
        "    list.append(word)\n",
        "\n",
        "print(list)\n",
        "\n"
      ],
      "metadata": {
        "colab": {
          "base_uri": "https://localhost:8080/"
        },
        "id": "HjopLYEQt9XV",
        "outputId": "0506faa2-2a2f-4cbc-cd82-d8ee0538a5c9"
      },
      "execution_count": null,
      "outputs": [
        {
          "output_type": "stream",
          "name": "stdout",
          "text": [
            "['T', 'h', 'i', 's', 'i', 's', 'a', 's', 'a', 'm', 'p', 'l', 'e', 's', 't', 'r', 'i', 'n', 'g', 'w', 'i', 't', 'h', 'a', 'n', 'd', 'd', 'i', 'g', 'i', 't', 's']\n"
          ]
        }
      ]
    },
    {
      "cell_type": "code",
      "source": [
        "# 26. Count the number of uppercase letters in a string.\n",
        "input_string = \"This is a Sample String With Uppercase Letters.\"\n",
        "\n",
        "# Initialize a count for uppercase letters\n",
        "uppercase_count = 0\n",
        "\n",
        "# Iterate through the characters in the string\n",
        "for char in input_string:\n",
        "    if char.isupper():\n",
        "        uppercase_count += 1\n",
        "\n",
        "print(f\"The number of uppercase letters is: {uppercase_count}\")\n",
        "\n",
        "\n",
        "\n"
      ],
      "metadata": {
        "colab": {
          "base_uri": "https://localhost:8080/"
        },
        "id": "8zSlm7mHt9dB",
        "outputId": "d958dfff-6aac-40df-f2b3-e7d87dc7fdac"
      },
      "execution_count": null,
      "outputs": [
        {
          "output_type": "stream",
          "name": "stdout",
          "text": [
            "The number of uppercase letters is: 6\n"
          ]
        }
      ]
    },
    {
      "cell_type": "code",
      "source": [
        "# 27. Count the number of lowercase letters in a string.\n",
        "input_string = \"This is a Sample String With Lowercase Letters.\"\n",
        "\n",
        "# Initialize a count for lowercase letters\n",
        "lowercase_count = 0\n",
        "\n",
        "# Iterate through the characters in the string\n",
        "for char in input_string:\n",
        "    if char.islower():\n",
        "        lowercase_count += 1\n",
        "\n",
        "print(f\"The number of lowercase letters is: {lowercase_count}\")\n"
      ],
      "metadata": {
        "colab": {
          "base_uri": "https://localhost:8080/"
        },
        "id": "1xBYEBaR5iW4",
        "outputId": "40dfc485-dd60-49c9-dd3a-a46c2b0d909e"
      },
      "execution_count": null,
      "outputs": [
        {
          "output_type": "stream",
          "name": "stdout",
          "text": [
            "The number of lowercase letters is: 33\n"
          ]
        }
      ]
    },
    {
      "cell_type": "code",
      "source": [
        "# 28. Swap the case of each character in a string.\n",
        "input_string = \"This is a Sample String.\"\n",
        "\n",
        "# Swap the case of each character in the string\n",
        "swapped_string = input_string.swapcase()\n",
        "\n",
        "print(swapped_string)\n"
      ],
      "metadata": {
        "colab": {
          "base_uri": "https://localhost:8080/"
        },
        "id": "qAFyz7ic550u",
        "outputId": "39dc81cf-4ca6-4180-f459-a3e158ecb1da"
      },
      "execution_count": null,
      "outputs": [
        {
          "output_type": "stream",
          "name": "stdout",
          "text": [
            "tHIS IS A sAMPLE sTRING.\n"
          ]
        }
      ]
    },
    {
      "cell_type": "code",
      "source": [
        "# 29. Remove a specific word from a string.\n",
        "input_string = \"This is a sample sentence. Let's remove 'sample' from it.\"\n",
        "word_to_remove = \"sample\"\n",
        "\n",
        "# Remove the specific word from the string\n",
        "modified_string = input_string.replace(word_to_remove, '')\n",
        "\n",
        "print(modified_string)\n"
      ],
      "metadata": {
        "colab": {
          "base_uri": "https://localhost:8080/"
        },
        "id": "ozNsrvD8553j",
        "outputId": "ce70909a-4818-4d16-d1f7-8e6792dfaa4f"
      },
      "execution_count": null,
      "outputs": [
        {
          "output_type": "stream",
          "name": "stdout",
          "text": [
            "This is a  sentence. Let's remove '' from it.\n"
          ]
        }
      ]
    },
    {
      "cell_type": "code",
      "source": [
        "# 30.Check if a string is a valid email address.\n",
        "import re\n",
        "\n",
        "def is_valid_email(email):\n",
        "    # Define a simple regular expression for email validation\n",
        "    pattern = r'^\\S+@\\S+\\.\\S+'\n",
        "\n",
        "    # Use re.match to check if the string matches the pattern\n",
        "    if re.match(pattern, email):\n",
        "        return True\n",
        "    else:\n",
        "        return False\n",
        "\n",
        "# Test cases\n",
        "email1 = \"user@example.com\"\n",
        "email2 = \"invalid_email\"\n",
        "email3 = \"another_user@example.co.uk\"\n",
        "\n",
        "print(f\"{email1} is valid: {is_valid_email(email1)}\")\n",
        "print(f\"{email2} is valid: {is_valid_email(email2)}\")\n",
        "print(f\"{email3} is valid: {is_valid_email(email3)}\")\n",
        "\n"
      ],
      "metadata": {
        "colab": {
          "base_uri": "https://localhost:8080/"
        },
        "id": "spFnQPwc556b",
        "outputId": "1f9cdfcd-357f-4ac6-c45b-19196057cf6d"
      },
      "execution_count": null,
      "outputs": [
        {
          "output_type": "stream",
          "name": "stdout",
          "text": [
            "user@example.com is valid: True\n",
            "invalid_email is valid: False\n",
            "another_user@example.co.uk is valid: True\n"
          ]
        }
      ]
    },
    {
      "cell_type": "code",
      "source": [
        "# 31.Extract the username from an email address string.\n",
        "import re\n",
        "\n",
        "def extract_username(email):\n",
        "    # Define a regular expression pattern to match the username part of the email\n",
        "    pattern = r'^(.+)@.+$'\n",
        "\n",
        "    # Use the re module to search for the pattern in the email\n",
        "    match = re.match(pattern, email)\n",
        "\n",
        "    # Check if a match was found\n",
        "    if match:\n",
        "        # Extract the username from the first capturing group\n",
        "        username = match.group(1)\n",
        "        return username\n",
        "    else:\n",
        "        return None\n",
        "\n",
        "# Example usage\n",
        "email = \"example.user@email.com\"\n",
        "username = extract_username(email)\n",
        "if username:\n",
        "    print(\"Username:\", username)\n",
        "else:\n",
        "    print(\"Invalid email address\")\n"
      ],
      "metadata": {
        "id": "dx7JksCr559h",
        "colab": {
          "base_uri": "https://localhost:8080/"
        },
        "outputId": "e0701eab-46f2-4a3c-f97b-b722f69c7929"
      },
      "execution_count": null,
      "outputs": [
        {
          "output_type": "stream",
          "name": "stdout",
          "text": [
            "Username: example.user\n"
          ]
        }
      ]
    },
    {
      "cell_type": "code",
      "source": [
        "# 32.Extract the domain name from an email address string.\n",
        "import re\n",
        "\n",
        "def extract_domain(email):\n",
        "    # Define a regular expression pattern to match the domain part of the email\n",
        "    pattern = r'@(.+)$'\n",
        "\n",
        "    # Use the re module to search for the pattern in the email\n",
        "    match = re.search(pattern, email)\n",
        "\n",
        "    # Check if a match was found\n",
        "    if match:\n",
        "        # Extract the domain from the first (and only) capturing group\n",
        "        domain = match.group(1)\n",
        "        return domain\n",
        "    else:\n",
        "        return None\n",
        "\n",
        "# Example usage\n",
        "email = \"example.user@email.com\"\n",
        "domain = extract_domain(email)\n",
        "if domain:\n",
        "    print(\"Domain:\", domain)\n",
        "else:\n",
        "    print(\"Invalid email address\")\n"
      ],
      "metadata": {
        "colab": {
          "base_uri": "https://localhost:8080/"
        },
        "id": "1OZidky-BbZD",
        "outputId": "dff8b455-5e4a-4a56-a335-7dcf822a4d01"
      },
      "execution_count": null,
      "outputs": [
        {
          "output_type": "stream",
          "name": "stdout",
          "text": [
            "Domain: email.com\n"
          ]
        }
      ]
    },
    {
      "cell_type": "code",
      "source": [
        "# 33. Replace multiple spaces in a string with a single space.\n",
        "def replace_multiple_spaces_with_single_space(input_string):\n",
        "    # Split the input string by spaces\n",
        "    parts = input_string.split()\n",
        "\n",
        "\n",
        "    # Join the parts with a single space\n",
        "    return ' '.join(parts)\n",
        "\n",
        "# Example usage\n",
        "input_string = \"This   is   an   example    with    multiple    spaces.\"\n",
        "output_string = replace_multiple_spaces_with_single_space(input_string)\n",
        "print(output_string)\n"
      ],
      "metadata": {
        "id": "0eBA7eaG56HU",
        "colab": {
          "base_uri": "https://localhost:8080/"
        },
        "outputId": "630f825b-4331-46c3-90f7-3c771fbb9096"
      },
      "execution_count": null,
      "outputs": [
        {
          "output_type": "stream",
          "name": "stdout",
          "text": [
            "['This', 'is', 'an', 'example', 'with', 'multiple', 'spaces.']\n",
            "This is an example with multiple spaces.\n"
          ]
        }
      ]
    },
    {
      "cell_type": "code",
      "source": [
        "# 34.Check if a string is a valid URL.\n",
        "import re\n",
        "\n",
        "def is_valid_url(url):\n",
        "    # Define a regular expression pattern for a valid URL\n",
        "    pattern = r\"^(https?|ftp)://[^\\s/$.?#].[^\\s]*$\"\n",
        "\n",
        "    # Use the re module to check if the string matches the pattern\n",
        "    return bool(re.match(pattern, url))\n",
        "\n",
        "# Example usage\n",
        "url = \"https://www.example.com\"\n",
        "if is_valid_url(url):\n",
        "    print(\"Valid URL\")\n",
        "else:\n",
        "    print(\"Invalid URL\")\n"
      ],
      "metadata": {
        "id": "Dj1v-n-J56KE",
        "colab": {
          "base_uri": "https://localhost:8080/"
        },
        "outputId": "1bcb5ee5-5dc1-4468-d0b9-e2bfed2a101b"
      },
      "execution_count": null,
      "outputs": [
        {
          "output_type": "stream",
          "name": "stdout",
          "text": [
            "Valid URL\n"
          ]
        }
      ]
    },
    {
      "cell_type": "code",
      "source": [
        "# 35. Extract the protocol (http or https) from a URL string.\n",
        "from urllib.parse import urlparse\n",
        "\n",
        "def extract_protocol(url):\n",
        "    parsed_url = urlparse(url)\n",
        "    if parsed_url.scheme:\n",
        "        return parsed_url.scheme\n",
        "    else:\n",
        "        return None\n",
        "\n",
        "# Example usage\n",
        "url = \"https://www.example.com\"\n",
        "protocol = extract_protocol(url)\n",
        "if protocol:\n",
        "    print(\"Protocol:\", protocol)\n",
        "else:\n",
        "    print(\"No protocol found in the URL\")\n"
      ],
      "metadata": {
        "id": "zGC7p-Fn5iaB",
        "colab": {
          "base_uri": "https://localhost:8080/"
        },
        "outputId": "47a8ac0f-aafa-4b4d-b92c-bf64bafb11a3"
      },
      "execution_count": null,
      "outputs": [
        {
          "output_type": "stream",
          "name": "stdout",
          "text": [
            "Protocol: https\n"
          ]
        }
      ]
    },
    {
      "cell_type": "code",
      "source": [
        "# 36. Find the frequency of each character in a string.\n",
        "def character_frequency(string):\n",
        "    # Create an empty dictionary to store character frequencies\n",
        "    char_count = {}\n",
        "\n",
        "    # Iterate through the characters in the string\n",
        "    for char in string:\n",
        "        # If the character is already in the dictionary, increment its count\n",
        "        if char in char_count:\n",
        "            char_count[char] += 1\n",
        "        # If the character is not in the dictionary, add it with a count of 1\n",
        "        else:\n",
        "            char_count[char] = 1\n",
        "\n",
        "    return char_count\n",
        "\n",
        "# Example usage\n",
        "input_string = \"hello, world!\"\n",
        "frequency = character_frequency(input_string)\n",
        "\n",
        "# Print the character frequencies\n",
        "for char, count in frequency.items():\n",
        "    if char.isprintable():  # Filter out non-printable characters\n",
        "        print(f\"'{char}': {count}\")\n"
      ],
      "metadata": {
        "id": "nhFhEgIV5ic3",
        "colab": {
          "base_uri": "https://localhost:8080/"
        },
        "outputId": "0c6a1fb8-047c-48c6-818e-6d22c23ede22"
      },
      "execution_count": null,
      "outputs": [
        {
          "output_type": "stream",
          "name": "stdout",
          "text": [
            "'h': 1\n",
            "'e': 1\n",
            "'l': 3\n",
            "'o': 2\n",
            "',': 1\n",
            "' ': 1\n",
            "'w': 1\n",
            "'r': 1\n",
            "'d': 1\n",
            "'!': 1\n"
          ]
        }
      ]
    },
    {
      "cell_type": "code",
      "source": [
        "# 37. Remove all punctuation from a string.\n",
        "import string\n",
        "\n",
        "test_str = 'Gfg, is best: for ! Geeks ;'\n",
        "\n",
        "test_str = test_str.translate\n",
        "    (str.maketrans('', '', string.punctuation))\n",
        "print(test_str)"
      ],
      "metadata": {
        "id": "syqq2thm5ie8",
        "colab": {
          "base_uri": "https://localhost:8080/",
          "height": 143
        },
        "outputId": "49e360a6-77c0-40bd-f9a2-2e5f206135d9"
      },
      "execution_count": null,
      "outputs": [
        {
          "output_type": "error",
          "ename": "IndentationError",
          "evalue": "ignored",
          "traceback": [
            "\u001b[0;36m  File \u001b[0;32m\"<ipython-input-9-a5b6e174a344>\"\u001b[0;36m, line \u001b[0;32m7\u001b[0m\n\u001b[0;31m    (str.maketrans('', '', string.punctuation))\u001b[0m\n\u001b[0m    ^\u001b[0m\n\u001b[0;31mIndentationError\u001b[0m\u001b[0;31m:\u001b[0m unexpected indent\n"
          ]
        }
      ]
    },
    {
      "cell_type": "code",
      "source": [
        "# 38. Check if a string contains only digits.\n",
        "def is_digits_only(input_string):\n",
        "    return input_string.isdigit()\n",
        "\n",
        "# Example usage\n",
        "input_string = \"12345\"\n",
        "result = is_digits_only(input_string)\n",
        "print(result)  # True\n",
        "\n",
        "input_string = \"12345abc\"\n",
        "result = is_digits_only(input_string)\n",
        "print(result)  # False\n"
      ],
      "metadata": {
        "id": "F0rR2bA1t9f4",
        "colab": {
          "base_uri": "https://localhost:8080/"
        },
        "outputId": "41855d6c-b1e0-4bc4-97a4-9d8cf824c730"
      },
      "execution_count": null,
      "outputs": [
        {
          "output_type": "stream",
          "name": "stdout",
          "text": [
            "True\n",
            "False\n"
          ]
        }
      ]
    },
    {
      "cell_type": "code",
      "source": [
        "# 39. Check if a string contains only alphabets.\n",
        "def contains_only_alphabets(input_string):\n",
        "    return input_string.isalpha()\n",
        "\n",
        "# Example usage\n",
        "input_string = \"abcdef\"\n",
        "result = contains_only_alphabets(input_string)\n",
        "print(result)  # True\n",
        "\n",
        "input_string = \"abc123\"\n",
        "result = contains_only_alphabets(input_string)\n",
        "print(result)  # False\n"
      ],
      "metadata": {
        "id": "KpcS_-Qwt9ih",
        "colab": {
          "base_uri": "https://localhost:8080/"
        },
        "outputId": "228b52cf-5c19-4830-cfbc-074eb1868bf7"
      },
      "execution_count": null,
      "outputs": [
        {
          "output_type": "stream",
          "name": "stdout",
          "text": [
            "True\n",
            "False\n"
          ]
        }
      ]
    },
    {
      "cell_type": "code",
      "source": [
        "# 40. Convert a string to a list of characters.\n",
        "input_string = \"Hello, World!\"\n",
        "char_list = list(input_string)\n",
        "\n",
        "print(char_list)\n"
      ],
      "metadata": {
        "id": "TVy8SlgkthrV",
        "colab": {
          "base_uri": "https://localhost:8080/"
        },
        "outputId": "e46582b5-e632-45bf-e203-be99fe9d8693"
      },
      "execution_count": null,
      "outputs": [
        {
          "output_type": "stream",
          "name": "stdout",
          "text": [
            "['H', 'e', 'l', 'l', 'o', ',', ' ', 'W', 'o', 'r', 'l', 'd', '!']\n"
          ]
        }
      ]
    },
    {
      "cell_type": "code",
      "source": [
        "# 41. Check if two strings are anagrams.\n",
        "def are_anagrams(str1, str2):\n",
        "    # Remove spaces and convert strings to lowercase (assuming case-insensitive anagrams)\n",
        "    str1 = str1.replace(\" \", \"\").lower()\n",
        "    str2 = str2.replace(\" \", \"\").lower()\n",
        "\n",
        "    # Check if the lengths of the two strings are different; if so, they can't be anagrams\n",
        "    if len(str1) != len(str2):\n",
        "        return False\n",
        "\n",
        "    # Create dictionaries to store character frequencies\n",
        "    char_count1 = {}\n",
        "    char_count2 = {}\n",
        "\n",
        "    # Count character frequencies in the first string\n",
        "    for char in str1:\n",
        "      if char in char_count1:\n",
        "            char_count1[char] += 1\n",
        "        # If the character is not in the dictionary, add it with a count of 1\n",
        "      else:\n",
        "            char_count1[char] = 0\n",
        "\n",
        "\n",
        "    # Count character frequencies in the second string\n",
        "    for char in str2:\n",
        "      if char in char_count2:\n",
        "            char_count2[char] += 1\n",
        "        # If the character is not in the dictionary, add it with a count of 1\n",
        "      else:\n",
        "            char_count2[char] = 0\n",
        "\n",
        "\n",
        "    # Compare the two dictionaries to see if they have the same character frequencies\n",
        "    return char_count1 == char_count2\n",
        "\n",
        "# Example usage:\n",
        "str1 = \"listen\"\n",
        "str2 = \"silent\"\n",
        "if are_anagrams(str1, str2):\n",
        "    print(f\"{str1} and {str2} are anagrams.\")\n",
        "else:\n",
        "    print(f\"{str1} and {str2} are not anagrams.\")\n"
      ],
      "metadata": {
        "id": "MtX33SzqKQ9S",
        "colab": {
          "base_uri": "https://localhost:8080/"
        },
        "outputId": "cb8a5da7-86eb-4e6a-b2b4-9e1ec65ce15a"
      },
      "execution_count": 9,
      "outputs": [
        {
          "output_type": "stream",
          "name": "stdout",
          "text": [
            "listen and silent are anagrams.\n"
          ]
        }
      ]
    },
    {
      "cell_type": "code",
      "source": [
        "#42. Encode a string using a Caesar cipher.\n",
        "def caesar_cipher(text, shift):\n",
        "    result = \"\"\n",
        "\n",
        "    for char in text:\n",
        "        # Check if the character is an uppercase letter\n",
        "        if char.isupper():\n",
        "            shifted_char = chr(((ord(char) - 65 + shift) % 26) + 65)\n",
        "        # Check if the character is a lowercase letter\n",
        "        elif char.islower():\n",
        "            shifted_char = chr(((ord(char) - 97 + shift) % 26) + 97)\n",
        "        else:\n",
        "            # If the character is not a letter, leave it unchanged\n",
        "            shifted_char = char\n",
        "\n",
        "        result += shifted_char\n",
        "\n",
        "    return result\n",
        "\n",
        "# Example usage:\n",
        "text = \"Hello, World!\"\n",
        "shift = 3\n",
        "encoded_text = caesar_cipher(text, shift)\n",
        "print(f\"Original text: {text}\")\n",
        "print(f\"Encoded text: {encoded_text}\")\n"
      ],
      "metadata": {
        "colab": {
          "base_uri": "https://localhost:8080/"
        },
        "id": "JYi6Rs5hNhA-",
        "outputId": "88d42bbc-f1ca-4587-dc15-c44fb19fcd39"
      },
      "execution_count": 10,
      "outputs": [
        {
          "output_type": "stream",
          "name": "stdout",
          "text": [
            "Original text: Hello, World!\n",
            "Encoded text: Khoor, Zruog!\n"
          ]
        }
      ]
    },
    {
      "cell_type": "code",
      "source": [
        "#43. Decode a Caesar cipher encoded string.\n",
        "def caesar_cipher_decode(encoded_text, shift):\n",
        "    return caesar_cipher(encoded_text, -shift)\n",
        "\n",
        "# Example usage:\n",
        "encoded_text = \"Khoor, Zruog!\"\n",
        "shift = 3\n",
        "decoded_text = caesar_cipher_decode(encoded_text, shift)\n",
        "print(f\"Encoded text: {encoded_text}\")\n",
        "print(f\"Decoded text: {decoded_text}\")\n"
      ],
      "metadata": {
        "id": "gQFZhK4tNhEI"
      },
      "execution_count": null,
      "outputs": []
    },
    {
      "cell_type": "code",
      "source": [
        "#44. Find the most frequent word in a string.\n",
        "\n",
        "def mostFrequentWord(arr, n):\n",
        "\n",
        "\t# freq to store the freq of the most occurring variable\n",
        "\tfreq = 0\n",
        "\n",
        "\t# res to store the most occurring string in the array of strings\n",
        "\tres = \"\"\n",
        "\n",
        "\t# running nested for loops to find the most occurring\n",
        "\t# word in the array of strings\n",
        "\tfor i in range(0, n, 1):\n",
        "\t\tcount = 0\n",
        "\t\tfor j in range(i + 1, n, 1):\n",
        "\t\t\tif arr[j] == arr[i]:\n",
        "\t\t\t\tcount += 1\n",
        "\n",
        "\t\t# updating our max freq of occurred string in the\n",
        "\t\t# array of strings\n",
        "\t\tif count >= freq:\n",
        "\t\t\tres = arr[i]\n",
        "\t\t\tfreq = count\n",
        "\n",
        "\tprint(\"The word that occurs most is : \" + str(res))\n",
        "\tprint(\"No of times: \" + str(freq))\n",
        "\n",
        "\n",
        "\n",
        "# given set of keys\n",
        "arr = [ \"geeks\", \"for\", \"geeks\", \"a\", \"portal\", \"to\", \"learn\", \"can\", \"be\", \"computer\", \"science\", \"zoom\", \"yup\", \"fire\", \"in\", \"be\", \"data\", \"geeks\",]\n",
        "n = len(arr)\n",
        "\n",
        "# function call\n",
        "mostFrequentWord(arr, n)\n",
        "\n",
        "\n"
      ],
      "metadata": {
        "colab": {
          "base_uri": "https://localhost:8080/"
        },
        "id": "LdimrTF8NhHg",
        "outputId": "88f1f523-bbb6-419f-ca8e-c8c6868a804c"
      },
      "execution_count": 11,
      "outputs": [
        {
          "output_type": "stream",
          "name": "stdout",
          "text": [
            "The word that occurs most is : geeks\n",
            "No of times: 2\n"
          ]
        }
      ]
    },
    {
      "cell_type": "code",
      "source": [
        "#45.Find all unique words in a string.\n",
        "def unique(str):\n",
        "  list = str.split()\n",
        "\n",
        "  char_count = {}\n",
        "\n",
        "\n",
        "    # Count word frequencies in the first string\n",
        "  for word in list:\n",
        "      if word in char_count:\n",
        "             char_count[word] += 1\n",
        "        # If the character is not in the dictionary, add it with a count of 1\n",
        "      else:\n",
        "             char_count[word] = 1\n",
        "\n",
        "  for word in char_count:\n",
        "      if char_count[word] == 1:\n",
        "            print(word)\n",
        "\n",
        "\n",
        "\n",
        "# Driver code\n",
        "input_string = \"king  kumar is king \"\n",
        "\n",
        "# function call\n",
        "unique(input_string)\n"
      ],
      "metadata": {
        "colab": {
          "base_uri": "https://localhost:8080/"
        },
        "id": "HEdSBL4TNhPB",
        "outputId": "8ac18308-61b8-434b-f002-3a42a76b5fb2"
      },
      "execution_count": 21,
      "outputs": [
        {
          "output_type": "stream",
          "name": "stdout",
          "text": [
            "kumar\n",
            "is\n"
          ]
        }
      ]
    },
    {
      "cell_type": "code",
      "source": [
        "#46. Count the number of syllables in a string.\n",
        "\n",
        "def count_syllables(word):\n",
        "    # Convert the word to lowercase and remove non-alphabetic characters\n",
        "    word = re.sub(r'[^a-zA-Z]', '', word.lower())\n",
        "\n",
        "    if len(word) <= 3:\n",
        "        # Words with 1-3 characters are typically treated as one syllable\n",
        "        return 1\n",
        "    else:\n",
        "        # Use a basic rule to estimate syllables (count the number of vowel groups)\n",
        "        vowels = \"aeiouy\"\n",
        "        num_syllables = 0\n",
        "        prev_char = ''\n",
        "        for char in word:\n",
        "            if char in vowels and prev_char not in vowels:\n",
        "                num_syllables += 1\n",
        "            prev_char = char\n",
        "        # Adjust for common word endings\n",
        "        if word.endswith(\"e\"):\n",
        "            num_syllables -= 1\n",
        "        if word.endswith(\"le\"):\n",
        "            num_syllables += 1\n",
        "        if num_syllables == 0:\n",
        "            num_syllables = 1\n",
        "        return num_syllables\n",
        "\n",
        "def count_syllables_in_text(text):\n",
        "    words = re.findall(r'\\b\\w+\\b', text)\n",
        "    total_syllables = sum(count_syllables(word) for word in words)\n",
        "    return total_syllables\n",
        "\n",
        "# Example usage:\n",
        "text = \"The quick brown fox jumps over the lazy dog\"\n",
        "syllable_count = count_syllables_in_text(text)\n",
        "print(f\"Total syllables in the text: {syllable_count}\")\n"
      ],
      "metadata": {
        "id": "UspnaI_VNhVR"
      },
      "execution_count": 21,
      "outputs": []
    },
    {
      "cell_type": "code",
      "source": [
        "#47. Check if a string contains any special characters.\n",
        "import re\n",
        "\n",
        "def contains_special_characters(input_string):\n",
        "    # Define a regular expression pattern to match special characters\n",
        "    pattern = r\"[^a-zA-Z0-9\\s]\"\n",
        "\n",
        "    # Use re.search to find a match\n",
        "    match = re.search(pattern, input_string)\n",
        "\n",
        "    # If a match is found, the string contains special characters\n",
        "    if match:\n",
        "        return True\n",
        "    else:\n",
        "        return False\n",
        "\n",
        "# Example usage:\n",
        "text1 = \"This is a regular sentence.\"\n",
        "text2 = \"This one contains a special character: !\"\n",
        "if contains_special_characters(text1):\n",
        "    print(\"text1 contains special characters.\")\n",
        "else:\n",
        "    print(\"text1 does not contain special characters.\")\n",
        "\n",
        "if contains_special_characters(text2):\n",
        "    print(\"text2 contains special characters.\")\n",
        "else:\n",
        "    print(\"text2 does not contain special characters.\")\n",
        "\n"
      ],
      "metadata": {
        "colab": {
          "base_uri": "https://localhost:8080/"
        },
        "id": "u6bAPZ59NhYH",
        "outputId": "c48dee0e-e32e-4c29-bbcc-1858422569c2"
      },
      "execution_count": 22,
      "outputs": [
        {
          "output_type": "stream",
          "name": "stdout",
          "text": [
            "text1 contains special characters.\n",
            "text2 contains special characters.\n"
          ]
        }
      ]
    },
    {
      "cell_type": "code",
      "source": [
        "#48. Remove the nth word from a string.\n",
        "def remove_nth_word(input_string, n):\n",
        "    # Split the string into words\n",
        "    words = input_string.split()\n",
        "\n",
        "    # Check if the provided position 'n' is valid\n",
        "    if 1 <= n <= len(words):\n",
        "        # Remove the nth word (subtract 1 because lists are zero-based)\n",
        "        words.pop(n-1)\n",
        "\n",
        "        # Reconstruct the string by joining the remaining words\n",
        "        result_string = \" \".join(words)\n",
        "        return result_string\n",
        "    else:\n",
        "        # If 'n' is out of range, return the original string\n",
        "        return input_string\n",
        "\n",
        "# Example usage:\n",
        "input_string = \"This is a sample sentence for testing the function.\"\n",
        "n = 3  # Remove the 3rd word, which is \"a\"\n",
        "result = remove_nth_word(input_string, n)\n",
        "print(result)\n"
      ],
      "metadata": {
        "colab": {
          "base_uri": "https://localhost:8080/"
        },
        "id": "w45O1EgtNjNn",
        "outputId": "11bcf4ea-4dd4-4015-aaad-10c22bc3f698"
      },
      "execution_count": 25,
      "outputs": [
        {
          "output_type": "stream",
          "name": "stdout",
          "text": [
            "This is sample sentence for testing the function.\n"
          ]
        }
      ]
    },
    {
      "cell_type": "code",
      "source": [
        "#49. Insert a word at the nth position in a string.\n",
        "def insert_word_at_nth_position(input_string, word_to_insert, n):\n",
        "    # Split the string into words\n",
        "    words = input_string.split()\n",
        "\n",
        "    # Check if the provided position 'n' is valid\n",
        "    if 0 <= n <= len(words):\n",
        "        # Insert the word at the nth position\n",
        "        words.insert(n, word_to_insert)\n",
        "\n",
        "        # Reconstruct the string by joining the words\n",
        "        result_string = \" \".join(words)\n",
        "        return result_string\n",
        "    else:\n",
        "        # If 'n' is out of range, return the original string\n",
        "        return input_string\n",
        "\n",
        "# Example usage:\n",
        "input_string = \"This is a sample sentence for testing the function.\"\n",
        "word_to_insert = \"new\"\n",
        "n = 3  # Insert the word at the 3rd position, after \"a\"\n",
        "result = insert_word_at_nth_position(input_string, word_to_insert, n)\n",
        "print(result)\n"
      ],
      "metadata": {
        "colab": {
          "base_uri": "https://localhost:8080/"
        },
        "id": "qApMMbm4NjV7",
        "outputId": "a7b88f02-4577-40df-d546-36cdc2fc95c1"
      },
      "execution_count": 26,
      "outputs": [
        {
          "output_type": "stream",
          "name": "stdout",
          "text": [
            "This is a new sample sentence for testing the function.\n"
          ]
        }
      ]
    },
    {
      "cell_type": "code",
      "source": [
        "#50. Convert a CSV string to a list of lists.\n",
        "import csv\n",
        "from io import StringIO\n",
        "\n",
        "def csv_string_to_list(csv_string):\n",
        "    # Create a file-like object from the CSV string\n",
        "    csv_file = StringIO(csv_string)\n",
        "\n",
        "    # Initialize a CSV reader\n",
        "    reader = csv.reader(csv_file)\n",
        "\n",
        "    # Convert the CSV data into a list of lists\n",
        "    data = [row for row in reader]\n",
        "\n",
        "    return data\n",
        "\n",
        "# Example usage:\n",
        "csv_string = \"Name,Age,Location\\nAlice,25,New York\\nBob,30,Los Angeles\\nCharlie,22,Chicago\"\n",
        "csv_data = csv_string_to_list(csv_string)\n",
        "for row in csv_data:\n",
        "    print(row)\n"
      ],
      "metadata": {
        "colab": {
          "base_uri": "https://localhost:8080/"
        },
        "id": "rgjDjNWmibI6",
        "outputId": "1bc43d50-6681-48d9-c2a3-bc71639607cf"
      },
      "execution_count": 27,
      "outputs": [
        {
          "output_type": "stream",
          "name": "stdout",
          "text": [
            "['Name', 'Age', 'Location']\n",
            "['Alice', '25', 'New York']\n",
            "['Bob', '30', 'Los Angeles']\n",
            "['Charlie', '22', 'Chicago']\n"
          ]
        }
      ]
    },
    {
      "cell_type": "code",
      "source": [
        "# List Based Practice Problem :"
      ],
      "metadata": {
        "id": "-o-wQ8Wzi16A"
      },
      "execution_count": 28,
      "outputs": []
    },
    {
      "cell_type": "code",
      "source": [
        "#1. Create a list with integers from 1 to 10.\n",
        "list =[]\n",
        "for i in range(1,11):\n",
        "  list.append(i)\n",
        "\n",
        "print(list)"
      ],
      "metadata": {
        "colab": {
          "base_uri": "https://localhost:8080/"
        },
        "id": "pqtVItvKi8g6",
        "outputId": "0acf2628-c3b9-4a14-a751-11070357a7b0"
      },
      "execution_count": 30,
      "outputs": [
        {
          "output_type": "stream",
          "name": "stdout",
          "text": [
            "[1, 2, 3, 4, 5, 6, 7, 8, 9, 10]\n"
          ]
        }
      ]
    },
    {
      "cell_type": "code",
      "source": [
        "#2. Find the length of a list without using the `len()` function.\n",
        "def length(l):\n",
        "  count=0\n",
        "  for word in list:\n",
        "    count+=1\n",
        "  print(count)\n",
        "\n",
        "# Driver code\n",
        "list=[1,2,3,4,5,6,7,8]\n",
        "length(list)"
      ],
      "metadata": {
        "colab": {
          "base_uri": "https://localhost:8080/"
        },
        "id": "rC4f8hshjMoC",
        "outputId": "4ae3800a-fc81-47f8-c270-c8eba44b96da"
      },
      "execution_count": 33,
      "outputs": [
        {
          "output_type": "stream",
          "name": "stdout",
          "text": [
            "8\n"
          ]
        }
      ]
    },
    {
      "cell_type": "code",
      "source": [
        "#3. Append an element to the end of a list.\n",
        "l=[1,2,3,4,'Nishant']\n",
        "l.append(5)\n",
        "print(l)"
      ],
      "metadata": {
        "colab": {
          "base_uri": "https://localhost:8080/"
        },
        "id": "-b8-oWRSjjG-",
        "outputId": "5fc7f1ae-fad2-4f5f-a90d-0e706f9e6f9c"
      },
      "execution_count": 37,
      "outputs": [
        {
          "output_type": "stream",
          "name": "stdout",
          "text": [
            "[1, 2, 3, 4, 'Nishant', 5]\n"
          ]
        }
      ]
    },
    {
      "cell_type": "code",
      "source": [
        "#4.Insert an element at a specific index in a list.\n",
        "l=[1,2,3,4,'Nishant']\n",
        "l.insert(2,'kumar')\n",
        "print(l)\n"
      ],
      "metadata": {
        "colab": {
          "base_uri": "https://localhost:8080/"
        },
        "id": "z8tTVHwcj7AY",
        "outputId": "c5a95b18-cf69-4452-ee88-dfdb4cfa88dd"
      },
      "execution_count": 38,
      "outputs": [
        {
          "output_type": "stream",
          "name": "stdout",
          "text": [
            "[1, 2, 'kumar', 3, 4, 'Nishant']\n"
          ]
        }
      ]
    },
    {
      "cell_type": "code",
      "source": [
        "#5. Remove an element from a list by its value.\n",
        "# Sample list\n",
        "my_list = [1, 2, 3, 4, 5]\n",
        "\n",
        "# Value to remove\n",
        "value_to_remove = 3\n",
        "\n",
        "# Check if the value is in the list before removing it (optional)\n",
        "if value_to_remove in my_list:\n",
        "    my_list.remove(value_to_remove)\n",
        "else:\n",
        "    print(f\"{value_to_remove} is not in the list.\")\n",
        "\n",
        "# Print the updated list\n",
        "print(my_list)\n"
      ],
      "metadata": {
        "colab": {
          "base_uri": "https://localhost:8080/"
        },
        "id": "MRbH1JZhkW15",
        "outputId": "40a5779a-cd3e-43a0-ba16-6ba68219a8cb"
      },
      "execution_count": 39,
      "outputs": [
        {
          "output_type": "stream",
          "name": "stdout",
          "text": [
            "[1, 2, 4, 5]\n"
          ]
        }
      ]
    },
    {
      "cell_type": "code",
      "source": [
        "#6. Remove an element from a list by its index.\n",
        "# Sample list\n",
        "my_list = [1, 2, 3, 4, 5]\n",
        "\n",
        "# Index of the element to remove\n",
        "index_to_remove = 2  # This will remove the element with value 3 (0-based index)\n",
        "\n",
        "# Remove the element at the specified index\n",
        "my_list.pop(index_to_remove)\n",
        "\n",
        "# Print the updated list\n",
        "print(my_list)\n"
      ],
      "metadata": {
        "colab": {
          "base_uri": "https://localhost:8080/"
        },
        "id": "Yr__b19Fkwbr",
        "outputId": "1216a975-520c-414e-e1fb-0e5f0c3970fb"
      },
      "execution_count": 40,
      "outputs": [
        {
          "output_type": "stream",
          "name": "stdout",
          "text": [
            "[1, 2, 4, 5]\n"
          ]
        }
      ]
    },
    {
      "cell_type": "code",
      "source": [
        "#7. Check if an element exists in a list.\n",
        "# Sample list\n",
        "my_list = [1, 2, 3, 4, 5]\n",
        "\n",
        "# Element to check for\n",
        "element_to_check = 6\n",
        "\n",
        "# Check if the element does not exist in the list\n",
        "if element_to_check not in my_list:\n",
        "    print(f\"{element_to_check} does not exist in the list.\")\n",
        "else:\n",
        "    print(f\"{element_to_check} exists in the list.\")\n"
      ],
      "metadata": {
        "colab": {
          "base_uri": "https://localhost:8080/"
        },
        "id": "khe_eN37k9IY",
        "outputId": "6fbda594-f212-46fa-df7d-ecdfc7d14a21"
      },
      "execution_count": 41,
      "outputs": [
        {
          "output_type": "stream",
          "name": "stdout",
          "text": [
            "6 does not exist in the list.\n"
          ]
        }
      ]
    },
    {
      "cell_type": "code",
      "source": [
        "#8. Find the index of the first occurrence of an element in a list.\n",
        "# Sample list\n",
        "my_list = [1, 2, 3, 4, 5]\n",
        "\n",
        "# Element to find the index of\n",
        "element_to_find = 3\n",
        "\n",
        "# Find the index of the first occurrence of the element\n",
        "if element_to_find in my_list:\n",
        "    index = my_list.index(element_to_find)\n",
        "    print(f\"The index of {element_to_find} is {index}.\")\n",
        "else:\n",
        "    print(f\"{element_to_find} is not in the list.\")\n"
      ],
      "metadata": {
        "colab": {
          "base_uri": "https://localhost:8080/"
        },
        "id": "8Tkyv1JzlKPw",
        "outputId": "84db9e5d-475c-4fcc-8a19-c26446592ed4"
      },
      "execution_count": 42,
      "outputs": [
        {
          "output_type": "stream",
          "name": "stdout",
          "text": [
            "The index of 3 is 2.\n"
          ]
        }
      ]
    },
    {
      "cell_type": "code",
      "source": [
        "#9. Count the occurrences of an element in a list.\n",
        "# Sample list\n",
        "my_list = [1, 2, 3, 2, 4, 2, 5]\n",
        "\n",
        "# Element to count\n",
        "element_to_count = 2\n",
        "\n",
        "# Count the occurrences of the element in the list\n",
        "count = my_list.count(element_to_count)\n",
        "print(f\"The element {element_to_count} appears {count} times in the list.\")\n",
        "\n"
      ],
      "metadata": {
        "colab": {
          "base_uri": "https://localhost:8080/"
        },
        "id": "EGBpluoLlbHb",
        "outputId": "a0f9e129-7e6c-487f-a6b7-212fdcc7d5f3"
      },
      "execution_count": 43,
      "outputs": [
        {
          "output_type": "stream",
          "name": "stdout",
          "text": [
            "The element 2 appears 3 times in the list.\n"
          ]
        }
      ]
    },
    {
      "cell_type": "code",
      "source": [
        "#10. Reverse the order of elements in a list.\n",
        "# Sample list\n",
        "my_list = [1, 2, 3, 4, 5]\n",
        "\n",
        "# Reverse the list using slicing\n",
        "reversed_list = my_list[::-1]\n",
        "\n",
        "# Print the reversed list\n",
        "print(reversed_list)\n"
      ],
      "metadata": {
        "colab": {
          "base_uri": "https://localhost:8080/"
        },
        "id": "PVQ25wSFmSaA",
        "outputId": "b4810f57-9ccd-42df-b060-74245a5e5f99"
      },
      "execution_count": 44,
      "outputs": [
        {
          "output_type": "stream",
          "name": "stdout",
          "text": [
            "[5, 4, 3, 2, 1]\n"
          ]
        }
      ]
    },
    {
      "cell_type": "code",
      "source": [
        "# 11. Sort a list in ascending order.\n",
        "# Sample list\n",
        "my_list = [5, 1, 4, 2, 3]\n",
        "\n",
        "# Sort the list in ascending order using the sort() method (in-place)\n",
        "my_list.sort()\n",
        "\n",
        "# Print the sorted list (my_list has been modified)\n",
        "print(my_list)\n"
      ],
      "metadata": {
        "colab": {
          "base_uri": "https://localhost:8080/"
        },
        "id": "q_PzYgw0IV-d",
        "outputId": "ea6a5c68-dd32-41af-c8fc-bed8be203ab2"
      },
      "execution_count": 1,
      "outputs": [
        {
          "output_type": "stream",
          "name": "stdout",
          "text": [
            "[1, 2, 3, 4, 5]\n"
          ]
        }
      ]
    },
    {
      "cell_type": "code",
      "source": [
        "# 12. Sort a list in descending order.\n",
        "# Sample list\n",
        "my_list = [5, 1, 4, 2, 3]\n",
        "\n",
        "# Sort the list in descending order using the sort() method (in-place)\n",
        "my_list.sort(reverse=True)\n",
        "\n",
        "# Print the sorted list in descending order (my_list has been modified)\n",
        "print(my_list)\n"
      ],
      "metadata": {
        "colab": {
          "base_uri": "https://localhost:8080/"
        },
        "id": "WRYflVVyluwH",
        "outputId": "f5541d52-6fdd-4466-966f-d5e0ee16be46"
      },
      "execution_count": 2,
      "outputs": [
        {
          "output_type": "stream",
          "name": "stdout",
          "text": [
            "[5, 4, 3, 2, 1]\n"
          ]
        }
      ]
    },
    {
      "cell_type": "code",
      "source": [
        "# 13. Create a list of even numbers from 1 to 20.\n",
        "list =[]\n",
        "for i in range(1,21):\n",
        "  if i%2==0:\n",
        "    list.append(i)\n",
        "print(list)"
      ],
      "metadata": {
        "colab": {
          "base_uri": "https://localhost:8080/"
        },
        "id": "1732M7jql7lJ",
        "outputId": "6091bc32-cf93-4a7a-94b1-ec7213ca4b48"
      },
      "execution_count": 3,
      "outputs": [
        {
          "output_type": "stream",
          "name": "stdout",
          "text": [
            "[2, 4, 6, 8, 10, 12, 14, 16, 18, 20]\n"
          ]
        }
      ]
    },
    {
      "cell_type": "code",
      "source": [
        "#14.Create a list of odd numbers from 1 to 20.\n",
        "list =[]\n",
        "for i in range(1,21):\n",
        "  if i%2!=0:\n",
        "    list.append(i)\n",
        "print(list)\n"
      ],
      "metadata": {
        "colab": {
          "base_uri": "https://localhost:8080/"
        },
        "id": "vkM6cDRVmUWJ",
        "outputId": "1f662677-d4d8-4596-ac21-45572933b41b"
      },
      "execution_count": 4,
      "outputs": [
        {
          "output_type": "stream",
          "name": "stdout",
          "text": [
            "[1, 3, 5, 7, 9, 11, 13, 15, 17, 19]\n"
          ]
        }
      ]
    },
    {
      "cell_type": "code",
      "source": [
        "#15.  Find the sum of all elements in a list.\n",
        "list = [1,2,3,4,5,6]\n",
        "sum =0\n",
        "for digit in list:\n",
        "  sum = sum +digit\n",
        "print(sum)"
      ],
      "metadata": {
        "colab": {
          "base_uri": "https://localhost:8080/"
        },
        "id": "4Cf9hy_MmeE4",
        "outputId": "9841b2fc-3bea-470d-c41b-201278f2c89a"
      },
      "execution_count": 5,
      "outputs": [
        {
          "output_type": "stream",
          "name": "stdout",
          "text": [
            "21\n"
          ]
        }
      ]
    },
    {
      "cell_type": "code",
      "source": [
        "#16.Find the maximum value in a list.\n",
        "list = [20,2,5,1,3,6]\n",
        "print(max(list))\n"
      ],
      "metadata": {
        "colab": {
          "base_uri": "https://localhost:8080/"
        },
        "id": "8ptW93GYmw6v",
        "outputId": "bc15947b-4b71-4b47-9ffd-3860d2133ba9"
      },
      "execution_count": 7,
      "outputs": [
        {
          "output_type": "stream",
          "name": "stdout",
          "text": [
            "20\n"
          ]
        }
      ]
    },
    {
      "cell_type": "code",
      "source": [
        "#17. Find the minimum value in a list.\n",
        "list = [20,2,5,1,3,6]\n",
        "print(min(list))\n"
      ],
      "metadata": {
        "colab": {
          "base_uri": "https://localhost:8080/"
        },
        "id": "qCjC2h0gnGb8",
        "outputId": "0671ec15-23da-482b-d7da-ae8c0694b57b"
      },
      "execution_count": 8,
      "outputs": [
        {
          "output_type": "stream",
          "name": "stdout",
          "text": [
            "1\n"
          ]
        }
      ]
    },
    {
      "cell_type": "code",
      "source": [
        "#18. Create a list of squares of numbers from 1 to 10.\n",
        "list =[]\n",
        "for i in range(1,11):\n",
        "  list.append(i*i)\n",
        "print(list)\n",
        "\n",
        "\n",
        "\n"
      ],
      "metadata": {
        "colab": {
          "base_uri": "https://localhost:8080/"
        },
        "id": "W6OtLjC3nqq-",
        "outputId": "f875aa20-22f5-4513-8e1a-f1ddcdb1cf0a"
      },
      "execution_count": 18,
      "outputs": [
        {
          "output_type": "stream",
          "name": "stdout",
          "text": [
            "[1, 4, 9, 16, 25, 36, 49, 64, 81, 100]\n"
          ]
        }
      ]
    },
    {
      "cell_type": "code",
      "source": [
        "#19. Create a list of random numbers.\n",
        "import random\n",
        "\n",
        "# Generate a list of 10 random numbers between 1 and 100 (inclusive)\n",
        "random_numbers = [random.randint(1, 100) for _ in range(10)]\n",
        "\n",
        "# Print the list of random numbers\n",
        "print(random_numbers)\n"
      ],
      "metadata": {
        "colab": {
          "base_uri": "https://localhost:8080/"
        },
        "id": "tm2lY3_qoX9x",
        "outputId": "2a1f7903-e862-4133-c6ec-8c4c62322e66"
      },
      "execution_count": 19,
      "outputs": [
        {
          "output_type": "stream",
          "name": "stdout",
          "text": [
            "[45, 79, 37, 32, 26, 75, 14, 93, 55, 28]\n"
          ]
        }
      ]
    },
    {
      "cell_type": "code",
      "source": [
        "#20. Remove duplicates from a list.\n",
        "my_list = [1, 2, 2, 3, 4, 4, 5, 6, 6]\n",
        "\n",
        "# Initialize an empty list to store unique elements\n",
        "unique_list = []\n",
        "\n",
        "# Iterate through the original list\n",
        "for item in my_list:\n",
        "    if item not in unique_list:\n",
        "        unique_list.append(item)\n",
        "\n",
        "print(unique_list)\n",
        "\n"
      ],
      "metadata": {
        "colab": {
          "base_uri": "https://localhost:8080/"
        },
        "id": "pR6krWxmqwzi",
        "outputId": "5be63ec3-4525-4da9-c3ac-fada6601452a"
      },
      "execution_count": 21,
      "outputs": [
        {
          "output_type": "stream",
          "name": "stdout",
          "text": [
            "[1, 2, 3, 4, 5, 6]\n"
          ]
        }
      ]
    },
    {
      "cell_type": "code",
      "source": [
        "#21.Find the common elements between two lists.\n",
        "list1 = [1,2,5,2,8]\n",
        "list2 = [2,3,4,6,5]\n",
        "list = []\n",
        "for item in list1:\n",
        "  if item in list2:\n",
        "    list.append(item)\n",
        "print(list)\n",
        "\n"
      ],
      "metadata": {
        "colab": {
          "base_uri": "https://localhost:8080/"
        },
        "id": "IJ2nDB6orS78",
        "outputId": "2faa1198-926b-4354-a86e-db149923df80"
      },
      "execution_count": 23,
      "outputs": [
        {
          "output_type": "stream",
          "name": "stdout",
          "text": [
            "[2, 5, 2]\n"
          ]
        }
      ]
    },
    {
      "cell_type": "code",
      "source": [
        "#22. Find the difference between two lists.\n",
        "li1 = [10, 15, 20, 25, 30, 35, 40]\n",
        "li2 = [25, 40, 35]\n",
        "\n",
        "temp3 = []\n",
        "for element in li1:\n",
        "\tif element not in li2:\n",
        "\t\ttemp3.append(element)\n",
        "\n",
        "print(temp3)\n",
        "\n"
      ],
      "metadata": {
        "colab": {
          "base_uri": "https://localhost:8080/"
        },
        "id": "vQMaJ2iruboC",
        "outputId": "86021941-e91e-4191-be86-d6de64a10bdd"
      },
      "execution_count": 26,
      "outputs": [
        {
          "output_type": "stream",
          "name": "stdout",
          "text": [
            "[10, 15, 20, 30]\n"
          ]
        }
      ]
    },
    {
      "cell_type": "code",
      "source": [
        "#23. Merge two lists.\n",
        "list1 = [1, 2, 3]\n",
        "list2 = [4, 5, 6]\n",
        "\n",
        "merged_list = list1 + list2\n",
        "\n",
        "print(merged_list)\n"
      ],
      "metadata": {
        "colab": {
          "base_uri": "https://localhost:8080/"
        },
        "id": "CGSUhwWxyQC6",
        "outputId": "9bf41015-efbe-47a4-945d-65a16d2c5145"
      },
      "execution_count": 27,
      "outputs": [
        {
          "output_type": "stream",
          "name": "stdout",
          "text": [
            "[1, 2, 3, 4, 5, 6]\n"
          ]
        }
      ]
    },
    {
      "cell_type": "code",
      "source": [
        "#24. Multiply all elements in a list by 2.\n",
        "original_list = [1, 2, 3, 4, 5]\n",
        "doubled_list = []\n",
        "\n",
        "for item in original_list:\n",
        "    doubled_list.append(item * 2)\n",
        "\n",
        "print(doubled_list)\n"
      ],
      "metadata": {
        "colab": {
          "base_uri": "https://localhost:8080/"
        },
        "id": "cZP40wDWyrCu",
        "outputId": "7329de4c-6bbd-4c3c-b0ca-01e25d8a4a28"
      },
      "execution_count": 29,
      "outputs": [
        {
          "output_type": "stream",
          "name": "stdout",
          "text": [
            "[2, 4, 6, 8, 10]\n"
          ]
        }
      ]
    },
    {
      "cell_type": "code",
      "source": [
        "#25. Filter out all even numbers from a list.\n",
        "# Define a function to check if a number is even\n",
        "def is_even(number):\n",
        "    return number % 2 == 0\n",
        "\n",
        "# Sample list of numbers\n",
        "numbers = [1, 2, 3, 4, 5, 6, 7, 8, 9, 10]\n",
        "\n",
        "# Use the filter() function to filter out even numbers\n",
        "even_numbers = list(filter(is_even, numbers))\n",
        "\n",
        "print(even_numbers)\n"
      ],
      "metadata": {
        "colab": {
          "base_uri": "https://localhost:8080/",
          "height": 250
        },
        "id": "-YMQc0TozN9O",
        "outputId": "eedb64da-0303-4696-b3d2-eee115d4f3cb"
      },
      "execution_count": 31,
      "outputs": [
        {
          "output_type": "error",
          "ename": "TypeError",
          "evalue": "ignored",
          "traceback": [
            "\u001b[0;31m---------------------------------------------------------------------------\u001b[0m",
            "\u001b[0;31mTypeError\u001b[0m                                 Traceback (most recent call last)",
            "\u001b[0;32m<ipython-input-31-20c1980a74da>\u001b[0m in \u001b[0;36m<cell line: 10>\u001b[0;34m()\u001b[0m\n\u001b[1;32m      8\u001b[0m \u001b[0;34m\u001b[0m\u001b[0m\n\u001b[1;32m      9\u001b[0m \u001b[0;31m# Use the filter() function to filter out even numbers\u001b[0m\u001b[0;34m\u001b[0m\u001b[0;34m\u001b[0m\u001b[0m\n\u001b[0;32m---> 10\u001b[0;31m \u001b[0meven_numbers\u001b[0m \u001b[0;34m=\u001b[0m \u001b[0mlist\u001b[0m\u001b[0;34m(\u001b[0m\u001b[0mfilter\u001b[0m\u001b[0;34m(\u001b[0m\u001b[0mis_even\u001b[0m\u001b[0;34m,\u001b[0m \u001b[0mnumbers\u001b[0m\u001b[0;34m)\u001b[0m\u001b[0;34m)\u001b[0m\u001b[0;34m\u001b[0m\u001b[0;34m\u001b[0m\u001b[0m\n\u001b[0m\u001b[1;32m     11\u001b[0m \u001b[0;34m\u001b[0m\u001b[0m\n\u001b[1;32m     12\u001b[0m \u001b[0mprint\u001b[0m\u001b[0;34m(\u001b[0m\u001b[0meven_numbers\u001b[0m\u001b[0;34m)\u001b[0m\u001b[0;34m\u001b[0m\u001b[0;34m\u001b[0m\u001b[0m\n",
            "\u001b[0;31mTypeError\u001b[0m: 'list' object is not callable"
          ]
        }
      ]
    },
    {
      "cell_type": "code",
      "source": [
        "#26. Convert a list of strings to a list of integers.\n",
        "# Sample list of strings\n",
        "string_list = [\"1\", \"2\", \"3\", \"4\", \"5\"]\n",
        "\n",
        "# Initialize an empty list to store the integers\n",
        "int_list = []\n",
        "\n",
        "for string in string_list:\n",
        "    integer = int(string)\n",
        "    int_list.append(integer)\n",
        "\n",
        "print(int_list)\n"
      ],
      "metadata": {
        "colab": {
          "base_uri": "https://localhost:8080/"
        },
        "id": "yw-aKun2zvdv",
        "outputId": "b4740e77-530f-4e86-ecf9-33726176f166"
      },
      "execution_count": 32,
      "outputs": [
        {
          "output_type": "stream",
          "name": "stdout",
          "text": [
            "[1, 2, 3, 4, 5]\n"
          ]
        }
      ]
    },
    {
      "cell_type": "code",
      "source": [
        "#27. Convert a list of integers to a list of strings.\n",
        "# Sample list of strings\n",
        "int_list = [1, 2, 3, 4, 5]\n",
        "\n",
        "# Initialize an empty list to store the integers\n",
        "string_list = []\n",
        "\n",
        "for integer in int_list:\n",
        "    string = str(integer)\n",
        "    string_list.append(string)\n",
        "\n",
        "print(string_list)\n"
      ],
      "metadata": {
        "colab": {
          "base_uri": "https://localhost:8080/"
        },
        "id": "msjkEL5iSwFe",
        "outputId": "f5a8b23e-dbea-4687-9c40-907408610e56"
      },
      "execution_count": 33,
      "outputs": [
        {
          "output_type": "stream",
          "name": "stdout",
          "text": [
            "['1', '2', '3', '4', '5']\n"
          ]
        }
      ]
    },
    {
      "cell_type": "code",
      "source": [
        "#28. Flatten a nested list.\n",
        "def flatten_nested_list(nested_list):\n",
        "    flat_list = []\n",
        "    stack = [nested_list]\n",
        "\n",
        "    while stack:\n",
        "        current = stack.pop()\n",
        "        for item in current:\n",
        "            if isinstance(item, list):\n",
        "                stack.append(item)\n",
        "            else:\n",
        "                flat_list.append(item)\n",
        "\n",
        "    return flat_list\n",
        "\n",
        "# Sample nested list\n",
        "nested_list = [1, [2, 3], [4, [5, 6]], 7]\n",
        "\n",
        "# Flatten the nested list\n",
        "flat_list = flatten_nested_list(nested_list)\n",
        "\n",
        "print(flat_list)\n"
      ],
      "metadata": {
        "colab": {
          "base_uri": "https://localhost:8080/",
          "height": 375
        },
        "id": "dZ7LAsELTZ5T",
        "outputId": "e96d002e-e26d-4a3d-889c-92ef8835d7d0"
      },
      "execution_count": 34,
      "outputs": [
        {
          "output_type": "error",
          "ename": "TypeError",
          "evalue": "ignored",
          "traceback": [
            "\u001b[0;31m---------------------------------------------------------------------------\u001b[0m",
            "\u001b[0;31mTypeError\u001b[0m                                 Traceback (most recent call last)",
            "\u001b[0;32m<ipython-input-34-4d4035760791>\u001b[0m in \u001b[0;36m<cell line: 20>\u001b[0;34m()\u001b[0m\n\u001b[1;32m     18\u001b[0m \u001b[0;34m\u001b[0m\u001b[0m\n\u001b[1;32m     19\u001b[0m \u001b[0;31m# Flatten the nested list\u001b[0m\u001b[0;34m\u001b[0m\u001b[0;34m\u001b[0m\u001b[0m\n\u001b[0;32m---> 20\u001b[0;31m \u001b[0mflat_list\u001b[0m \u001b[0;34m=\u001b[0m \u001b[0mflatten_nested_list\u001b[0m\u001b[0;34m(\u001b[0m\u001b[0mnested_list\u001b[0m\u001b[0;34m)\u001b[0m\u001b[0;34m\u001b[0m\u001b[0;34m\u001b[0m\u001b[0m\n\u001b[0m\u001b[1;32m     21\u001b[0m \u001b[0;34m\u001b[0m\u001b[0m\n\u001b[1;32m     22\u001b[0m \u001b[0mprint\u001b[0m\u001b[0;34m(\u001b[0m\u001b[0mflat_list\u001b[0m\u001b[0;34m)\u001b[0m\u001b[0;34m\u001b[0m\u001b[0;34m\u001b[0m\u001b[0m\n",
            "\u001b[0;32m<ipython-input-34-4d4035760791>\u001b[0m in \u001b[0;36mflatten_nested_list\u001b[0;34m(nested_list)\u001b[0m\n\u001b[1;32m      7\u001b[0m         \u001b[0mcurrent\u001b[0m \u001b[0;34m=\u001b[0m \u001b[0mstack\u001b[0m\u001b[0;34m.\u001b[0m\u001b[0mpop\u001b[0m\u001b[0;34m(\u001b[0m\u001b[0;34m)\u001b[0m\u001b[0;34m\u001b[0m\u001b[0;34m\u001b[0m\u001b[0m\n\u001b[1;32m      8\u001b[0m         \u001b[0;32mfor\u001b[0m \u001b[0mitem\u001b[0m \u001b[0;32min\u001b[0m \u001b[0mcurrent\u001b[0m\u001b[0;34m:\u001b[0m\u001b[0;34m\u001b[0m\u001b[0;34m\u001b[0m\u001b[0m\n\u001b[0;32m----> 9\u001b[0;31m             \u001b[0;32mif\u001b[0m \u001b[0misinstance\u001b[0m\u001b[0;34m(\u001b[0m\u001b[0mitem\u001b[0m\u001b[0;34m,\u001b[0m \u001b[0mlist\u001b[0m\u001b[0;34m)\u001b[0m\u001b[0;34m:\u001b[0m\u001b[0;34m\u001b[0m\u001b[0;34m\u001b[0m\u001b[0m\n\u001b[0m\u001b[1;32m     10\u001b[0m                 \u001b[0mstack\u001b[0m\u001b[0;34m.\u001b[0m\u001b[0mappend\u001b[0m\u001b[0;34m(\u001b[0m\u001b[0mitem\u001b[0m\u001b[0;34m)\u001b[0m\u001b[0;34m\u001b[0m\u001b[0;34m\u001b[0m\u001b[0m\n\u001b[1;32m     11\u001b[0m             \u001b[0;32melse\u001b[0m\u001b[0;34m:\u001b[0m\u001b[0;34m\u001b[0m\u001b[0;34m\u001b[0m\u001b[0m\n",
            "\u001b[0;31mTypeError\u001b[0m: isinstance() arg 2 must be a type, a tuple of types, or a union"
          ]
        }
      ]
    },
    {
      "cell_type": "code",
      "source": [
        "#29. Create a list of the first 10 Fibonacci numbers.\n",
        "def fibonacci(n):\n",
        "  if n ==0:\n",
        "    return 0\n",
        "  elif n==1:\n",
        "    return 1\n",
        "  else:\n",
        "      return fibonacci(n-1)+fibonacci(n-2)\n",
        "\n",
        "for i in range(0,10):\n",
        "  print(fibonacci(i))"
      ],
      "metadata": {
        "colab": {
          "base_uri": "https://localhost:8080/"
        },
        "id": "11xHemxGT6Q7",
        "outputId": "d576619f-e278-4a00-e44a-ef2add5c4438"
      },
      "execution_count": 43,
      "outputs": [
        {
          "output_type": "stream",
          "name": "stdout",
          "text": [
            "0\n",
            "1\n",
            "1\n",
            "2\n",
            "3\n",
            "5\n",
            "8\n",
            "13\n",
            "21\n",
            "34\n"
          ]
        }
      ]
    },
    {
      "cell_type": "code",
      "source": [
        "#30.Check if a list is sorted.\n",
        "def issorted(list):\n",
        "  i=0\n",
        "  while i<len(list):\n",
        "    if list[i]>list[i+1]:\n",
        "      return False\n",
        "  return True\n",
        "\n",
        "l=[1,3,2,4,5]\n",
        "print(issorted(l))\n",
        "\n"
      ],
      "metadata": {
        "id": "vW9TRGjsXOZW"
      },
      "execution_count": null,
      "outputs": []
    },
    {
      "cell_type": "code",
      "source": [
        "# 31. Rotate a list to the left by `n` positions.\n",
        "def rotate_left(lst, n):\n",
        "    # Ensure n is within the range of the list length\n",
        "    n = n % len(lst)\n",
        "\n",
        "    # Perform the rotation using slicing\n",
        "    rotated = lst[n:] + lst[:n]\n",
        "\n",
        "    return rotated\n",
        "\n",
        "my_list = [1, 2, 3, 4, 5]\n",
        "n = 2  # Number of positions to rotate left\n",
        "\n",
        "rotated_list = rotate_left(my_list, n)\n",
        "print(rotated_list)\n"
      ],
      "metadata": {
        "colab": {
          "base_uri": "https://localhost:8080/"
        },
        "id": "-CFx5cqmYVD9",
        "outputId": "24a3355d-cc0f-4b3e-cbbe-bf89f122396f"
      },
      "execution_count": 1,
      "outputs": [
        {
          "output_type": "stream",
          "name": "stdout",
          "text": [
            "[3, 4, 5, 1, 2]\n"
          ]
        }
      ]
    },
    {
      "cell_type": "code",
      "source": [
        "# 32. Rotate a list to the right by `n` positions.\n",
        "def rotate_right(lst, n):\n",
        "    # Ensure n is within the range of the list length\n",
        "    n = n % len(lst)\n",
        "\n",
        "    # Perform the rotation using slicing\n",
        "    rotated = lst[-n:] + lst[:-n]\n",
        "\n",
        "    return rotated\n",
        "\n",
        "my_list = [1, 2, 3, 4, 5]\n",
        "n = 2  # Number of positions to rotate right\n",
        "\n",
        "rotated_list = rotate_right(my_list, n)\n",
        "print(rotated_list)\n"
      ],
      "metadata": {
        "colab": {
          "base_uri": "https://localhost:8080/"
        },
        "id": "thRkt9H6wyl8",
        "outputId": "0e61a54a-6df1-43e3-9daf-d949cd85154a"
      },
      "execution_count": 2,
      "outputs": [
        {
          "output_type": "stream",
          "name": "stdout",
          "text": [
            "[4, 5, 1, 2, 3]\n"
          ]
        }
      ]
    },
    {
      "cell_type": "code",
      "source": [
        "# 33. Create a list of prime numbers up to 50.\n",
        "def chunk_list(input_list, n):\n",
        "    for i in range(0, len(input_list), n):\n",
        "        yield input_list[i:i + n]\n",
        "my_list = [1, 2, 3, 4, 5, 6, 7, 8, 9]\n",
        "chunk_size = 3\n",
        "\n",
        "chunked_list = list(chunk_list(my_list, chunk_size))\n",
        "print(chunked_list)\n"
      ],
      "metadata": {
        "colab": {
          "base_uri": "https://localhost:8080/"
        },
        "id": "5zRkv7Kcx-Jp",
        "outputId": "c3621d52-fd00-4858-fb6c-cc3c587ee342"
      },
      "execution_count": 3,
      "outputs": [
        {
          "output_type": "stream",
          "name": "stdout",
          "text": [
            "[[1, 2, 3], [4, 5, 6], [7, 8, 9]]\n"
          ]
        }
      ]
    },
    {
      "cell_type": "code",
      "source": [
        "#34. Split a list into chunks of size `n`.\n",
        "def split_into_chunks(input_list, n):\n",
        "    for i in range(0, len(input_list), n):\n",
        "        yield input_list[i:i + n]\n",
        "my_list = [1, 2, 3, 4, 5, 6, 7, 8, 9]\n",
        "chunk_size = 3\n",
        "\n",
        "chunked_list = list(split_into_chunks(my_list, chunk_size))\n",
        "print(chunked_list)\n"
      ],
      "metadata": {
        "colab": {
          "base_uri": "https://localhost:8080/"
        },
        "id": "ilw1ANQB6t8h",
        "outputId": "e88ad054-6575-41a6-e01e-1c1f762a79a4"
      },
      "execution_count": 12,
      "outputs": [
        {
          "output_type": "stream",
          "name": "stdout",
          "text": [
            "[[1, 2, 3], [4, 5, 6], [7, 8, 9]]\n"
          ]
        }
      ]
    },
    {
      "cell_type": "code",
      "source": [
        "#35. Find the second largest number in a list.\n",
        "def find_second_largest(numbers):\n",
        "    if len(numbers) < 2:\n",
        "        return None  # Not enough elements to find a second largest\n",
        "\n",
        "    largest = max(numbers)\n",
        "    second_largest = 0\n",
        "\n",
        "\n",
        "    for number in numbers:\n",
        "        if number != largest and number > second_largest:\n",
        "          second_largest = number\n",
        "\n",
        "    return second_largest\n",
        "\n",
        "# Example usage:\n",
        "my_list = [11, 5, 7, 3, 9,10, 8, 6]\n",
        "result = find_second_largest(my_list)\n",
        "print(\"The second largest number is:\", result)\n"
      ],
      "metadata": {
        "colab": {
          "base_uri": "https://localhost:8080/"
        },
        "id": "f6f0onAc0EqS",
        "outputId": "c6c963d0-e867-4456-d276-a6a34e907592"
      },
      "execution_count": 7,
      "outputs": [
        {
          "output_type": "stream",
          "name": "stdout",
          "text": [
            "The second largest number is: 10\n"
          ]
        }
      ]
    },
    {
      "cell_type": "code",
      "source": [
        "# 36. Replace every element in a list with its square.\n",
        "original_list = [1, 2, 3, 4, 5]\n",
        "\n",
        "squared_list = [x**2 for x in original_list]\n",
        "\n",
        "print(squared_list)\n"
      ],
      "metadata": {
        "colab": {
          "base_uri": "https://localhost:8080/"
        },
        "id": "nxqw6l9s2lUM",
        "outputId": "1f028213-928b-40c6-8fdf-99020c6b173e"
      },
      "execution_count": 8,
      "outputs": [
        {
          "output_type": "stream",
          "name": "stdout",
          "text": [
            "[1, 4, 9, 16, 25]\n"
          ]
        }
      ]
    },
    {
      "cell_type": "code",
      "source": [
        "# 37. Convert a list to a dictionary where list elements become keys and their indices become values.\n",
        "my_list = ['apple', 'banana', 'cherry', 'date']\n",
        "\n",
        "my_dict = {element: index for index, element in enumerate(my_list)}\n",
        "\n",
        "print(my_dict)\n"
      ],
      "metadata": {
        "colab": {
          "base_uri": "https://localhost:8080/"
        },
        "id": "6cfGVUVp3Uux",
        "outputId": "ef2ef02f-4af3-46a1-f73c-76422273648c"
      },
      "execution_count": 9,
      "outputs": [
        {
          "output_type": "stream",
          "name": "stdout",
          "text": [
            "{'apple': 0, 'banana': 1, 'cherry': 2, 'date': 3}\n"
          ]
        }
      ]
    },
    {
      "cell_type": "code",
      "source": [
        "# 38.Shuffle the elements of a list randomly.\n",
        "import random\n",
        "\n",
        "my_list = [1, 2, 3, 4, 5]\n",
        "\n",
        "# Shuffle the list in-place\n",
        "random.shuffle(my_list)\n",
        "\n",
        "print(my_list)\n"
      ],
      "metadata": {
        "colab": {
          "base_uri": "https://localhost:8080/"
        },
        "id": "-EGpjxTm4bjy",
        "outputId": "db7e380c-97c7-46fc-ff9a-f6c2902b8161"
      },
      "execution_count": 10,
      "outputs": [
        {
          "output_type": "stream",
          "name": "stdout",
          "text": [
            "[5, 4, 2, 3, 1]\n"
          ]
        }
      ]
    },
    {
      "cell_type": "code",
      "source": [
        "#39. Create a list of the first 10 factorial numbers.\n",
        "def factorial(n):\n",
        "    if n == 0:\n",
        "        return 1\n",
        "    else:\n",
        "        return n * factorial(n - 1)\n",
        "\n",
        "factorial_numbers = [factorial(n) for n in range(1, 11)]\n",
        "\n",
        "print(factorial_numbers)\n"
      ],
      "metadata": {
        "colab": {
          "base_uri": "https://localhost:8080/"
        },
        "id": "oeu2DMoH5Ztp",
        "outputId": "8f565ed5-ffcc-4312-e270-f8c8ddc52f18"
      },
      "execution_count": 11,
      "outputs": [
        {
          "output_type": "stream",
          "name": "stdout",
          "text": [
            "[1, 2, 6, 24, 120, 720, 5040, 40320, 362880, 3628800]\n"
          ]
        }
      ]
    },
    {
      "cell_type": "code",
      "source": [
        "#40. Check if two lists have at least one element in common.\n",
        "def have_common_element(list1, list2):\n",
        "\n",
        "  for ele in list1:\n",
        "    if ele in list2:\n",
        "\n",
        "      return True\n",
        "  return False\n",
        "\n",
        "\n",
        "# Example usage:\n",
        "list1 = [1, 2, 3, 4, 5]\n",
        "list2 = [4, 5, 6, 7, 8]\n",
        "\n",
        "if have_common_element(list1, list2):\n",
        "    print(\"The lists have at least one element in common.\")\n",
        "else:\n",
        "    print(\"The lists have no common elements.\")\n"
      ],
      "metadata": {
        "colab": {
          "base_uri": "https://localhost:8080/"
        },
        "id": "a9oj-mMa6JNR",
        "outputId": "fa229d1d-92ed-40fb-f215-6dd11f0cac48"
      },
      "execution_count": 13,
      "outputs": [
        {
          "output_type": "stream",
          "name": "stdout",
          "text": [
            "The lists have at least one element in common.\n"
          ]
        }
      ]
    },
    {
      "cell_type": "code",
      "source": [
        "#41. Remove all elements from a list.\n",
        "my_list = [1, 2, 3, 4, 5]\n",
        "my_list.clear()\n"
      ],
      "metadata": {
        "id": "LKbnzrEM7wDW"
      },
      "execution_count": 17,
      "outputs": []
    },
    {
      "cell_type": "code",
      "source": [
        "#42. Replace negative numbers in a list with 0.\n",
        "my_list = [1, -2, 3, -4, 5, -6]\n",
        "\n",
        "for i in range(len(my_list)):\n",
        "  if my_list[i] < 0:\n",
        "    my_list[i] =0\n",
        "\n",
        "\n",
        "print(my_list)\n",
        "\n"
      ],
      "metadata": {
        "colab": {
          "base_uri": "https://localhost:8080/"
        },
        "id": "QM1JjTC_8Y08",
        "outputId": "fd276f86-589b-49df-f5f4-df7e4361fe5c"
      },
      "execution_count": 24,
      "outputs": [
        {
          "output_type": "stream",
          "name": "stdout",
          "text": [
            "[1, 0, 3, 0, 5, 0]\n"
          ]
        }
      ]
    },
    {
      "cell_type": "code",
      "source": [
        "#43. Convert a string into a list of words.\n",
        "text = \"This is a sample sentence.\"\n",
        "\n",
        "# Split the string into a list of words\n",
        "word_list = text.split()\n",
        "\n",
        "print(word_list)\n"
      ],
      "metadata": {
        "colab": {
          "base_uri": "https://localhost:8080/"
        },
        "id": "EMc4O9Jh9Htz",
        "outputId": "2a466124-2917-479e-9d22-824b5c49f321"
      },
      "execution_count": 19,
      "outputs": [
        {
          "output_type": "stream",
          "name": "stdout",
          "text": [
            "['This', 'is', 'a', 'sample', 'sentence.']\n"
          ]
        }
      ]
    },
    {
      "cell_type": "code",
      "source": [
        "#44. Convert a list of words into a string.\n",
        "word_list = ['This', 'is', 'a', 'list', 'of', 'words']\n",
        "\n",
        "# Convert the list of words into a string\n",
        "resulting_string = ' '.join(word_list)\n",
        "\n",
        "print(resulting_string)\n",
        "\n"
      ],
      "metadata": {
        "colab": {
          "base_uri": "https://localhost:8080/"
        },
        "id": "Y3prLino9LQA",
        "outputId": "c8c3a9a4-5db2-4aab-8008-41886d6f4fcf"
      },
      "execution_count": 25,
      "outputs": [
        {
          "output_type": "stream",
          "name": "stdout",
          "text": [
            "This is a list of words\n"
          ]
        }
      ]
    },
    {
      "cell_type": "code",
      "source": [
        "# 45.Create a list of the first `n` powers of 2.\n",
        "n = 5  # Replace with the desired number of powers of 2\n",
        "\n",
        "powers_of_2 = [2 ** i for i in range(n)]\n",
        "\n",
        "print(powers_of_2)\n"
      ],
      "metadata": {
        "colab": {
          "base_uri": "https://localhost:8080/"
        },
        "id": "tjel6End-NOp",
        "outputId": "6fcec7ad-1275-4f80-e71a-8efb6c396ed5"
      },
      "execution_count": 26,
      "outputs": [
        {
          "output_type": "stream",
          "name": "stdout",
          "text": [
            "[1, 2, 4, 8, 16]\n"
          ]
        }
      ]
    },
    {
      "cell_type": "code",
      "source": [
        "# 46. Find the longest string in a list of strings.\n",
        "string_list = [\"apple\", \"banana\", \"cherry\", \"date\", \"fig\"]\n",
        "\n",
        "# Find the longest string\n",
        "longest_string = max(string_list, key=len)\n",
        "\n",
        "print(\"The longest string is:\", longest_string)\n"
      ],
      "metadata": {
        "colab": {
          "base_uri": "https://localhost:8080/"
        },
        "id": "G08IxaCw-ltq",
        "outputId": "312c2ea9-f720-40c4-840b-3e291beee9f0"
      },
      "execution_count": 27,
      "outputs": [
        {
          "output_type": "stream",
          "name": "stdout",
          "text": [
            "The longest string is: banana\n"
          ]
        }
      ]
    },
    {
      "cell_type": "code",
      "source": [
        "#47.  Find the shortest string in a list of strings.\n",
        "string_list = [\"apple\", \"banana\", \"cherry\", \"date\", \"fig\"]\n",
        "\n",
        "# Find the shortest string\n",
        "shortest_string = min(string_list, key=len)\n",
        "\n",
        "print(\"The shortest string is:\", shortest_string)\n"
      ],
      "metadata": {
        "colab": {
          "base_uri": "https://localhost:8080/"
        },
        "id": "_3cFCVhw_Q6h",
        "outputId": "7566cb7a-e5f9-4057-a8bd-fe37267af5be"
      },
      "execution_count": 28,
      "outputs": [
        {
          "output_type": "stream",
          "name": "stdout",
          "text": [
            "The shortest string is: fig\n"
          ]
        }
      ]
    },
    {
      "cell_type": "code",
      "source": [
        "#48.  Create a list of the first `n` triangular numbers.\n",
        "n = 5\n",
        "\n",
        "triangular_numbers = []\n",
        "current_sum = 0\n",
        "\n",
        "for i in range(1, n + 1):\n",
        "    current_sum += i\n",
        "    triangular_numbers.append(current_sum)\n",
        "\n",
        "print(triangular_numbers)\n"
      ],
      "metadata": {
        "colab": {
          "base_uri": "https://localhost:8080/"
        },
        "id": "DrryXLfC_fUs",
        "outputId": "42fc6bdd-62c9-4ce9-81e9-8c2afefedaf4"
      },
      "execution_count": 29,
      "outputs": [
        {
          "output_type": "stream",
          "name": "stdout",
          "text": [
            "[1, 3, 6, 10, 15]\n"
          ]
        }
      ]
    },
    {
      "cell_type": "code",
      "source": [
        "#49. Check if a list contains another list as a subsequence.\n",
        "def is_subsequence(main_list, subsequence):\n",
        "    main_length = len(main_list)\n",
        "    subseq_length = len(subsequence)\n",
        "    i = j = 0\n",
        "\n",
        "    while i < main_length and j < subseq_length:\n",
        "        if main_list[i] == subsequence[j]:\n",
        "            j += 1\n",
        "        i += 1\n",
        "\n",
        "    return j == subseq_length\n",
        "\n",
        "# Example usage:\n",
        "main_list = [1, 2, 3, 4, 5, 6]\n",
        "subsequence = [2, 4, 6]\n",
        "\n",
        "if is_subsequence(main_list, subsequence):\n",
        "    print(\"The subsequence is present in the main list.\")\n",
        "else:\n",
        "    print(\"The subsequence is not present in the main list.\")\n"
      ],
      "metadata": {
        "colab": {
          "base_uri": "https://localhost:8080/"
        },
        "id": "FAZHUS3h_4qU",
        "outputId": "931e19e5-c17a-4da6-f7cb-a026dbad07c8"
      },
      "execution_count": 30,
      "outputs": [
        {
          "output_type": "stream",
          "name": "stdout",
          "text": [
            "The subsequence is present in the main list.\n"
          ]
        }
      ]
    },
    {
      "cell_type": "code",
      "source": [
        "# 50. Swap two elements in a list by their indices.\n",
        "def swap_elements_by_indices(lst, index1, index2):\n",
        "    if 0 <= index1 < len(lst) and 0 <= index2 < len(lst):\n",
        "        lst[index1], lst[index2] = lst[index2], lst[index1]\n",
        "\n",
        "my_list = [1, 2, 3, 4, 5]\n",
        "\n",
        "# Swap elements at index 1 and 3\n",
        "swap_elements_by_indices(my_list, 1, 3)\n",
        "\n",
        "print(my_list)\n",
        "\n"
      ],
      "metadata": {
        "colab": {
          "base_uri": "https://localhost:8080/"
        },
        "id": "RDkDLi21AopT",
        "outputId": "3f71da5e-df62-4b77-e9a7-e2881aa17759"
      },
      "execution_count": 31,
      "outputs": [
        {
          "output_type": "stream",
          "name": "stdout",
          "text": [
            "[1, 4, 3, 2, 5]\n"
          ]
        }
      ]
    },
    {
      "cell_type": "code",
      "source": [
        "# Tuple Based Practice Problem :"
      ],
      "metadata": {
        "id": "IoN_9ebzBDVP"
      },
      "execution_count": null,
      "outputs": []
    },
    {
      "cell_type": "code",
      "source": [
        "# 1. Create a tuple with integers from 1 to 5.\n",
        "my_tuple = (1, 2, 3, 4, 5)\n"
      ],
      "metadata": {
        "id": "fxwi7dtVBIF6"
      },
      "execution_count": 32,
      "outputs": []
    },
    {
      "cell_type": "code",
      "source": [
        "#2.Access the third element of a tuple.\n",
        "my_tuple = (1,2,3,4,5)\n",
        "ele = my_tuple[2]\n",
        "print(ele)"
      ],
      "metadata": {
        "colab": {
          "base_uri": "https://localhost:8080/"
        },
        "id": "mAYZjil9BSeC",
        "outputId": "b98f5a71-67a0-471e-d1aa-db38a8896fd5"
      },
      "execution_count": 1,
      "outputs": [
        {
          "output_type": "stream",
          "name": "stdout",
          "text": [
            "3\n"
          ]
        }
      ]
    },
    {
      "cell_type": "code",
      "source": [
        "# 3. Find the length of a tuple without using the `len()` function.\n",
        "my_tuple = (1,2,3,4,5)\n",
        "count =0\n",
        "for e in my_tuple:\n",
        "  count+=1\n",
        "print(\"Length of my tuple:\",count)\n"
      ],
      "metadata": {
        "colab": {
          "base_uri": "https://localhost:8080/"
        },
        "id": "nIJTsOn4_o_-",
        "outputId": "b827f402-6d1e-4018-f509-613488949641"
      },
      "execution_count": 3,
      "outputs": [
        {
          "output_type": "stream",
          "name": "stdout",
          "text": [
            "Length of my tuple: 5\n"
          ]
        }
      ]
    },
    {
      "cell_type": "code",
      "source": [
        "# 4. Count the occurrences of an element in a tuple.\n",
        "my_tuple = (1, 2, 2, 3, 4, 2, 5)\n",
        "element_to_count = 2  # Change this to the element you want to count\n",
        "count = 0\n",
        "\n",
        "for item in my_tuple:\n",
        "    if item == element_to_count:\n",
        "        count += 1\n",
        "\n",
        "print(f\"The element {element_to_count} appears {count} times in the tuple.\")\n",
        "\n",
        "\n"
      ],
      "metadata": {
        "colab": {
          "base_uri": "https://localhost:8080/"
        },
        "id": "x51d_09JAG_5",
        "outputId": "ff351757-cbe5-4ab1-95cb-c1c77c373af0"
      },
      "execution_count": 4,
      "outputs": [
        {
          "output_type": "stream",
          "name": "stdout",
          "text": [
            "The element 2 appears 3 times in the tuple.\n"
          ]
        }
      ]
    },
    {
      "cell_type": "code",
      "source": [
        "# 5. Find the index of the first occurrence of an element in a tuple.\n",
        "my_tuple = (1, 2, 3, 4, 2, 5)\n",
        "element_to_find = 2  # Change this to the element you want to find\n",
        "index = None  # Initialize the index to None\n",
        "\n",
        "for i in range(len(my_tuple)):\n",
        "    if my_tuple[i] == element_to_find:\n",
        "        index = i\n",
        "        break\n",
        "\n",
        "if index is not None:\n",
        "    print(f\"The first occurrence of {element_to_find} is at index {index}.\")\n",
        "else:\n",
        "    print(f\"{element_to_find} is not in the tuple.\")\n"
      ],
      "metadata": {
        "colab": {
          "base_uri": "https://localhost:8080/"
        },
        "id": "A3ShP8QXBALg",
        "outputId": "8b6a46b0-af65-496f-f452-6a0fa37c1524"
      },
      "execution_count": 5,
      "outputs": [
        {
          "output_type": "stream",
          "name": "stdout",
          "text": [
            "The first occurrence of 2 is at index 1.\n"
          ]
        }
      ]
    },
    {
      "cell_type": "code",
      "source": [
        "# 6. Check if an element exists in a tuple.\n",
        "my_tuple = (1, 2, 3, 4, 5)\n",
        "element_to_check = 3  # Change this to the element you want to check\n",
        "\n",
        "if element_to_check in my_tuple:\n",
        "    print(f\"{element_to_check} exists in the tuple.\")\n",
        "else:\n",
        "    print(f\"{element_to_check} does not exist in the tuple.\")\n"
      ],
      "metadata": {
        "colab": {
          "base_uri": "https://localhost:8080/"
        },
        "id": "QvcCVvs2LSwv",
        "outputId": "5e23db40-9f52-49ed-ac79-04b8230028fe"
      },
      "execution_count": 6,
      "outputs": [
        {
          "output_type": "stream",
          "name": "stdout",
          "text": [
            "3 exists in the tuple.\n"
          ]
        }
      ]
    },
    {
      "cell_type": "code",
      "source": [
        "# 7. Convert a tuple to a list.\n",
        "my_tuple = (1, 2, 3, 4, 5)\n",
        "\n",
        "# Convert the tuple to a list\n",
        "my_list = list(my_tuple)\n",
        "\n",
        "print(\"Tuple:\", my_tuple)\n",
        "print(\"List:\", my_list)\n"
      ],
      "metadata": {
        "colab": {
          "base_uri": "https://localhost:8080/"
        },
        "id": "L_Vw_7WZLohB",
        "outputId": "578ac9a4-0293-4316-89de-8b5f44478192"
      },
      "execution_count": 7,
      "outputs": [
        {
          "output_type": "stream",
          "name": "stdout",
          "text": [
            "Tuple: (1, 2, 3, 4, 5)\n",
            "List: [1, 2, 3, 4, 5]\n"
          ]
        }
      ]
    },
    {
      "cell_type": "code",
      "source": [
        "# 8. Convert a list to a tuple.\n",
        "my_list = [1, 2, 3, 4, 5]\n",
        "\n",
        "# Convert the list to a tuple\n",
        "my_tuple = tuple(my_list)\n",
        "\n",
        "print(\"List:\", my_list)\n",
        "print(\"Tuple:\", my_tuple)\n"
      ],
      "metadata": {
        "colab": {
          "base_uri": "https://localhost:8080/"
        },
        "id": "XSsR-II7L1sA",
        "outputId": "9013ce01-9111-47ad-8908-ed28409713d9"
      },
      "execution_count": 8,
      "outputs": [
        {
          "output_type": "stream",
          "name": "stdout",
          "text": [
            "List: [1, 2, 3, 4, 5]\n",
            "Tuple: (1, 2, 3, 4, 5)\n"
          ]
        }
      ]
    },
    {
      "cell_type": "code",
      "source": [
        "# 9. Unpack the elements of a tuple into variables.\n",
        "my_tuple = (1, 2, 3)\n",
        "var1, var2, var3 = my_tuple\n",
        "\n",
        "print(\"var1:\", var1)\n",
        "print(\"var2:\", var2)\n",
        "print(\"var3:\", var3)\n"
      ],
      "metadata": {
        "colab": {
          "base_uri": "https://localhost:8080/"
        },
        "id": "GMvU7HgAL3mO",
        "outputId": "a66c4371-2dc8-4943-ffde-d48f953f9987"
      },
      "execution_count": 9,
      "outputs": [
        {
          "output_type": "stream",
          "name": "stdout",
          "text": [
            "var1: 1\n",
            "var2: 2\n",
            "var3: 3\n"
          ]
        }
      ]
    },
    {
      "cell_type": "code",
      "source": [
        "# 10. Create a tuple of even numbers from 1 to 10.\n",
        "even_numbers = tuple(x for x in range(2, 11, 2))\n",
        "print(even_numbers)\n"
      ],
      "metadata": {
        "colab": {
          "base_uri": "https://localhost:8080/"
        },
        "id": "jqkkYI0zL3pj",
        "outputId": "248c6233-13de-4ec5-a323-bb266aa1570b"
      },
      "execution_count": 10,
      "outputs": [
        {
          "output_type": "stream",
          "name": "stdout",
          "text": [
            "(2, 4, 6, 8, 10)\n"
          ]
        }
      ]
    },
    {
      "cell_type": "code",
      "source": [
        "# 11. Create a tuple of odd numbers from 1 to 10.\n",
        "odd_numbers = tuple(x for x in range(1, 11) if x % 2 != 0)\n",
        "print(odd_numbers)\n"
      ],
      "metadata": {
        "colab": {
          "base_uri": "https://localhost:8080/"
        },
        "id": "Cz5hGOwyL3sx",
        "outputId": "e2344443-7af7-47fd-a112-2ffd10cf042f"
      },
      "execution_count": 11,
      "outputs": [
        {
          "output_type": "stream",
          "name": "stdout",
          "text": [
            "(1, 3, 5, 7, 9)\n"
          ]
        }
      ]
    },
    {
      "cell_type": "code",
      "source": [
        "# 12. Concatenate two tuples.\n",
        "tuple1 = (1, 2, 3)\n",
        "tuple2 = (4, 5, 6)\n",
        "\n",
        "concatenated_tuple = tuple1 + tuple2\n",
        "print(concatenated_tuple)\n"
      ],
      "metadata": {
        "colab": {
          "base_uri": "https://localhost:8080/"
        },
        "id": "QZU0qcAjL3v0",
        "outputId": "4edea1ff-5568-46cc-f7ae-c9e90dc5b564"
      },
      "execution_count": 12,
      "outputs": [
        {
          "output_type": "stream",
          "name": "stdout",
          "text": [
            "(1, 2, 3, 4, 5, 6)\n"
          ]
        }
      ]
    },
    {
      "cell_type": "code",
      "source": [
        "# 13. Repeat a tuple three times.\n",
        "original_tuple = (1, 2, 3)\n",
        "repeated_tuple = original_tuple * 3\n",
        "print(repeated_tuple)\n"
      ],
      "metadata": {
        "colab": {
          "base_uri": "https://localhost:8080/"
        },
        "id": "hRA_s5asL3yr",
        "outputId": "c5f65b0f-29f2-4d00-92c2-cc8a7b9463ae"
      },
      "execution_count": 13,
      "outputs": [
        {
          "output_type": "stream",
          "name": "stdout",
          "text": [
            "(1, 2, 3, 1, 2, 3, 1, 2, 3)\n"
          ]
        }
      ]
    },
    {
      "cell_type": "code",
      "source": [
        "# 14. Check if a tuple is empty.\n",
        "my_tuple = ()  # This is an empty tuple\n",
        "\n",
        "if not my_tuple:\n",
        "    print(\"The tuple is empty.\")\n",
        "else:\n",
        "    print(\"The tuple is not empty.\")\n"
      ],
      "metadata": {
        "colab": {
          "base_uri": "https://localhost:8080/"
        },
        "id": "sqkuyP54L31z",
        "outputId": "d5efcf7a-da9e-4165-bb76-7415ee7e71fb"
      },
      "execution_count": 14,
      "outputs": [
        {
          "output_type": "stream",
          "name": "stdout",
          "text": [
            "The tuple is empty.\n"
          ]
        }
      ]
    },
    {
      "cell_type": "code",
      "source": [
        "# 15. Create a nested tuple.\n",
        "nested_tuple = ((1, 2, 3), (4, 5, 6), (7, 8, 9))\n",
        "print(nested_tuple)\n"
      ],
      "metadata": {
        "colab": {
          "base_uri": "https://localhost:8080/"
        },
        "id": "adyCeai_L34J",
        "outputId": "f2d17349-7009-4490-903c-09934ce33791"
      },
      "execution_count": 15,
      "outputs": [
        {
          "output_type": "stream",
          "name": "stdout",
          "text": [
            "((1, 2, 3), (4, 5, 6), (7, 8, 9))\n"
          ]
        }
      ]
    },
    {
      "cell_type": "code",
      "source": [
        "# 16. Access the first element of a nested tuple.\n",
        "nested_tuple = ((1, 2, 3), (4, 5, 6), (7, 8, 9))\n",
        "print(nested_tuple)\n",
        "\n",
        "element = nested_tuple[0][0]  # Accessing the element 5\n",
        "print(element)\n",
        "\n"
      ],
      "metadata": {
        "colab": {
          "base_uri": "https://localhost:8080/"
        },
        "id": "SNVRs7xZNycz",
        "outputId": "b375ef9e-5929-46b9-8a05-d8c9b9d55a9b"
      },
      "execution_count": 17,
      "outputs": [
        {
          "output_type": "stream",
          "name": "stdout",
          "text": [
            "((1, 2, 3), (4, 5, 6), (7, 8, 9))\n",
            "1\n"
          ]
        }
      ]
    },
    {
      "cell_type": "code",
      "source": [
        "# 17. Create a tuple with a single element.\n",
        "single_element_tuple = (42)\n",
        "print(single_element_tuple)\n"
      ],
      "metadata": {
        "colab": {
          "base_uri": "https://localhost:8080/"
        },
        "id": "52_XrzQyN8LM",
        "outputId": "84adda00-988c-4904-af31-47533d83d22e"
      },
      "execution_count": 19,
      "outputs": [
        {
          "output_type": "stream",
          "name": "stdout",
          "text": [
            "42\n"
          ]
        }
      ]
    },
    {
      "cell_type": "code",
      "source": [
        "# 18. Compare two tuples.\n",
        "tuple1 = (1, 2, 3)\n",
        "tuple2 = (1, 2, 4)\n",
        "\n",
        "# Equal\n",
        "if tuple1 == tuple2:\n",
        "    print(\"tuple1 and tuple2 are equal.\")\n",
        "else:\n",
        "    print(\"tuple1 and tuple2 are not equal.\")\n",
        "\n",
        "# Not equal\n",
        "if tuple1 != tuple2:\n",
        "    print(\"tuple1 and tuple2 are not equal.\")\n",
        "else:\n",
        "    print(\"tuple1 and tuple2 are equal.\")\n",
        "\n",
        "# Greater than\n",
        "if tuple1 > tuple2:\n",
        "    print(\"tuple1 is greater than tuple2.\")\n",
        "else:\n",
        "    print(\"tuple1 is not greater than tuple2.\")\n",
        "\n",
        "# Less than\n",
        "if tuple1 < tuple2:\n",
        "    print(\"tuple1 is less than tuple2.\")\n",
        "else:\n",
        "    print(\"tuple1 is not less than tuple2.\")\n"
      ],
      "metadata": {
        "colab": {
          "base_uri": "https://localhost:8080/"
        },
        "id": "p5v_rt52OIb9",
        "outputId": "2f72f471-18a3-4f4c-bdf0-f99e3769fb4f"
      },
      "execution_count": 20,
      "outputs": [
        {
          "output_type": "stream",
          "name": "stdout",
          "text": [
            "tuple1 and tuple2 are not equal.\n",
            "tuple1 and tuple2 are not equal.\n",
            "tuple1 is not greater than tuple2.\n",
            "tuple1 is less than tuple2.\n"
          ]
        }
      ]
    },
    {
      "cell_type": "code",
      "source": [
        "# 19. Delete a tuple.\n",
        "my_tuple = (1, 2, 3, 4, 5)\n",
        "\n",
        "# Deleting the entire tuple\n",
        "del my_tuple\n",
        "\n",
        "\n",
        "\n"
      ],
      "metadata": {
        "id": "G4s_hw5nOde5"
      },
      "execution_count": 23,
      "outputs": []
    },
    {
      "cell_type": "code",
      "source": [
        "# 20. Slice a tuple.\n",
        "original_tuple = (1, 2, 3, 4, 5, 6, 7, 8, 9, 10)\n",
        "\n",
        "# Slice to get elements from index 2 (inclusive) to index 7 (exclusive)\n",
        "sliced_tuple = original_tuple[2:7]\n",
        "\n",
        "print(sliced_tuple)\n"
      ],
      "metadata": {
        "colab": {
          "base_uri": "https://localhost:8080/"
        },
        "id": "K8ar-BxsOmlQ",
        "outputId": "c968be58-5604-44b0-fde9-66898f7ad430"
      },
      "execution_count": 24,
      "outputs": [
        {
          "output_type": "stream",
          "name": "stdout",
          "text": [
            "(3, 4, 5, 6, 7)\n"
          ]
        }
      ]
    },
    {
      "cell_type": "code",
      "source": [
        "# 21. Find the maximum value in a tuple.\n",
        "my_tuple = (15, 8, 27, 10, 36, 21)\n",
        "\n",
        "max_value = max(my_tuple)\n",
        "print(\"The maximum value in the tuple is:\", max_value)\n",
        "\n"
      ],
      "metadata": {
        "colab": {
          "base_uri": "https://localhost:8080/"
        },
        "id": "UeDeci_4OmoY",
        "outputId": "1ffa3cc7-1dec-4ba6-a2f8-11591209d6e0"
      },
      "execution_count": 26,
      "outputs": [
        {
          "output_type": "stream",
          "name": "stdout",
          "text": [
            "The maximum value in the tuple is: 36\n"
          ]
        }
      ]
    },
    {
      "cell_type": "code",
      "source": [
        "# 22. Find the minimum value in a tuple.\n",
        "my_tuple = (15, 8, 27, 10, 36, 21)\n",
        "\n",
        "min_value = min(my_tuple)\n",
        "print(\"The minimum value in the tuple is:\", min_value)\n"
      ],
      "metadata": {
        "colab": {
          "base_uri": "https://localhost:8080/"
        },
        "id": "ZAf8F-j2Omrg",
        "outputId": "286f17e1-e5fd-4f39-ff04-67ba166b1b54"
      },
      "execution_count": 27,
      "outputs": [
        {
          "output_type": "stream",
          "name": "stdout",
          "text": [
            "The minimum value in the tuple is: 8\n"
          ]
        }
      ]
    },
    {
      "cell_type": "code",
      "source": [
        "# 23. Convert a string to a tuple of characters.\n",
        "my_string = \"Hello\"\n",
        "char_tuple = tuple(my_string)\n",
        "print(char_tuple)\n",
        "\n"
      ],
      "metadata": {
        "colab": {
          "base_uri": "https://localhost:8080/"
        },
        "id": "7qUPGrmJOmum",
        "outputId": "73e268e7-9380-4339-b12e-3d3671673038"
      },
      "execution_count": 1,
      "outputs": [
        {
          "output_type": "stream",
          "name": "stdout",
          "text": [
            "('H', 'e', 'l', 'l', 'o')\n"
          ]
        }
      ]
    },
    {
      "cell_type": "code",
      "source": [
        "# 24. Convert a tuple of characters to a string.\n",
        "char_tuple = ('H', 'e', 'l', 'l', 'o')\n",
        "resulting_string = ''.join(char_tuple)\n",
        "print(resulting_string)\n",
        "\n"
      ],
      "metadata": {
        "colab": {
          "base_uri": "https://localhost:8080/"
        },
        "id": "wFu6CFiJOmw4",
        "outputId": "2072188d-d70b-40de-9aaf-2da82d2a6acf"
      },
      "execution_count": 2,
      "outputs": [
        {
          "output_type": "stream",
          "name": "stdout",
          "text": [
            "Hello\n"
          ]
        }
      ]
    },
    {
      "cell_type": "code",
      "source": [
        "# 25. Create a tuple from multiple data types.\n",
        "my_tuple = (1, \"Hello\", 3.14, [1, 2, 3], {\"name\": \"John\", \"age\": 30})\n",
        "print(my_tuple)\n"
      ],
      "metadata": {
        "colab": {
          "base_uri": "https://localhost:8080/"
        },
        "id": "WqXCh9S3Om0D",
        "outputId": "607ae534-9b82-47f8-dd14-8e5f9aa4e698"
      },
      "execution_count": 3,
      "outputs": [
        {
          "output_type": "stream",
          "name": "stdout",
          "text": [
            "(1, 'Hello', 3.14, [1, 2, 3], {'name': 'John', 'age': 30})\n"
          ]
        }
      ]
    },
    {
      "cell_type": "code",
      "source": [
        "# 26. Check if two tuples are identical.\n",
        "tuple1 = (1, 2, 3)\n",
        "tuple2 = (3, 2, 1)\n",
        "\n",
        "if tuple1 == tuple2:\n",
        "    print(\"The two tuples are identical.\")\n",
        "else:\n",
        "    print(\"The two tuples are not identical.\")\n"
      ],
      "metadata": {
        "colab": {
          "base_uri": "https://localhost:8080/"
        },
        "id": "jfJXLtGgd4bP",
        "outputId": "e0017dd5-3475-46cf-a23a-c55572d25dba"
      },
      "execution_count": 4,
      "outputs": [
        {
          "output_type": "stream",
          "name": "stdout",
          "text": [
            "The two tuples are not identical.\n"
          ]
        }
      ]
    },
    {
      "cell_type": "code",
      "source": [
        "# 27. Sort the elements of a tuple.\n",
        "my_tuple = (5, 3, 1, 4, 2)\n",
        "sorted_list = sorted(my_tuple)\n",
        "sorted_tuple = tuple(sorted_list)\n",
        "\n",
        "print(sorted_tuple)\n"
      ],
      "metadata": {
        "colab": {
          "base_uri": "https://localhost:8080/"
        },
        "id": "lFAF8Fb4eFUH",
        "outputId": "dbb3b595-c3d0-487b-f3ec-c4122f84d852"
      },
      "execution_count": 5,
      "outputs": [
        {
          "output_type": "stream",
          "name": "stdout",
          "text": [
            "(1, 2, 3, 4, 5)\n"
          ]
        }
      ]
    },
    {
      "cell_type": "code",
      "source": [
        "# 28. Convert a tuple of integers to a tuple of strings.\n",
        "int_tuple = (1, 2, 3, 4, 5)\n",
        "str_tuple = tuple(str(x) for x in int_tuple)\n",
        "print(str_tuple)\n"
      ],
      "metadata": {
        "colab": {
          "base_uri": "https://localhost:8080/"
        },
        "id": "GnLT6J3keTS3",
        "outputId": "57b089f5-5a40-45d8-9c12-7f325fa90271"
      },
      "execution_count": 6,
      "outputs": [
        {
          "output_type": "stream",
          "name": "stdout",
          "text": [
            "('1', '2', '3', '4', '5')\n"
          ]
        }
      ]
    },
    {
      "cell_type": "code",
      "source": [
        "# 29. Convert a tuple of strings to a tuple of integers.\n",
        "str_tuple = ('1', '2', '3', '4', '5')\n",
        "int_tuple = tuple(int(x) for x in str_tuple)\n",
        "print(int_tuple)\n"
      ],
      "metadata": {
        "colab": {
          "base_uri": "https://localhost:8080/"
        },
        "id": "jxCjmnzEex5Q",
        "outputId": "30b869e4-ea6c-47c8-8d42-1ed144b2107f"
      },
      "execution_count": 7,
      "outputs": [
        {
          "output_type": "stream",
          "name": "stdout",
          "text": [
            "(1, 2, 3, 4, 5)\n"
          ]
        }
      ]
    },
    {
      "cell_type": "code",
      "source": [
        "# 30.Merge two tuples.\n",
        "tuple1 = (1, 2, 3)\n",
        "tuple2 = (4, 5, 6)\n",
        "merged_tuple = tuple1 + tuple2\n",
        "print(merged_tuple)\n"
      ],
      "metadata": {
        "colab": {
          "base_uri": "https://localhost:8080/"
        },
        "id": "98Y5YZ5ce8rY",
        "outputId": "ead08abc-4d77-4399-f491-ca48b4341279"
      },
      "execution_count": 8,
      "outputs": [
        {
          "output_type": "stream",
          "name": "stdout",
          "text": [
            "(1, 2, 3, 4, 5, 6)\n"
          ]
        }
      ]
    },
    {
      "cell_type": "code",
      "source": [
        "# 31. Flatten a nested tuple.\n",
        "def flatten_tuple(nested_tuple):\n",
        "    flat_list = []\n",
        "    for item in nested_tuple:\n",
        "        if isinstance(item, tuple):\n",
        "            flat_list.extend(flatten_tuple(item))\n",
        "        else:\n",
        "            flat_list.append(item)\n",
        "    return flat_list\n",
        "\n",
        "nested_tuple = (1, (2, 3), (4, (5, 6)), 7)\n",
        "flat_tuple = tuple(flatten_tuple(nested_tuple))\n",
        "print(flat_tuple)\n"
      ],
      "metadata": {
        "colab": {
          "base_uri": "https://localhost:8080/"
        },
        "id": "Yp22FFRpfH9e",
        "outputId": "1fd06cef-f801-43a0-c8b7-17d0c7cb5e5a"
      },
      "execution_count": 10,
      "outputs": [
        {
          "output_type": "stream",
          "name": "stdout",
          "text": [
            "(1, 2, 3, 4, 5, 6, 7)\n"
          ]
        }
      ]
    },
    {
      "cell_type": "code",
      "source": [
        "# 32. Create a tuple of the first 5 prime numbers.\n",
        "prime_numbers = (2, 3, 5, 7, 11)\n",
        "print(prime_numbers)\n"
      ],
      "metadata": {
        "colab": {
          "base_uri": "https://localhost:8080/"
        },
        "id": "AazJa839fOmm",
        "outputId": "49198479-7333-43a2-b621-03c196bb3c21"
      },
      "execution_count": 11,
      "outputs": [
        {
          "output_type": "stream",
          "name": "stdout",
          "text": [
            "(2, 3, 5, 7, 11)\n"
          ]
        }
      ]
    },
    {
      "cell_type": "code",
      "source": [
        "# 33. Check if a tuple is a palindrome.\n",
        "def is_palindrome_tuple(input_tuple):\n",
        "    return input_tuple == input_tuple[::-1]\n",
        "\n",
        "# Test if a tuple is a palindrome\n",
        "my_tuple = (1, 2, 3, 3, 2, 1)\n",
        "result = is_palindrome_tuple(my_tuple)\n",
        "\n",
        "if result:\n",
        "    print(\"The tuple is a palindrome.\")\n",
        "else:\n",
        "    print(\"The tuple is not a palindrome.\")\n"
      ],
      "metadata": {
        "colab": {
          "base_uri": "https://localhost:8080/"
        },
        "id": "JOjHYRDzn_NI",
        "outputId": "413f4ce3-ca4e-4ff3-8a6d-2eee620b2560"
      },
      "execution_count": 26,
      "outputs": [
        {
          "output_type": "stream",
          "name": "stdout",
          "text": [
            "The tuple is a palindrome.\n"
          ]
        }
      ]
    },
    {
      "cell_type": "code",
      "source": [
        "# 34. Create a tuple of squares of numbers from 1 to 5.\n",
        "squares_tuple = tuple(x ** 2 for x in range(1, 6))\n",
        "print(squares_tuple)\n"
      ],
      "metadata": {
        "colab": {
          "base_uri": "https://localhost:8080/"
        },
        "id": "bitdV7qWqI2h",
        "outputId": "a830d572-853a-423c-b1ca-ce7eec073ad3"
      },
      "execution_count": 27,
      "outputs": [
        {
          "output_type": "stream",
          "name": "stdout",
          "text": [
            "(1, 4, 9, 16, 25)\n"
          ]
        }
      ]
    },
    {
      "cell_type": "code",
      "source": [
        "# 35. Filter out all even numbers from a tuple.\n",
        "original_tuple = (1, 2, 3, 4, 5, 6, 7, 8, 9)\n",
        "filtered_tuple = tuple(x for x in original_tuple if x % 2 != 0)\n",
        "print(filtered_tuple)\n"
      ],
      "metadata": {
        "colab": {
          "base_uri": "https://localhost:8080/"
        },
        "id": "lC-stH5AtwWT",
        "outputId": "9e4793db-e7b0-4a25-dd41-22091e88ee17"
      },
      "execution_count": 28,
      "outputs": [
        {
          "output_type": "stream",
          "name": "stdout",
          "text": [
            "(1, 3, 5, 7, 9)\n"
          ]
        }
      ]
    },
    {
      "cell_type": "code",
      "source": [
        "# 36. Multiply all elements in a tuple by 2.\n",
        "original_tuple = (1, 2, 3, 4, 5)\n",
        "doubled_tuple = tuple(x * 2 for x in original_tuple)\n",
        "print(doubled_tuple)\n"
      ],
      "metadata": {
        "colab": {
          "base_uri": "https://localhost:8080/"
        },
        "id": "DOAV_x8au6KY",
        "outputId": "67ae8ba3-39e7-433b-8d51-e62ebb06700a"
      },
      "execution_count": 29,
      "outputs": [
        {
          "output_type": "stream",
          "name": "stdout",
          "text": [
            "(2, 4, 6, 8, 10)\n"
          ]
        }
      ]
    },
    {
      "cell_type": "code",
      "source": [
        "# 37. Create a tuple of random numbers.\n",
        "import random\n",
        "\n",
        "# Generate a tuple of 5 random integers between 1 and 100\n",
        "random_tuple = tuple(random.randint(1, 100) for _ in range(5))\n",
        "print(random_tuple)\n"
      ],
      "metadata": {
        "colab": {
          "base_uri": "https://localhost:8080/"
        },
        "id": "YAyG2tGKwMgF",
        "outputId": "28ffb0f8-b16f-4350-f717-9b3dac6157f0"
      },
      "execution_count": 30,
      "outputs": [
        {
          "output_type": "stream",
          "name": "stdout",
          "text": [
            "(76, 63, 18, 2, 63)\n"
          ]
        }
      ]
    },
    {
      "cell_type": "code",
      "source": [
        "# 38. Check if a tuple is sorted.\n",
        "def is_sorted_tuple(input_tuple):\n",
        "    return input_tuple == tuple(sorted(input_tuple))\n",
        "\n",
        "# Test if a tuple is sorted\n",
        "sorted_tuple = (1, 2, 3, 4, 5)\n",
        "unsorted_tuple = (4, 2, 1, 5, 3)\n",
        "\n",
        "result_sorted = is_sorted_tuple(sorted_tuple)\n",
        "result_unsorted = is_sorted_tuple(unsorted_tuple)\n",
        "\n",
        "if result_sorted:\n",
        "    print(\"The sorted_tuple is sorted.\")\n",
        "else:\n",
        "    print(\"The sorted_tuple is not sorted.\")\n",
        "\n",
        "if result_unsorted:\n",
        "    print(\"The unsorted_tuple is sorted.\")\n",
        "else:\n",
        "    print(\"The unsorted_tuple is not sorted.\")\n"
      ],
      "metadata": {
        "colab": {
          "base_uri": "https://localhost:8080/"
        },
        "id": "B6K2TGI_0EM3",
        "outputId": "d3c0a179-f499-47e4-8c13-46413be2666f"
      },
      "execution_count": 31,
      "outputs": [
        {
          "output_type": "stream",
          "name": "stdout",
          "text": [
            "The sorted_tuple is sorted.\n",
            "The unsorted_tuple is not sorted.\n"
          ]
        }
      ]
    },
    {
      "cell_type": "code",
      "source": [
        "# 39. Rotate a tuple to the left by `n` positions.\n",
        "def rotate_tuple_left(input_tuple, n):\n",
        "    if not input_tuple:\n",
        "        return input_tuple\n",
        "\n",
        "    n = n % len(input_tuple)\n",
        "    rotated_tuple = input_tuple[n:] + input_tuple[:n]\n",
        "    return rotated_tuple\n",
        "\n",
        "# Test the rotation function\n",
        "original_tuple = (1, 2, 3, 4, 5)\n",
        "n = 2\n",
        "rotated_tuple = rotate_tuple_left(original_tuple, n)\n",
        "print(rotated_tuple)\n"
      ],
      "metadata": {
        "colab": {
          "base_uri": "https://localhost:8080/"
        },
        "id": "xdFnWO3A0x0u",
        "outputId": "24fa3322-83bc-42cf-e7d6-98228257e873"
      },
      "execution_count": 32,
      "outputs": [
        {
          "output_type": "stream",
          "name": "stdout",
          "text": [
            "(3, 4, 5, 1, 2)\n"
          ]
        }
      ]
    },
    {
      "cell_type": "code",
      "source": [
        "# 40. Rotate a tuple to the right by `n` positions.\n",
        "def rotate_tuple_right(input_tuple, n):\n",
        "    if not input_tuple:\n",
        "        return input_tuple\n",
        "\n",
        "    n = n % len(input_tuple)\n",
        "    rotated_tuple = input_tuple[-n:] + input_tuple[:-n]\n",
        "    return rotated_tuple\n",
        "\n",
        "# Test the rotation function\n",
        "original_tuple = (1, 2, 3, 4, 5)\n",
        "n = 2\n",
        "rotated_tuple = rotate_tuple_right(original_tuple, n)\n",
        "print(rotated_tuple)\n"
      ],
      "metadata": {
        "colab": {
          "base_uri": "https://localhost:8080/"
        },
        "id": "dSaHLfuN1tk8",
        "outputId": "b35a3f4e-43af-4314-b4ae-eb6a8116c523"
      },
      "execution_count": 33,
      "outputs": [
        {
          "output_type": "stream",
          "name": "stdout",
          "text": [
            "(4, 5, 1, 2, 3)\n"
          ]
        }
      ]
    },
    {
      "cell_type": "code",
      "source": [
        "# 41. Create a tuple of the first 5 Fibonacci numbers.\n",
        "def generate_fibonacci(n):\n",
        "    fibonacci_sequence = [0, 1]\n",
        "    while len(fibonacci_sequence) < n:\n",
        "        next_number = fibonacci_sequence[-1] + fibonacci_sequence[-2]\n",
        "        fibonacci_sequence.append(next_number)\n",
        "    return tuple(fibonacci_sequence)\n",
        "\n",
        "# Generate a tuple of the first 5 Fibonacci numbers\n",
        "first_5_fibonacci = generate_fibonacci(5)\n",
        "print(first_5_fibonacci)\n"
      ],
      "metadata": {
        "colab": {
          "base_uri": "https://localhost:8080/"
        },
        "id": "UOW_lxa62Ctn",
        "outputId": "912f1012-c6cc-45ec-9573-f838c89f4922"
      },
      "execution_count": 34,
      "outputs": [
        {
          "output_type": "stream",
          "name": "stdout",
          "text": [
            "(0, 1, 1, 2, 3)\n"
          ]
        }
      ]
    },
    {
      "cell_type": "code",
      "source": [
        "# 42.Create a tuple from user input.\n",
        "\n",
        "# Collect user input as a comma-separated string\n",
        "user_input = input(\"Enter comma-separated values to create a tuple: \")\n",
        "\n",
        "# Split the input string into a list of values\n",
        "input_list = user_input.split(',')\n",
        "\n",
        "# Convert the list into a tuple\n",
        "user_tuple = tuple(input_list)\n",
        "\n",
        "# Print the resulting tuple\n",
        "print(\"Tuple created from user input:\", user_tuple)\n"
      ],
      "metadata": {
        "colab": {
          "base_uri": "https://localhost:8080/"
        },
        "id": "ZYBxbfGr2Xvr",
        "outputId": "e9940186-91a0-4b40-a3ed-c70942d7462f"
      },
      "execution_count": 3,
      "outputs": [
        {
          "output_type": "stream",
          "name": "stdout",
          "text": [
            "Enter comma-separated values to create a tuple: 1,2,3,4,5\n",
            "Tuple created from user input: ('1', '2', '3', '4', '5')\n"
          ]
        }
      ]
    },
    {
      "cell_type": "code",
      "source": [
        "# 43. Swap two elements in a tuple.\n",
        "\n",
        "# Create a tuple\n",
        "my_tuple = (1, 2, 3, 4, 5)\n",
        "\n",
        "# Convert the tuple to a list\n",
        "my_list = list(my_tuple)\n",
        "\n",
        "# Swap two elements (e.g., swap the first and second elements)\n",
        "my_list[0], my_list[1] = my_list[1], my_list[0]\n",
        "\n",
        "# Convert the list back to a tuple\n",
        "my_swapped_tuple = tuple(my_list)\n",
        "\n",
        "# Print the swapped tuple\n",
        "print(\"Original Tuple:\", my_tuple)\n",
        "print(\"Swapped Tuple:\", my_swapped_tuple)\n"
      ],
      "metadata": {
        "colab": {
          "base_uri": "https://localhost:8080/"
        },
        "id": "NyJzJN8xGkEr",
        "outputId": "b2497157-b4ce-46d7-cd4c-9c9beea5bd47"
      },
      "execution_count": 4,
      "outputs": [
        {
          "output_type": "stream",
          "name": "stdout",
          "text": [
            "Original Tuple: (1, 2, 3, 4, 5)\n",
            "Swapped Tuple: (2, 1, 3, 4, 5)\n"
          ]
        }
      ]
    },
    {
      "cell_type": "code",
      "source": [
        "# 44. Reverse the elements of a tuple.\n",
        "# Create a tuple\n",
        "my_tuple = (1, 2, 3, 4, 5)\n",
        "\n",
        "# Reverse the tuple\n",
        "reversed_tuple = my_tuple[::-1]\n",
        "\n",
        "# Print the reversed tuple\n",
        "print(\"Original Tuple:\", my_tuple)\n",
        "print(\"Reversed Tuple:\", reversed_tuple)\n"
      ],
      "metadata": {
        "colab": {
          "base_uri": "https://localhost:8080/"
        },
        "id": "0t7Xk96cIWz9",
        "outputId": "f673d04c-6fba-4023-8b07-e9eac241ef87"
      },
      "execution_count": 5,
      "outputs": [
        {
          "output_type": "stream",
          "name": "stdout",
          "text": [
            "Original Tuple: (1, 2, 3, 4, 5)\n",
            "Reversed Tuple: (5, 4, 3, 2, 1)\n"
          ]
        }
      ]
    },
    {
      "cell_type": "code",
      "source": [
        "# 45 . Create a tuple of the first `n` powers of 2.\n",
        "n = 5  # Change 'n' to the number of powers of 2 you want\n",
        "\n",
        "# Create a tuple of the first 'n' powers of 2\n",
        "powers_of_2_tuple = tuple(2**i for i in range(n))\n",
        "\n",
        "# Print the tuple\n",
        "print(powers_of_2_tuple)\n"
      ],
      "metadata": {
        "colab": {
          "base_uri": "https://localhost:8080/"
        },
        "id": "toloOekDIz4y",
        "outputId": "88fcc81a-fa54-4fb8-db47-d7f37610e808"
      },
      "execution_count": 6,
      "outputs": [
        {
          "output_type": "stream",
          "name": "stdout",
          "text": [
            "(1, 2, 4, 8, 16)\n"
          ]
        }
      ]
    },
    {
      "cell_type": "code",
      "source": [
        "# 46 . Find the longest string in a tuple of strings.\n",
        "# Create a tuple of strings\n",
        "string_tuple = (\"apple\", \"banana\", \"cherry\", \"date\", \"fig\")\n",
        "\n",
        "# Initialize a variable to store the longest string\n",
        "longest_string = \"\"\n",
        "\n",
        "# Iterate through the tuple\n",
        "for string in string_tuple:\n",
        "    if len(string) > len(longest_string):\n",
        "        longest_string = string\n",
        "\n",
        "# Print the longest string\n",
        "print(\"Longest string:\", longest_string)\n"
      ],
      "metadata": {
        "colab": {
          "base_uri": "https://localhost:8080/"
        },
        "id": "D7avA3aQJU0p",
        "outputId": "29d974ce-60cb-48a0-8609-9c97fc763fa8"
      },
      "execution_count": 7,
      "outputs": [
        {
          "output_type": "stream",
          "name": "stdout",
          "text": [
            "Longest string: banana\n"
          ]
        }
      ]
    },
    {
      "cell_type": "code",
      "source": [
        "# 47.  Find the shortest string in a tuple of strings.\n",
        "\n",
        "# Create a tuple of strings\n",
        "string_tuple = (\"apple\", \"banana\", \"cherry\", \"date\", \"fig\")\n",
        "\n",
        "# Initialize a variable to store the shortest string\n",
        "shortest_string = None  # Use None to represent that we haven't found the shortest string yet\n",
        "\n",
        "# Iterate through the tuple\n",
        "for string in string_tuple:\n",
        "    if shortest_string is None or len(string) < len(shortest_string):\n",
        "        shortest_string = string\n",
        "\n",
        "# Print the shortest string\n",
        "print(\"Shortest string:\", shortest_string)\n"
      ],
      "metadata": {
        "colab": {
          "base_uri": "https://localhost:8080/"
        },
        "id": "8np9VBJyJsXn",
        "outputId": "482d015a-a407-4474-daf7-ce809f6d7d7d"
      },
      "execution_count": 8,
      "outputs": [
        {
          "output_type": "stream",
          "name": "stdout",
          "text": [
            "Shortest string: fig\n"
          ]
        }
      ]
    },
    {
      "cell_type": "code",
      "source": [
        "# 48 .Create a tuple of the first `n` triangular numbers.\n",
        "n = 5  # Change 'n' to the number of triangular numbers you want\n",
        "\n",
        "# Create a tuple of the first 'n' triangular numbers\n",
        "triangular_numbers = tuple((i * (i + 1)) // 2 for i in range(1, n + 1))\n",
        "\n",
        "# Print the tuple\n",
        "print(triangular_numbers)\n"
      ],
      "metadata": {
        "colab": {
          "base_uri": "https://localhost:8080/"
        },
        "id": "Fj-3-LMjJzQV",
        "outputId": "033f3e22-e10a-4e7e-978a-b5aaa26cbf0f"
      },
      "execution_count": 9,
      "outputs": [
        {
          "output_type": "stream",
          "name": "stdout",
          "text": [
            "(1, 3, 6, 10, 15)\n"
          ]
        }
      ]
    },
    {
      "cell_type": "code",
      "source": [
        "# 49 . Check if a tuple contains another tuple as a subsequence.\n",
        "def is_subsequence(sub, main):\n",
        "    sub_len = len(sub)\n",
        "    main_len = len(main)\n",
        "    i = 0  # Index for the main tuple\n",
        "\n",
        "    for j in range(sub_len):\n",
        "        while i < main_len and main[i] != sub[j]:\n",
        "            i += 1\n",
        "\n",
        "        if i >= main_len:\n",
        "            return False\n",
        "\n",
        "        i += 1\n",
        "\n",
        "    return True\n",
        "\n",
        "# Example usage\n",
        "main_tuple = (1, 2, 3, 4, 5, 6, 7, 8)\n",
        "sub_tuple = (2, 4, 6)\n",
        "\n",
        "if is_subsequence(sub_tuple, main_tuple):\n",
        "    print(\"The subtuple is a subsequence of the main tuple.\")\n",
        "else:\n",
        "    print(\"The subtuple is not a subsequence of the main tuple.\")\n"
      ],
      "metadata": {
        "colab": {
          "base_uri": "https://localhost:8080/"
        },
        "id": "llvtiUVUJzTb",
        "outputId": "efac75a4-d1aa-462c-c945-b0f8d7633244"
      },
      "execution_count": 10,
      "outputs": [
        {
          "output_type": "stream",
          "name": "stdout",
          "text": [
            "The subtuple is a subsequence of the main tuple.\n"
          ]
        }
      ]
    },
    {
      "cell_type": "code",
      "source": [
        "# 50 . Create a tuple of alternating 1s and 0s of length `n`.\n",
        "n = 10  # Change 'n' to the desired length of the tuple\n",
        "\n",
        "# Create a tuple of alternating 1s and 0s of length 'n'\n",
        "alternating_tuple = tuple(1 if i % 2 == 0 else 0 for i in range(n))\n",
        "\n",
        "# Print the tuple\n",
        "print(alternating_tuple)\n"
      ],
      "metadata": {
        "colab": {
          "base_uri": "https://localhost:8080/"
        },
        "id": "qikb_TLgJzXB",
        "outputId": "db11a7cb-c624-4d98-ec3a-e26d3557fd47"
      },
      "execution_count": 11,
      "outputs": [
        {
          "output_type": "stream",
          "name": "stdout",
          "text": [
            "(1, 0, 1, 0, 1, 0, 1, 0, 1, 0)\n"
          ]
        }
      ]
    },
    {
      "cell_type": "code",
      "source": [
        "# Set Based Practice Problem :"
      ],
      "metadata": {
        "id": "HU8Qa7m2Jzab"
      },
      "execution_count": 12,
      "outputs": []
    },
    {
      "cell_type": "code",
      "source": [
        "# 1. Create a set with integers from 1 to 5.\n",
        "my_set = {1, 2, 3, 4, 5}\n"
      ],
      "metadata": {
        "id": "OL-FUfIKJzdS"
      },
      "execution_count": 13,
      "outputs": []
    },
    {
      "cell_type": "code",
      "source": [
        "# 2.  Add an element to a set.\n",
        "my_set = {1, 2, 3, 4, 5}\n",
        "element_to_add = 6\n",
        "my_set.add(element_to_add)\n"
      ],
      "metadata": {
        "id": "S-9Sx8FqRPc-"
      },
      "execution_count": 14,
      "outputs": []
    },
    {
      "cell_type": "code",
      "source": [
        "# 3. Remove an element from a set.\n",
        "my_set = {1, 2, 3, 4, 5}\n",
        "element_to_remove = 3\n",
        "\n",
        "try:\n",
        "    my_set.remove(element_to_remove)\n",
        "except KeyError:\n",
        "    print(f\"{element_to_remove} is not in the set.\")\n",
        "\n",
        "# The set now contains {1, 2, 4, 5}\n"
      ],
      "metadata": {
        "id": "GtRw8Z2KRXtB"
      },
      "execution_count": 15,
      "outputs": []
    },
    {
      "cell_type": "code",
      "source": [
        "# 4. Check if an element exists in a set.\n",
        "my_set = {1, 2, 3, 4, 5}\n",
        "element_to_check = 3\n",
        "\n",
        "if element_to_check in my_set:\n",
        "    print(f\"{element_to_check} exists in the set.\")\n",
        "else:\n",
        "    print(f\"{element_to_check} does not exist in the set.\")\n"
      ],
      "metadata": {
        "colab": {
          "base_uri": "https://localhost:8080/"
        },
        "id": "7rVb1dI2Rp1Q",
        "outputId": "bdd0aa20-53ed-4810-cbe1-3a2c8ef8345e"
      },
      "execution_count": 16,
      "outputs": [
        {
          "output_type": "stream",
          "name": "stdout",
          "text": [
            "3 exists in the set.\n"
          ]
        }
      ]
    },
    {
      "cell_type": "code",
      "source": [
        "#5. Find the length of a set without using the `len()` function.\n",
        "my_set = {1, 2, 3, 4, 5}\n",
        "count = 0\n",
        "\n",
        "for _ in my_set:\n",
        "    count += 1\n",
        "\n",
        "print(\"Length of the set:\", count)\n"
      ],
      "metadata": {
        "colab": {
          "base_uri": "https://localhost:8080/"
        },
        "id": "JBIaG5fbSEsu",
        "outputId": "d25fb5ba-42a5-4351-ec18-3c8eb4bfe1ad"
      },
      "execution_count": 17,
      "outputs": [
        {
          "output_type": "stream",
          "name": "stdout",
          "text": [
            "Length of the set: 5\n"
          ]
        }
      ]
    },
    {
      "cell_type": "code",
      "source": [
        "# 6. Clear all elements from a set.\n",
        "my_set = {1, 2, 3, 4, 5}\n",
        "\n",
        "my_set.clear()\n",
        "\n",
        "print(\"The set after clearing:\", my_set)  # This will print an empty set: set()\n"
      ],
      "metadata": {
        "colab": {
          "base_uri": "https://localhost:8080/"
        },
        "id": "XOXNbXX4SV-A",
        "outputId": "2f772006-c2d0-4716-a370-6c758087cbc7"
      },
      "execution_count": 18,
      "outputs": [
        {
          "output_type": "stream",
          "name": "stdout",
          "text": [
            "The set after clearing: set()\n"
          ]
        }
      ]
    },
    {
      "cell_type": "code",
      "source": [
        "# 7. Create a set of even numbers from 1 to 10.\n",
        "even_numbers_set = {x for x in range(1, 11) if x % 2 == 0}\n"
      ],
      "metadata": {
        "id": "AAb_N_EoSf9V"
      },
      "execution_count": 19,
      "outputs": []
    },
    {
      "cell_type": "code",
      "source": [
        "# 8.  Create a set of odd numbers from 1 to 10.\n",
        "odd_numbers_set = {x for x in range(1, 11) if x % 2 != 0}\n"
      ],
      "metadata": {
        "id": "2UfAgNvBSp81"
      },
      "execution_count": 20,
      "outputs": []
    },
    {
      "cell_type": "code",
      "source": [
        "# 9. Find the union of two sets.\n",
        "set1 = {1, 2, 3, 4, 5}\n",
        "set2 = {4, 5, 6, 7, 8}\n",
        "\n",
        "union_set = set1.union(set2)\n"
      ],
      "metadata": {
        "id": "ZcfF2-xtSyyX"
      },
      "execution_count": 21,
      "outputs": []
    },
    {
      "cell_type": "code",
      "source": [
        "#10. Find the intersection of two sets.\n",
        "set1 = {1, 2, 3, 4, 5}\n",
        "set2 = {4, 5, 6, 7, 8}\n",
        "\n",
        "intersection_set = set1.intersection(set2)\n"
      ],
      "metadata": {
        "id": "pmo6i0JyTABw"
      },
      "execution_count": 22,
      "outputs": []
    },
    {
      "cell_type": "code",
      "source": [
        "# 11. Find the difference between two sets.\n",
        "set1 = {1, 2, 3, 4, 5}\n",
        "set2 = {4, 5, 6, 7, 8}\n",
        "\n",
        "difference_set = set1.difference(set2)\n"
      ],
      "metadata": {
        "id": "FD9895K9TSIA"
      },
      "execution_count": 23,
      "outputs": []
    },
    {
      "cell_type": "code",
      "source": [
        "# 12 . Check if a set is a subset of another set.\n",
        "\n",
        "set1 = {1, 2, 3}\n",
        "set2 = {1, 2, 3, 4, 5}\n",
        "\n",
        "is_subset = set1.issubset(set2)\n"
      ],
      "metadata": {
        "id": "AhsvxMpvT063"
      },
      "execution_count": 24,
      "outputs": []
    },
    {
      "cell_type": "code",
      "source": [
        "# 13 . Check if a set is a superset of another set.\n",
        "set1 = {1, 2, 3, 4, 5}\n",
        "set2 = {2, 4, 5}\n",
        "\n",
        "is_superset = set1.issuperset(set2)\n"
      ],
      "metadata": {
        "id": "pobSm7Y8UIe6"
      },
      "execution_count": 25,
      "outputs": []
    },
    {
      "cell_type": "code",
      "source": [
        "# 14. Create a set from a list.\n",
        "my_list = [1, 2, 3, 4, 5]\n",
        "my_set = set(my_list)\n"
      ],
      "metadata": {
        "id": "UIKPJFpDUJEV"
      },
      "execution_count": 26,
      "outputs": []
    },
    {
      "cell_type": "code",
      "source": [
        "# 15 . Convert a set to a list.\n",
        "my_set = {1, 2, 3, 4, 5}\n",
        "my_list = list(my_set)\n"
      ],
      "metadata": {
        "id": "DWz06xKoUJHm"
      },
      "execution_count": 27,
      "outputs": []
    },
    {
      "cell_type": "code",
      "source": [
        "# 16. Remove a random element from a set.\n",
        "my_set = {1, 2, 3, 4, 5}\n",
        "\n",
        "# Remove a random element\n",
        "removed_element = my_set.pop()\n",
        "\n",
        "print(\"Removed element:\", removed_element)\n",
        "print(\"Updated set:\", my_set)\n"
      ],
      "metadata": {
        "colab": {
          "base_uri": "https://localhost:8080/"
        },
        "id": "SikgIJUdUJLD",
        "outputId": "b0a51ed9-99d2-4d08-9f65-643d30508b70"
      },
      "execution_count": 30,
      "outputs": [
        {
          "output_type": "stream",
          "name": "stdout",
          "text": [
            "Removed element: 1\n",
            "Updated set: {2, 3, 4, 5}\n"
          ]
        }
      ]
    },
    {
      "cell_type": "code",
      "source": [
        "# 17. Pop an element from a set.\n",
        "my_set = {1, 2, 3, 4, 5}\n",
        "\n",
        "# Pop an element\n",
        "popped_element = my_set.pop()\n",
        "\n",
        "print(\"Popped element:\", popped_element)\n",
        "print(\"Updated set:\", my_set)\n"
      ],
      "metadata": {
        "colab": {
          "base_uri": "https://localhost:8080/"
        },
        "id": "KvfkXz7DUJOG",
        "outputId": "b109e03c-dd8e-40e8-a783-661acb8bf016"
      },
      "execution_count": 31,
      "outputs": [
        {
          "output_type": "stream",
          "name": "stdout",
          "text": [
            "Popped element: 1\n",
            "Updated set: {2, 3, 4, 5}\n"
          ]
        }
      ]
    },
    {
      "cell_type": "code",
      "source": [
        "# 18. Check if two sets have no elements in common.\n",
        "set1 = {1, 2, 3}\n",
        "set2 = {4, 5, 6}\n",
        "\n",
        "are_disjoint = set1.isdisjoint(set2)\n",
        "\n",
        "if are_disjoint:\n",
        "    print(\"The sets have no elements in common.\")\n",
        "else:\n",
        "    print(\"The sets have elements in common.\")\n"
      ],
      "metadata": {
        "colab": {
          "base_uri": "https://localhost:8080/"
        },
        "id": "xx0achPGUJQ9",
        "outputId": "55da7c6a-bc76-4e05-c0cd-65ae6c3467ee"
      },
      "execution_count": 32,
      "outputs": [
        {
          "output_type": "stream",
          "name": "stdout",
          "text": [
            "The sets have no elements in common.\n"
          ]
        }
      ]
    },
    {
      "cell_type": "code",
      "source": [
        "# 19. Find the symmetric difference between two sets.\n",
        "set1 = {1, 2, 3, 4, 5}\n",
        "set2 = {4, 5, 6, 7, 8}\n",
        "\n",
        "symmetric_difference_set = set1.symmetric_difference(set2)\n",
        "\n",
        "print(symmetric_difference_set)\n"
      ],
      "metadata": {
        "colab": {
          "base_uri": "https://localhost:8080/"
        },
        "id": "HAXUb6j2UJYX",
        "outputId": "52b1512a-c052-4744-812b-2bcc583be5fb"
      },
      "execution_count": 34,
      "outputs": [
        {
          "output_type": "stream",
          "name": "stdout",
          "text": [
            "{1, 2, 3, 6, 7, 8}\n"
          ]
        }
      ]
    },
    {
      "cell_type": "code",
      "source": [
        "# 20. Update a set with elements from another set.\n",
        "set1 = {1, 2, 3}\n",
        "set2 = {3, 4, 5}\n",
        "\n",
        "set1.update(set2)\n",
        "print(set1)\n",
        "\n"
      ],
      "metadata": {
        "colab": {
          "base_uri": "https://localhost:8080/"
        },
        "id": "SrKMxS7SYXau",
        "outputId": "f0cb91bb-6423-4eaa-aebe-ccf5f06bf563"
      },
      "execution_count": 37,
      "outputs": [
        {
          "output_type": "stream",
          "name": "stdout",
          "text": [
            "{1, 2, 3, 4, 5}\n"
          ]
        }
      ]
    },
    {
      "cell_type": "code",
      "source": [
        "# 21. Create a set of the first 5 prime numbers.\n",
        "def is_prime(num):\n",
        "    if num < 2:\n",
        "        return False\n",
        "    for i in range(2, int(num**0.5) + 1):\n",
        "        if num % i == 0:\n",
        "            return False\n",
        "    return True\n",
        "\n",
        "def generate_primes(count):\n",
        "    primes = set()\n",
        "    num = 2\n",
        "    while len(primes) < count:\n",
        "        if is_prime(num):\n",
        "            primes.add(num)\n",
        "        num += 1\n",
        "    return primes\n",
        "\n",
        "first_5_primes = generate_primes(5)\n",
        "print(first_5_primes)\n",
        "\n"
      ],
      "metadata": {
        "colab": {
          "base_uri": "https://localhost:8080/"
        },
        "id": "z5bkrRAHYu2f",
        "outputId": "d497d52a-4091-48df-e8f4-febb00449d2e"
      },
      "execution_count": 1,
      "outputs": [
        {
          "output_type": "stream",
          "name": "stdout",
          "text": [
            "{2, 3, 5, 7, 11}\n"
          ]
        }
      ]
    },
    {
      "cell_type": "code",
      "source": [
        "# 22. Check if two sets are identical.\n",
        "set1 = {1, 2, 3, 4, 5}\n",
        "set2 = {5, 4, 3, 2, 1}\n",
        "\n",
        "if set1 == set2:\n",
        "    print(\"The sets are identical.\")\n",
        "else:\n",
        "    print(\"The sets are not identical.\")\n"
      ],
      "metadata": {
        "colab": {
          "base_uri": "https://localhost:8080/"
        },
        "id": "pVgtFYWnYu5O",
        "outputId": "a72f7055-7b82-4683-95f3-3e7ccc843e80"
      },
      "execution_count": 2,
      "outputs": [
        {
          "output_type": "stream",
          "name": "stdout",
          "text": [
            "The sets are identical.\n"
          ]
        }
      ]
    },
    {
      "cell_type": "code",
      "source": [
        "# 23. Create a frozen set.\n",
        "my_set = {1, 2, 3, 4, 5}\n",
        "frozen_set = frozenset(my_set)\n",
        "\n",
        "print(\"Original Set:\", my_set)\n",
        "print(\"Frozen Set:\", frozen_set)\n"
      ],
      "metadata": {
        "colab": {
          "base_uri": "https://localhost:8080/"
        },
        "id": "OznmxOs7Yu8F",
        "outputId": "41347810-504b-4681-c2e0-b9bdabe5a593"
      },
      "execution_count": 3,
      "outputs": [
        {
          "output_type": "stream",
          "name": "stdout",
          "text": [
            "Original Set: {1, 2, 3, 4, 5}\n",
            "Frozen Set: frozenset({1, 2, 3, 4, 5})\n"
          ]
        }
      ]
    },
    {
      "cell_type": "code",
      "source": [
        "# 24. Check if a set is disjoint with another set.\n",
        "set1 = {1, 2, 3, 4, 5}\n",
        "set2 = {6, 7, 8, 9, 10}\n",
        "\n",
        "if set1.isdisjoint(set2):\n",
        "    print(\"The sets are disjoint.\")\n",
        "else:\n",
        "    print(\"The sets are not disjoint.\")\n"
      ],
      "metadata": {
        "colab": {
          "base_uri": "https://localhost:8080/"
        },
        "id": "yZ13VqmYYu-7",
        "outputId": "bcf127c8-43c3-4617-db78-ea5d81393709"
      },
      "execution_count": 4,
      "outputs": [
        {
          "output_type": "stream",
          "name": "stdout",
          "text": [
            "The sets are disjoint.\n"
          ]
        }
      ]
    },
    {
      "cell_type": "code",
      "source": [
        "# 25. Create a set of squares of numbers from 1 to 5.\n",
        "numbers = {1, 2, 3, 4, 5}\n",
        "squares = {x**2 for x in numbers}\n",
        "\n",
        "print(\"Original Set:\", numbers)\n",
        "print(\"Set of Squares:\", squares)\n"
      ],
      "metadata": {
        "colab": {
          "base_uri": "https://localhost:8080/"
        },
        "id": "ty5dT2_7YvBv",
        "outputId": "1d9714d5-615c-4a4f-9e48-202c52f73901"
      },
      "execution_count": 5,
      "outputs": [
        {
          "output_type": "stream",
          "name": "stdout",
          "text": [
            "Original Set: {1, 2, 3, 4, 5}\n",
            "Set of Squares: {1, 4, 9, 16, 25}\n"
          ]
        }
      ]
    },
    {
      "cell_type": "code",
      "source": [
        "# 26. Filter out all even numbers from a set.\n",
        "original_set = {1, 2, 3, 4, 5, 6, 7, 8, 9, 10}\n",
        "filtered_set = {x for x in original_set if x % 2 != 0}\n",
        "\n",
        "print(\"Original Set:\", original_set)\n",
        "print(\"Filtered Set (odd numbers only):\", filtered_set)\n",
        "\n"
      ],
      "metadata": {
        "colab": {
          "base_uri": "https://localhost:8080/"
        },
        "id": "uivFo7SgYvEm",
        "outputId": "f41808a0-f700-472b-dec4-712b864b5890"
      },
      "execution_count": 6,
      "outputs": [
        {
          "output_type": "stream",
          "name": "stdout",
          "text": [
            "Original Set: {1, 2, 3, 4, 5, 6, 7, 8, 9, 10}\n",
            "Filtered Set (odd numbers only): {1, 3, 5, 7, 9}\n"
          ]
        }
      ]
    },
    {
      "cell_type": "code",
      "source": [
        "# 27. Multiply all elements in a set by 2.\n",
        "original_set = {1, 2, 3, 4, 5}\n",
        "multiplied_set = {x * 2 for x in original_set}\n",
        "\n",
        "print(\"Original Set:\", original_set)\n",
        "print(\"Multiplied Set:\", multiplied_set)\n"
      ],
      "metadata": {
        "colab": {
          "base_uri": "https://localhost:8080/"
        },
        "id": "cKHAMsC9YvHR",
        "outputId": "cd176ac6-e25c-4e74-c7b7-b50661ccab5c"
      },
      "execution_count": 7,
      "outputs": [
        {
          "output_type": "stream",
          "name": "stdout",
          "text": [
            "Original Set: {1, 2, 3, 4, 5}\n",
            "Multiplied Set: {2, 4, 6, 8, 10}\n"
          ]
        }
      ]
    },
    {
      "cell_type": "code",
      "source": [
        "# 28. Create a set of random numbers.\n",
        "import random\n",
        "\n",
        "random_set = {random.randint(1, 100) for _ in range(5)}\n",
        "\n",
        "print(\"Random Set:\", random_set)\n"
      ],
      "metadata": {
        "colab": {
          "base_uri": "https://localhost:8080/"
        },
        "id": "WOnBVSzHhSIk",
        "outputId": "32f1429d-34ac-446d-8586-d535df5703c1"
      },
      "execution_count": 8,
      "outputs": [
        {
          "output_type": "stream",
          "name": "stdout",
          "text": [
            "Random Set: {99, 10, 75, 49, 27}\n"
          ]
        }
      ]
    },
    {
      "cell_type": "code",
      "source": [
        "# 29. Check if a set is empty.\n",
        "# Method 1: Using len()\n",
        "my_set = set()\n",
        "\n",
        "if len(my_set) == 0:\n",
        "    print(\"The set is empty.\")\n",
        "else:\n",
        "    print(\"The set is not empty.\")\n"
      ],
      "metadata": {
        "colab": {
          "base_uri": "https://localhost:8080/"
        },
        "id": "7_CtkQD_hSLU",
        "outputId": "6c7478a5-2c3c-40a0-f2d5-e5172f24f544"
      },
      "execution_count": 9,
      "outputs": [
        {
          "output_type": "stream",
          "name": "stdout",
          "text": [
            "The set is empty.\n",
            "The set is empty.\n"
          ]
        }
      ]
    },
    {
      "cell_type": "code",
      "source": [
        "# 30. Create a nested set (hint: use frozenset).\n",
        "nested_set = {frozenset({1, 2}), frozenset({3, 4, 5}), frozenset({6, 7, 8})}\n",
        "\n",
        "print(\"Nested Set:\", nested_set)\n"
      ],
      "metadata": {
        "colab": {
          "base_uri": "https://localhost:8080/"
        },
        "id": "H8i9yPfwhSOW",
        "outputId": "cdfa552c-a507-4f9e-a7d3-86a6cd3e4c80"
      },
      "execution_count": 10,
      "outputs": [
        {
          "output_type": "stream",
          "name": "stdout",
          "text": [
            "Nested Set: {frozenset({3, 4, 5}), frozenset({8, 6, 7}), frozenset({1, 2})}\n"
          ]
        }
      ]
    },
    {
      "cell_type": "code",
      "source": [
        "# 31. Remove an element from a set using the discard method.\n",
        "my_set = {1, 2, 3, 4, 5}\n",
        "\n",
        "# Removing element 3 using discard()\n",
        "my_set.discard(3)\n",
        "\n",
        "print(\"Set after removing element 3:\", my_set)\n"
      ],
      "metadata": {
        "colab": {
          "base_uri": "https://localhost:8080/"
        },
        "id": "COpg8AaQhSRA",
        "outputId": "390efcef-86ef-4ae7-ad17-6d3179ea658f"
      },
      "execution_count": 11,
      "outputs": [
        {
          "output_type": "stream",
          "name": "stdout",
          "text": [
            "Set after removing element 3: {1, 2, 4, 5}\n"
          ]
        }
      ]
    },
    {
      "cell_type": "code",
      "source": [
        "# 32. Compare two sets.\n",
        "set1 = {1, 2, 3, 4, 5}\n",
        "set2 = {5, 4, 3, 2, 1}\n",
        "\n",
        "if set1 == set2:\n",
        "    print(\"The sets are equal.\")\n",
        "else:\n",
        "    print(\"The sets are not equal.\")\n"
      ],
      "metadata": {
        "colab": {
          "base_uri": "https://localhost:8080/"
        },
        "id": "YlerPQFbhST8",
        "outputId": "33ff2852-1464-4d08-ad65-0a8cd4d9e538"
      },
      "execution_count": 12,
      "outputs": [
        {
          "output_type": "stream",
          "name": "stdout",
          "text": [
            "The sets are equal.\n"
          ]
        }
      ]
    },
    {
      "cell_type": "code",
      "source": [
        "# 33. Create a set from a string.\n",
        "my_string = \"hello\"\n",
        "my_set = set(my_string)\n",
        "\n",
        "print(\"Original String:\", my_string)\n",
        "print(\"Set from String:\", my_set)\n"
      ],
      "metadata": {
        "colab": {
          "base_uri": "https://localhost:8080/"
        },
        "id": "lV6p5np3hSXC",
        "outputId": "a57edbe6-286a-43bd-a907-985c27da9047"
      },
      "execution_count": 13,
      "outputs": [
        {
          "output_type": "stream",
          "name": "stdout",
          "text": [
            "Original String: hello\n",
            "Set from String: {'l', 'e', 'h', 'o'}\n"
          ]
        }
      ]
    },
    {
      "cell_type": "code",
      "source": [
        "# 34. Convert a set of strings to a set of integers.\n",
        "set_of_strings = {\"1\", \"2\", \"3\", \"4\", \"5\"}\n",
        "set_of_integers = {int(x) for x in set_of_strings}\n",
        "\n",
        "print(\"Set of Strings:\", set_of_strings)\n",
        "print(\"Set of Integers:\", set_of_integers)\n"
      ],
      "metadata": {
        "colab": {
          "base_uri": "https://localhost:8080/"
        },
        "id": "TFUFAp7VhTCm",
        "outputId": "d141eff7-36b6-4928-cf1a-1ebb844565f5"
      },
      "execution_count": 14,
      "outputs": [
        {
          "output_type": "stream",
          "name": "stdout",
          "text": [
            "Set of Strings: {'2', '4', '5', '3', '1'}\n",
            "Set of Integers: {1, 2, 3, 4, 5}\n"
          ]
        }
      ]
    },
    {
      "cell_type": "code",
      "source": [
        "# 35. Convert a set of integers to a set of strings.\n",
        "set_of_integers = {1, 2, 3, 4, 5}\n",
        "set_of_strings = {str(x) for x in set_of_integers}\n",
        "\n",
        "print(\"Set of Integers:\", set_of_integers)\n",
        "print(\"Set of Strings:\", set_of_strings)\n"
      ],
      "metadata": {
        "colab": {
          "base_uri": "https://localhost:8080/"
        },
        "id": "1jyEpwGZhTFI",
        "outputId": "6401000a-a042-4673-b180-256ad5a89a92"
      },
      "execution_count": 15,
      "outputs": [
        {
          "output_type": "stream",
          "name": "stdout",
          "text": [
            "Set of Integers: {1, 2, 3, 4, 5}\n",
            "Set of Strings: {'4', '5', '1', '2', '3'}\n"
          ]
        }
      ]
    },
    {
      "cell_type": "code",
      "source": [
        "# 36. Create a set from a tuple.\n",
        "my_tuple = (1, 2, 3, 4, 5)\n",
        "my_set = set(my_tuple)\n",
        "\n",
        "print(\"Original Tuple:\", my_tuple)\n",
        "print(\"Set from Tuple:\", my_set)\n"
      ],
      "metadata": {
        "colab": {
          "base_uri": "https://localhost:8080/"
        },
        "id": "8WII2BqZhTH-",
        "outputId": "972f51f4-5227-43f3-e3ff-d74d8e5aa825"
      },
      "execution_count": 16,
      "outputs": [
        {
          "output_type": "stream",
          "name": "stdout",
          "text": [
            "Original Tuple: (1, 2, 3, 4, 5)\n",
            "Set from Tuple: {1, 2, 3, 4, 5}\n"
          ]
        }
      ]
    },
    {
      "cell_type": "code",
      "source": [
        "# 37. Convert a set to a tuple.\n",
        "my_set = {1, 2, 3, 4, 5}\n",
        "my_tuple = tuple(my_set)\n",
        "\n",
        "print(\"Original Set:\", my_set)\n",
        "print(\"Tuple from Set:\", my_tuple)\n"
      ],
      "metadata": {
        "colab": {
          "base_uri": "https://localhost:8080/"
        },
        "id": "1RY9lfeDhTKk",
        "outputId": "3b6019b6-a9f6-4a1e-b396-107f94d9dd72"
      },
      "execution_count": 17,
      "outputs": [
        {
          "output_type": "stream",
          "name": "stdout",
          "text": [
            "Original Set: {1, 2, 3, 4, 5}\n",
            "Tuple from Set: (1, 2, 3, 4, 5)\n"
          ]
        }
      ]
    },
    {
      "cell_type": "code",
      "source": [
        "# 38. Find the maximum value in a set.\n",
        "my_set = {10, 5, 8, 15, 3}\n",
        "max_value = max(my_set)\n",
        "\n",
        "print(\"Original Set:\", my_set)\n",
        "print(\"Maximum Value in Set:\", max_value)\n"
      ],
      "metadata": {
        "colab": {
          "base_uri": "https://localhost:8080/"
        },
        "id": "eqc5X-tzhTNM",
        "outputId": "3facdd5b-9237-40cf-8aa3-be16c1ebc486"
      },
      "execution_count": 18,
      "outputs": [
        {
          "output_type": "stream",
          "name": "stdout",
          "text": [
            "Original Set: {3, 5, 8, 10, 15}\n",
            "Maximum Value in Set: 15\n"
          ]
        }
      ]
    },
    {
      "cell_type": "code",
      "source": [
        "#39. Find the minimum value in a set.\n",
        "my_set = {10, 5, 8, 15, 3}\n",
        "min_value = min(my_set)\n",
        "\n",
        "print(\"Original Set:\", my_set)\n",
        "print(\"Minimum Value in Set:\", min_value)\n"
      ],
      "metadata": {
        "colab": {
          "base_uri": "https://localhost:8080/"
        },
        "id": "4Y7bIlv0hTQD",
        "outputId": "d751903c-67bd-4fbd-dd29-0b8c94ca6c7d"
      },
      "execution_count": 19,
      "outputs": [
        {
          "output_type": "stream",
          "name": "stdout",
          "text": [
            "Original Set: {3, 5, 8, 10, 15}\n",
            "Minimum Value in Set: 3\n"
          ]
        }
      ]
    },
    {
      "cell_type": "code",
      "source": [
        "#40. Create a set from user input.\n",
        "user_input = input(\"Enter elements separated by spaces: \")\n",
        "\n",
        "# Split the user input into a list and convert each element to an integer\n",
        "elements = [int(x) for x in user_input.split()]\n",
        "\n",
        "# Create a set from the list of integers\n",
        "my_set = set(elements)\n",
        "\n",
        "print(\"Set from User Input:\", my_set)\n"
      ],
      "metadata": {
        "colab": {
          "base_uri": "https://localhost:8080/"
        },
        "id": "qDvn-q2uhTSX",
        "outputId": "fb05c031-d493-417e-cc89-0d1fa76f7ed2"
      },
      "execution_count": 20,
      "outputs": [
        {
          "output_type": "stream",
          "name": "stdout",
          "text": [
            "Enter elements separated by spaces: 1 2 3 4 5 \n",
            "Set from User Input: {1, 2, 3, 4, 5}\n"
          ]
        }
      ]
    },
    {
      "cell_type": "code",
      "source": [
        "# 41. Check if the intersection of two sets is empty.\n",
        "set1 = {1, 2, 3, 4, 5}\n",
        "set2 = {4, 5, 6, 7, 8}\n",
        "\n",
        "intersection_result = set1.intersection(set2)\n",
        "\n",
        "if not intersection_result:\n",
        "    print(\"The sets have no common elements (intersection is empty).\")\n",
        "else:\n",
        "    print(\"The sets have common elements.\")\n",
        "\n"
      ],
      "metadata": {
        "colab": {
          "base_uri": "https://localhost:8080/"
        },
        "id": "qwzxc04dlP1M",
        "outputId": "deffc350-83cb-4d1e-a3c1-56aa5fa938ca"
      },
      "execution_count": 21,
      "outputs": [
        {
          "output_type": "stream",
          "name": "stdout",
          "text": [
            "The sets have common elements.\n"
          ]
        }
      ]
    },
    {
      "cell_type": "code",
      "source": [
        "# 42. Create a set of the first 5 Fibonacci numbers.\n",
        "def generate_fibonacci(n):\n",
        "    fibonacci_set = set()\n",
        "    a, b = 0, 1\n",
        "    for _ in range(n):\n",
        "        fibonacci_set.add(a)\n",
        "        a, b = b, a + b\n",
        "    return fibonacci_set\n",
        "\n",
        "first_5_fibonacci = generate_fibonacci(5)\n",
        "print(\"Set of the first 5 Fibonacci numbers:\", first_5_fibonacci)\n"
      ],
      "metadata": {
        "colab": {
          "base_uri": "https://localhost:8080/"
        },
        "id": "eJv2lHABlnBn",
        "outputId": "bbd1480d-93a0-4620-9ebd-18cafb5fb575"
      },
      "execution_count": 22,
      "outputs": [
        {
          "output_type": "stream",
          "name": "stdout",
          "text": [
            "Set of the first 5 Fibonacci numbers: {0, 1, 2, 3}\n"
          ]
        }
      ]
    },
    {
      "cell_type": "code",
      "source": [
        "# 43. Remove duplicates from a list using sets.\n",
        "original_list = [1, 2, 3, 1, 4, 2, 5, 6]\n",
        "\n",
        "# Use set to remove duplicates and convert it back to a list\n",
        "unique_list = list(set(original_list))\n",
        "\n",
        "print(\"Original List:\", original_list)\n",
        "print(\"List with Duplicates Removed:\", unique_list)\n"
      ],
      "metadata": {
        "colab": {
          "base_uri": "https://localhost:8080/"
        },
        "id": "o8Biw5c4lnEm",
        "outputId": "b635990a-8ae4-41bb-b331-9bd8ecba080a"
      },
      "execution_count": 23,
      "outputs": [
        {
          "output_type": "stream",
          "name": "stdout",
          "text": [
            "Original List: [1, 2, 3, 1, 4, 2, 5, 6]\n",
            "List with Duplicates Removed: [1, 2, 3, 4, 5, 6]\n"
          ]
        }
      ]
    },
    {
      "cell_type": "code",
      "source": [
        "# 44. Check if two sets have the same elements, regardless of their count.\n",
        "set1 = {1, 2, 3, 4, 5}\n",
        "set2 = {5, 4, 3, 2, 1, 1, 1}  # Adding duplicates and extra elements\n",
        "\n",
        "if set1 == set2:\n",
        "    print(\"The sets have the same elements.\")\n",
        "else:\n",
        "    print(\"The sets do not have the same elements.\")\n"
      ],
      "metadata": {
        "colab": {
          "base_uri": "https://localhost:8080/"
        },
        "id": "yxzUI4TXlnHe",
        "outputId": "6d3aafbf-6452-46ad-e5fc-49a50ed87c5b"
      },
      "execution_count": 24,
      "outputs": [
        {
          "output_type": "stream",
          "name": "stdout",
          "text": [
            "The sets have the same elements.\n"
          ]
        }
      ]
    },
    {
      "cell_type": "code",
      "source": [
        "# 45 .  Create a set of the first `n` powers of 2.\n",
        "def generate_powers_of_2(n):\n",
        "    powers_of_2_set = {2 ** i for i in range(n)}\n",
        "    return powers_of_2_set\n",
        "\n",
        "n = 5\n",
        "first_n_powers_of_2 = generate_powers_of_2(n)\n",
        "print(f\"Set of the first {n} powers of 2:\", first_n_powers_of_2)\n"
      ],
      "metadata": {
        "colab": {
          "base_uri": "https://localhost:8080/"
        },
        "id": "kLtD2_MKlnK2",
        "outputId": "c6b7f4c7-1d99-44c1-c444-35c8b62a7144"
      },
      "execution_count": 25,
      "outputs": [
        {
          "output_type": "stream",
          "name": "stdout",
          "text": [
            "Set of the first 5 powers of 2: {1, 2, 4, 8, 16}\n"
          ]
        }
      ]
    },
    {
      "cell_type": "code",
      "source": [
        "# 46 . Find the common elements between a set and a list.\n",
        "my_set = {1, 2, 3, 4, 5}\n",
        "my_list = [3, 4, 5, 6, 7]\n",
        "\n",
        "common_elements = set(my_list) & my_set\n",
        "\n",
        "print(\"Set:\", my_set)\n",
        "print(\"List:\", my_list)\n",
        "print(\"Common Elements:\", common_elements)\n"
      ],
      "metadata": {
        "colab": {
          "base_uri": "https://localhost:8080/"
        },
        "id": "xNGnS2FjlnNs",
        "outputId": "1bb654a3-1f78-417b-a18c-db50eee7666a"
      },
      "execution_count": 26,
      "outputs": [
        {
          "output_type": "stream",
          "name": "stdout",
          "text": [
            "Set: {1, 2, 3, 4, 5}\n",
            "List: [3, 4, 5, 6, 7]\n",
            "Common Elements: {3, 4, 5}\n"
          ]
        }
      ]
    },
    {
      "cell_type": "code",
      "source": [
        "# 47 . Create a set of the first `n` triangular numbers.\n",
        "def generate_triangular_numbers(n):\n",
        "    triangular_numbers_set = {i * (i + 1) // 2 for i in range(1, n + 1)}\n",
        "    return triangular_numbers_set\n",
        "\n",
        "n = 5\n",
        "first_n_triangular_numbers = generate_triangular_numbers(n)\n",
        "print(f\"Set of the first {n} triangular numbers:\", first_n_triangular_numbers)\n"
      ],
      "metadata": {
        "colab": {
          "base_uri": "https://localhost:8080/"
        },
        "id": "fVcROCellnQk",
        "outputId": "44b26c00-035e-4ce9-ab8b-315993e2679b"
      },
      "execution_count": 27,
      "outputs": [
        {
          "output_type": "stream",
          "name": "stdout",
          "text": [
            "Set of the first 5 triangular numbers: {1, 3, 6, 10, 15}\n"
          ]
        }
      ]
    },
    {
      "cell_type": "code",
      "source": [
        "# 48. Check if a set contains another set as a subset.\n",
        "set1 = {1, 2, 3, 4, 5, 6}\n",
        "set2 = {2, 4, 6}\n",
        "\n",
        "if set2.issubset(set1):\n",
        "    print(\"set2 is a subset of set1.\")\n",
        "else:\n",
        "    print(\"set2 is not a subset of set1.\")\n"
      ],
      "metadata": {
        "colab": {
          "base_uri": "https://localhost:8080/"
        },
        "id": "uHnS12ILlnTN",
        "outputId": "fe93d7f9-6c8d-4624-d8a9-f81d0b7b0f4a"
      },
      "execution_count": 28,
      "outputs": [
        {
          "output_type": "stream",
          "name": "stdout",
          "text": [
            "set2 is a subset of set1.\n"
          ]
        }
      ]
    },
    {
      "cell_type": "code",
      "source": [
        "# 49. Create a set of alternating 1s and 0s of length `n`.\n",
        "n = 5\n",
        "alternating_set = {i % 2 for i in range(n)}\n",
        "\n",
        "print(f\"Set of alternating 1s and 0s of length {n}:\", alternating_set)\n"
      ],
      "metadata": {
        "colab": {
          "base_uri": "https://localhost:8080/"
        },
        "id": "PuAu2Gw-zx2A",
        "outputId": "a7392c02-b56c-49d2-dedd-81232bc6e3a9"
      },
      "execution_count": 29,
      "outputs": [
        {
          "output_type": "stream",
          "name": "stdout",
          "text": [
            "Set of alternating 1s and 0s of length 5: {0, 1}\n"
          ]
        }
      ]
    },
    {
      "cell_type": "code",
      "source": [
        "# 50 . Merge multiple sets into one.\n",
        "\n",
        "set1 = {1, 2, 3}\n",
        "set2 = {3, 4, 5}\n",
        "set3 = {5, 6, 7}\n",
        "\n",
        "merged_set = set1 | set2 | set3\n",
        "\n",
        "print(\"Set 1:\", set1)\n",
        "print(\"Set 2:\", set2)\n",
        "print(\"Set 3:\", set3)\n",
        "print(\"Merged Set:\", merged_set)\n"
      ],
      "metadata": {
        "colab": {
          "base_uri": "https://localhost:8080/"
        },
        "id": "dYfW-hqbzx4u",
        "outputId": "bb4061f3-69a9-4e6b-e0d7-f5de0129f4aa"
      },
      "execution_count": 30,
      "outputs": [
        {
          "output_type": "stream",
          "name": "stdout",
          "text": [
            "Set 1: {1, 2, 3}\n",
            "Set 2: {3, 4, 5}\n",
            "Set 3: {5, 6, 7}\n",
            "Merged Set: {1, 2, 3, 4, 5, 6, 7}\n"
          ]
        }
      ]
    },
    {
      "cell_type": "code",
      "source": [],
      "metadata": {
        "id": "34tA_2B6zx7g"
      },
      "execution_count": null,
      "outputs": []
    }
  ]
}