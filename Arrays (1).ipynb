{
  "nbformat": 4,
  "nbformat_minor": 0,
  "metadata": {
    "colab": {
      "provenance": []
    },
    "kernelspec": {
      "name": "python3",
      "display_name": "Python 3"
    },
    "language_info": {
      "name": "python"
    }
  },
  "cells": [
    {
      "cell_type": "code",
      "execution_count": 1,
      "metadata": {
        "colab": {
          "base_uri": "https://localhost:8080/"
        },
        "id": "epRLedyocb3s",
        "outputId": "c2a22aec-e392-4174-f983-adce8de2ac6b"
      },
      "outputs": [
        {
          "output_type": "stream",
          "name": "stdout",
          "text": [
            "The array contains duplicates.\n"
          ]
        }
      ],
      "source": [
        "# 1. Given an array, check if it contains any duplicates or not.\n",
        "# arr = [1, 2, 4, 2, 5, 9]\n",
        "arr = [1, 2, 4, 2, 5, 9]\n",
        "\n",
        "def has_duplicates(array):\n",
        "    seen = set()\n",
        "    for element in array:\n",
        "        if element in seen:\n",
        "            return True\n",
        "        seen.add(element)\n",
        "    return False\n",
        "\n",
        "result = has_duplicates(arr)\n",
        "\n",
        "if result:\n",
        "    print(\"The array contains duplicates.\")\n",
        "else:\n",
        "    print(\"The array does not contain duplicates.\")\n"
      ]
    },
    {
      "cell_type": "code",
      "source": [
        "# 2. Given an array and an integer k, rotate the array to the right by k steps.\n",
        "# arr = [1, 2, 3, 4, 5, 6, 7] k = 3\n",
        "\n",
        "def rotate_array(arr, k):\n",
        "    n = len(arr)\n",
        "    # Handle the case where k is greater than the array length\n",
        "    k = k % n\n",
        "    # Rotate the array using array slicing\n",
        "    rotated_array = arr[-k:] + arr[:-k]\n",
        "    return rotated_array\n",
        "\n",
        "arr = [1, 2, 3, 4, 5, 6, 7]\n",
        "k = 3\n",
        "\n",
        "result = rotate_array(arr, k)\n",
        "print(\"Original array:\", arr)\n",
        "print(\"Rotated array:\", result)\n"
      ],
      "metadata": {
        "colab": {
          "base_uri": "https://localhost:8080/"
        },
        "id": "IOoPHHxNcrGc",
        "outputId": "070be765-3782-4234-e3ef-2b1ddef2b696"
      },
      "execution_count": 2,
      "outputs": [
        {
          "output_type": "stream",
          "name": "stdout",
          "text": [
            "Original array: [1, 2, 3, 4, 5, 6, 7]\n",
            "Rotated array: [5, 6, 7, 1, 2, 3, 4]\n"
          ]
        }
      ]
    },
    {
      "cell_type": "code",
      "source": [
        "# 3. Reverse the given array in-place, means without using any extra data structure.\n",
        "# arr = [2, 4, 5, 7, 9, 12]\n",
        "def reverse_array_in_place(arr):\n",
        "    start, end = 0, len(arr) - 1\n",
        "    while start < end:\n",
        "        # Swap elements at start and end indices\n",
        "        arr[start], arr[end] = arr[end], arr[start]\n",
        "        # Move towards the center\n",
        "        start += 1\n",
        "        end -= 1\n",
        "\n",
        "arr = [2, 4, 5, 7, 9, 12]\n",
        "print(\"Original array:\", arr)\n",
        "\n",
        "reverse_array_in_place(arr)\n",
        "\n",
        "print(\"Reversed array:\", arr)\n"
      ],
      "metadata": {
        "colab": {
          "base_uri": "https://localhost:8080/"
        },
        "id": "BiME8Dcsga1a",
        "outputId": "90a5bd1f-a657-4f1b-d539-5d2346a4c54a"
      },
      "execution_count": 3,
      "outputs": [
        {
          "output_type": "stream",
          "name": "stdout",
          "text": [
            "Original array: [2, 4, 5, 7, 9, 12]\n",
            "Reversed array: [12, 9, 7, 5, 4, 2]\n"
          ]
        }
      ]
    },
    {
      "cell_type": "code",
      "source": [
        "# 4. Given an array of integers, find the maximum element in an array\n",
        "#.  arr = [10, 5, 20, 8, 15]\n",
        "arr = [10, 5, 20, 8, 15]\n",
        "\n",
        "def find_max_element(array):\n",
        "    if not array:\n",
        "        return None  # Return None for an empty array\n",
        "    max_element = array[0]\n",
        "    for element in array:\n",
        "        if element > max_element:\n",
        "            max_element = element\n",
        "    return max_element\n",
        "\n",
        "max_element = find_max_element(arr)\n",
        "\n",
        "print(\"The maximum element in the array is:\", max_element)\n"
      ],
      "metadata": {
        "colab": {
          "base_uri": "https://localhost:8080/"
        },
        "id": "xHBK32Hyhrlo",
        "outputId": "5231bd18-fce1-4844-9793-eccd8fa07e63"
      },
      "execution_count": 4,
      "outputs": [
        {
          "output_type": "stream",
          "name": "stdout",
          "text": [
            "The maximum element in the array is: 20\n"
          ]
        }
      ]
    },
    {
      "cell_type": "code",
      "source": [
        "# 5. Given a sorted array, remove the duplicate element without using any extra data structure.\n",
        "#.  arr = [1, 1, 2, 2, 2, 3, 3, 4, 4, 4, 5, 5]\n",
        "\n",
        "def remove_duplicates(arr):\n",
        "    if not arr:\n",
        "        return 0  # Return 0 for an empty array\n",
        "\n",
        "    # Initialize the index for the modified array\n",
        "    index = 1\n",
        "\n",
        "    # Iterate through the array\n",
        "    for i in range(1, len(arr)):\n",
        "        # If the current element is different from the previous one, update the modified array\n",
        "        if arr[i] != arr[i - 1]:\n",
        "            arr[index] = arr[i]\n",
        "            index += 1\n",
        "\n",
        "    return index\n",
        "\n",
        "arr = [1, 1, 2, 2, 2, 3, 3, 4, 4, 4, 5, 5]\n",
        "\n",
        "# Remove duplicates and get the new length of the array\n",
        "new_length = remove_duplicates(arr)\n",
        "\n",
        "# Print the modified array with unique elements\n",
        "print(\"Array with duplicates removed:\", arr[:new_length])\n"
      ],
      "metadata": {
        "colab": {
          "base_uri": "https://localhost:8080/"
        },
        "id": "DeEw08cMiJDO",
        "outputId": "576648ec-951d-4be4-c9ed-30cf608758bc"
      },
      "execution_count": 5,
      "outputs": [
        {
          "output_type": "stream",
          "name": "stdout",
          "text": [
            "Array with duplicates removed: [1, 2, 3, 4, 5]\n"
          ]
        }
      ]
    },
    {
      "cell_type": "code",
      "source": [],
      "metadata": {
        "id": "jlaEbbV6idTR"
      },
      "execution_count": null,
      "outputs": []
    }
  ]
}